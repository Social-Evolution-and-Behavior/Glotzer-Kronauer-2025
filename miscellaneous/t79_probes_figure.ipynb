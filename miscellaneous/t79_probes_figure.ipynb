{
 "cells": [
  {
   "cell_type": "code",
   "execution_count": 1,
   "metadata": {},
   "outputs": [
    {
     "name": "stdout",
     "output_type": "stream",
     "text": [
      "Initializing transcriptomics package\n",
      "Initializing HCR package\n",
      "Initializing plotting package\n"
     ]
    }
   ],
   "source": [
    "from pygenomeviz import GenomeViz\n",
    "import Bio.SeqIO as SeqIO\n",
    "import pandas as pd\n",
    "import matplotlib.pyplot as plt\n",
    "import numpy as np\n",
    "import re\n",
    "import os\n",
    "import subprocess\n",
    "import sys\n",
    "sys.path.append('/Users/giacomo.glotzer/Desktop/Rockefeller/Kronauer/analysis')\n",
    "from transcriptomics import * \n",
    "from hcr import *\n",
    "from plotting import * \n",
    "\n",
    "# Specify blast databases\n",
    "new_transcriptome_db_no_introns = \"/Users/giacomo.glotzer/Desktop/Rockefeller/Kronauer/transcriptome/mRNA_no_introns/mRNA_no_introns\"\n",
    "new_transcriptome_db_yes_introns = \"/Users/giacomo.glotzer/Desktop/Rockefeller/Kronauer/transcriptome/mRNA_yes_introns/mRNA_yes_introns\"\n",
    "all_intergenic_regions_db = \"/Users/giacomo.glotzer/Desktop/Rockefeller/Kronauer/transcriptome/intergenics/all_intergenic_regions\"\n",
    "\n",
    "# Load genome\n",
    "genome_fasta_path = '/Users/giacomo.glotzer/Desktop/Rockefeller/Kronauer/genome/Obir.assembly.v5.4.fasta'\n",
    "genome_seq = SeqIO.to_dict(SeqIO.parse(genome_fasta_path, \"fasta\"))\n",
    "\n",
    "# Load transcriptome\n",
    "tr = load_transcriptome_object(\"/Users/giacomo.glotzer/Desktop/Rockefeller/Kronauer/Analysis/biroi_transcriptome.pkl\")\n",
    "\n",
    "# Load or_db\n",
    "or_db = pd.read_excel('/Users/giacomo.glotzer/Desktop/Rockefeller/Kronauer/OR List.xlsx') "
   ]
  },
  {
   "cell_type": "code",
   "execution_count": 2,
   "metadata": {},
   "outputs": [],
   "source": [
    "# set main directory for writing files \n",
    "main_directory = '/Users/giacomo.glotzer/Desktop/Rockefeller/Kronauer/Analysis/hcr-probe-design/check_probe_design/'"
   ]
  },
  {
   "cell_type": "code",
   "execution_count": 3,
   "metadata": {},
   "outputs": [],
   "source": [
    "t79_intergenics_path = \"/Users/giacomo.glotzer/Desktop/Rockefeller/Kronauer/IDT HCR Orders Placed/T79 2024-10-26/T79-B2-intergenics-regions-2024-10-26.xlsx\"\n",
    "t79_exonic_path = \"/Users/giacomo.glotzer/Desktop/Rockefeller/Kronauer/IDT HCR Orders Placed/T79 2024-10-26/T79-B1-regions-2024-10-26.xlsx\""
   ]
  },
  {
   "cell_type": "code",
   "execution_count": 4,
   "metadata": {},
   "outputs": [],
   "source": [
    "exonic_regions = pd.read_excel(t79_exonic_path) \n",
    "exonic_regions = exonic_regions[\"Region\"].values"
   ]
  },
  {
   "cell_type": "code",
   "execution_count": 5,
   "metadata": {},
   "outputs": [],
   "source": [
    "intergenic_regions = pd.read_excel(t79_intergenics_path)\n",
    "intergenic_regions = intergenic_regions[\"Region\"].values"
   ]
  },
  {
   "cell_type": "code",
   "execution_count": 6,
   "metadata": {},
   "outputs": [
    {
     "name": "stdout",
     "output_type": "stream",
     "text": [
      "Number of genes:  12\n"
     ]
    }
   ],
   "source": [
    "TA = 79 \n",
    "\n",
    "# Get genes \n",
    "genes = or_db[or_db['tandem_array'] == TA]['gene_name'].values\n",
    "\n",
    "# Get gene objects from tr \n",
    "gene_objects = [tr.get_gene(gene) for gene in genes]\n",
    "\n",
    "# Print the number of genes \n",
    "print(\"Number of genes: \", len(gene_objects))"
   ]
  },
  {
   "cell_type": "code",
   "execution_count": 31,
   "metadata": {},
   "outputs": [
    {
     "data": {
      "image/png": "[encoded data removed]",
      "text/plain": [
       "<Figure size 1000x80 with 1 Axes>"
      ]
     },
     "metadata": {},
     "output_type": "display_data"
    }
   ],
   "source": [
    "# Create a new GenomeViz object\n",
    "plt.rcParams['font.family'] = 'sans-serif'\n",
    "plt.rcParams['font.sans-serif'] = ['Arial']\n",
    "\n",
    "gv = GenomeViz(track_align_type=\"center\", theme=\"light\", fig_width=5, fig_track_height=0.4)\n",
    "gv.set_scale_bar(ymargin=0.5, labelsize=6)\n",
    "\n",
    "# Get bounds \n",
    "probe_length = 60 \n",
    "chromosome = gene_objects[0].chromosome\n",
    "bounds = [gene_object.get_transcript_longest_bounds().get_bounds() for gene_object in gene_objects]\n",
    "min_start = int(np.min(bounds)) - 1000\n",
    "max_end = int(np.max(bounds)) + 1000\n",
    "\n",
    "track = gv.add_feature_track(chromosome, segments = (int(min_start), int(max_end)), labelsize=6)\n",
    "track.add_sublabel(size=6, ymargin=1)\n",
    "\n",
    "# Add gene models to plot \n",
    "for gene in gene_objects:\n",
    "    transcript = gene.get_transcript_longest_bounds()\n",
    "    bounds = transcript.get_bounds()\n",
    "    strand = 1 if transcript.strand == '+' else -1\n",
    "    track.add_feature(int(bounds[0]), \n",
    "                      int(bounds[1]), \n",
    "                      strand, \n",
    "                      plotstyle='arrow', \n",
    "                      fc=\"grey\", \n",
    "                      alpha=1, \n",
    "                      arrow_shaft_ratio = 0.5, \n",
    "                      label=re.sub(\"Or5-\", \"\", gene.name), \n",
    "                      ec=\"black\", \n",
    "                      lw=0, \n",
    "                      text_kws={'color': 'black', \n",
    "                                'rotation': 0, \n",
    "                                'vpos': 'top', \n",
    "                                'hpos': 'center', \n",
    "                                'size':6\n",
    "                                }\n",
    "                        )\n",
    "\n",
    "\"\"\"\n",
    "# Add UTRs to the plot\n",
    "for gene in gene_objects:\n",
    "    transcript = gene.get_transcript_longest_bounds()\n",
    "    strand = np.where(transcript.strand == '+', 1, -1) \n",
    "    for utr in transcript.utrs:\n",
    "        track.add_feature(int(utr.position[0]), int(utr.position[1]), strand, plotstyle=\"box\", lw=0, fc='grey', alpha=0.5)\n",
    "\"\"\"\n",
    "# Get the region of the genome \n",
    "forward_seq = str(genome_seq[chromosome].seq[min_start:max_end]).upper()\n",
    "reverse_seq = reverse_complement(forward_seq)\n",
    "\n",
    "## EXONIC \n",
    "# Annotate probe binding regions on forward strand \n",
    "for probe in exonic_regions:\n",
    "    positions = [m.start() for m in re.finditer(probe, forward_seq)]\n",
    "    for position in positions:\n",
    "        track.add_feature(min_start + position, min_start + position + probe_length, 1, plotstyle=\"box\", label = '', ec=\"none\", fc=\"magenta\", alpha=1)\n",
    "    # Add reverse complement\n",
    "    positions = [m.start() for m in re.finditer(probe, reverse_seq)]\n",
    "    for position in positions:\n",
    "        track.add_feature(max_end - position - probe_length, max_end - position, -1, plotstyle=\"box\", label = '', ec=\"none\", fc=\"magenta\", alpha=1)\n",
    "\n",
    "## INTERGENIC \n",
    "# Annotate probe binding regions on forward strand \n",
    "for probe in intergenic_regions:\n",
    "    positions = [m.start() for m in re.finditer(probe, forward_seq)]\n",
    "    for position in positions:\n",
    "        track.add_feature(min_start + position, min_start + position + probe_length, 1, plotstyle=\"box\", label = '', ec=\"none\", fc=\"blue\", alpha=1)\n",
    "    # Add reverse complement\n",
    "    positions = [m.start() for m in re.finditer(probe, reverse_seq)]\n",
    "    for position in positions:\n",
    "        track.add_feature(max_end - position - probe_length, max_end - position, -1, plotstyle=\"box\", label = '', ec=\"none\", fc=\"blue\", alpha=1)\n",
    "\n",
    "fig = gv.plotfig(dpi=200)\n",
    "\n",
    "## Artificial legend \n",
    "plt.plot([], color='magenta', label='Exonic probes', lw=4)\n",
    "plt.plot([], color='blue', label='Intergenic probes', lw=4)\n",
    "fig.legend(loc='lower center', fontsize=6, bbox_to_anchor=(0.5, -0.8), ncol=2, frameon=False)\n",
    "\n",
    "ax = fig.gca()\n",
    "ax.set_title(\"Tandem Array 79\", fontsize=6, color='black', y=1.4)\n",
    "\n",
    "\n",
    "fig.savefig(f\"/Users/giacomo.glotzer/Desktop/Rockefeller/Kronauer/lncRNA Paper/figure_pdfs/t79-probes.pdf\", pad_inches=0, dpi=200)\n",
    "\n",
    "plt.show()\n",
    "\n"
   ]
  },
  {
   "cell_type": "code",
   "execution_count": null,
   "metadata": {},
   "outputs": [],
   "source": []
  }
 ],
 "metadata": {
  "kernelspec": {
   "display_name": "antman",
   "language": "python",
   "name": "python3"
  },
  "language_info": {
   "codemirror_mode": {
    "name": "ipython",
    "version": 3
   },
   "file_extension": ".py",
   "mimetype": "text/x-python",
   "name": "python",
   "nbconvert_exporter": "python",
   "pygments_lexer": "ipython3",
   "version": "3.12.2"
  }
 },
 "nbformat": 4,
 "nbformat_minor": 2
}

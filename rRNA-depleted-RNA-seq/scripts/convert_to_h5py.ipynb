{
 "cells": [
  {
   "cell_type": "markdown",
   "metadata": {},
   "source": [
    "`antman` kernel"
   ]
  },
  {
   "cell_type": "markdown",
   "metadata": {},
   "source": [
    "## Convert coverage files to h5 files, split by chromosome \n",
    "Only need to do this once. h5 files allow for faster querying. "
   ]
  },
  {
   "cell_type": "code",
   "execution_count": null,
   "metadata": {},
   "outputs": [],
   "source": [
    "import Bio.SeqIO as SeqIO\n",
    "import numpy as np\n",
    "import h5py\n",
    "import os"
   ]
  },
  {
   "cell_type": "code",
   "execution_count": null,
   "metadata": {},
   "outputs": [],
   "source": [
    "# Load genome\n",
    "genome_fasta_path = '../genome/Obir.assembly.v5.4.fasta'\n",
    "genome_seq = SeqIO.to_dict(SeqIO.parse(genome_fasta_path, \"fasta\"))"
   ]
  },
  {
   "cell_type": "code",
   "execution_count": null,
   "metadata": {},
   "outputs": [],
   "source": [
    "# Get chromsizes for genome\n",
    "chromsizes = {}\n",
    "for chrom in genome_seq:\n",
    "    if \"Chr\" in chrom:\n",
    "        chromsizes[chrom] = len(genome_seq[chrom].seq)\n",
    "\n",
    "input_directory = \"../first_of_pair_strand_coverage\"  # Directory containing ~20 input files\n",
    "output_directory = \"../first_of_pair_strand_coverage_chrom_h5\"  # Directory to store split files\n",
    "\n",
    "# Ensure the output directory exists\n",
    "os.makedirs(output_directory, exist_ok=True)\n",
    "\n",
    "# Remove any existing files in the output directory\n",
    "for file_name in os.listdir(output_directory):\n",
    "    os.remove(os.path.join(output_directory, file_name))\n",
    "\n",
    "# Iterate over files in the input directory\n",
    "for file_name in os.listdir(input_directory):\n",
    "\n",
    "    # Initialize data storage for each chromosome\n",
    "    chromosome_data = {chrom: [] for chrom in chromsizes}\n",
    "\n",
    "    # Process the file\n",
    "    input_path = os.path.join(input_directory, file_name)\n",
    "    print(f\"Processing {input_path}\")\n",
    "    with open(input_path, 'r') as infile:\n",
    "        for line in infile:\n",
    "            columns = line.strip().split('\\t')\n",
    "            \n",
    "            chromosome, bp_index, coverage = columns\n",
    "            if chromosome in chromosome_data:\n",
    "                chromosome_data[chromosome].append(int(coverage))\n",
    "\n",
    "    # Validate size \n",
    "    for chrom, expected_size in chromsizes.items():\n",
    "        coverage_list = chromosome_data[chrom]\n",
    "        \n",
    "        # Ensure the correct size\n",
    "        if len(coverage_list) != expected_size:\n",
    "            raise ValueError(f\"Chromosome {chrom} has incorrect size: \"\n",
    "                                f\"expected {expected_size}, got {len(coverage_list)}\")\n",
    "        \n",
    "    # Write to output file\n",
    "    base_name = os.path.splitext(file_name)[0]\n",
    "    output_file = os.path.join(output_directory, f\"{base_name}.h5\")\n",
    "    with h5py.File(output_file, 'w') as f:\n",
    "        for chrom, coverage in chromosome_data.items():\n",
    "            f.create_dataset(chrom, data=np.array(coverage, dtype=int))\n",
    "    print(f\"Wrote {output_file}\")"
   ]
  },
  {
   "cell_type": "code",
   "execution_count": null,
   "metadata": {},
   "outputs": [],
   "source": [
    "# Get chromsizes for genome\n",
    "chromsizes = {}\n",
    "for chrom in genome_seq:\n",
    "    if \"Chr\" in chrom:\n",
    "        chromsizes[chrom] = len(genome_seq[chrom].seq)\n",
    "\n",
    "input_directory = \"../JL20240124_FemaleRNAseq_first_of_pair_strand_coverage\"  # Directory containing ~20 input files\n",
    "output_directory = \"../JL20240124_FemaleRNAseq_first_of_pair_strand_coverage_chrom_h5\"  # Directory to store split files\n",
    "\n",
    "# Ensure the output directory exists\n",
    "os.makedirs(output_directory, exist_ok=True)\n",
    "\n",
    "# Remove any existing files in the output directory\n",
    "for file_name in os.listdir(output_directory):\n",
    "    os.remove(os.path.join(output_directory, file_name))\n",
    "\n",
    "# Iterate over files in the input directory\n",
    "for file_name in os.listdir(input_directory):\n",
    "\n",
    "    # Initialize data storage for each chromosome\n",
    "    chromosome_data = {chrom: [] for chrom in chromsizes}\n",
    "\n",
    "    # Process the file\n",
    "    input_path = os.path.join(input_directory, file_name)\n",
    "    print(f\"Processing {input_path}\")\n",
    "    with open(input_path, 'r') as infile:\n",
    "        for line in infile:\n",
    "            columns = line.strip().split('\\t')\n",
    "            \n",
    "            chromosome, bp_index, coverage = columns\n",
    "            if chromosome in chromosome_data:\n",
    "                chromosome_data[chromosome].append(int(coverage))\n",
    "\n",
    "    # Validate size \n",
    "    for chrom, expected_size in chromsizes.items():\n",
    "        coverage_list = chromosome_data[chrom]\n",
    "        \n",
    "        # Ensure the correct size\n",
    "        if len(coverage_list) != expected_size:\n",
    "            raise ValueError(f\"Chromosome {chrom} has incorrect size: \"\n",
    "                                f\"expected {expected_size}, got {len(coverage_list)}\")\n",
    "        \n",
    "    # Write to output file\n",
    "    base_name = os.path.splitext(file_name)[0]\n",
    "    output_file = os.path.join(output_directory, f\"{base_name}.h5\")\n",
    "    with h5py.File(output_file, 'w') as f:\n",
    "        for chrom, coverage in chromosome_data.items():\n",
    "            f.create_dataset(chrom, data=np.array(coverage, dtype=int))\n",
    "    print(f\"Wrote {output_file}\")"
   ]
  }
 ],
 "metadata": {
  "kernelspec": {
   "display_name": "antman",
   "language": "python",
   "name": "python3"
  },
  "language_info": {
   "codemirror_mode": {
    "name": "ipython",
    "version": 3
   },
   "file_extension": ".py",
   "mimetype": "text/x-python",
   "name": "python",
   "nbconvert_exporter": "python",
   "pygments_lexer": "ipython3",
   "version": "3.12.3"
  }
 },
 "nbformat": 4,
 "nbformat_minor": 2
}

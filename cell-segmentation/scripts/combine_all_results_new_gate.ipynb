{
 "cells": [
  {
   "cell_type": "markdown",
   "id": "f15f0354",
   "metadata": {},
   "source": [
    "# 5. Combine Results"
   ]
  },
  {
   "cell_type": "markdown",
   "id": "14eed783",
   "metadata": {},
   "source": [
    "gg-napari-env"
   ]
  },
  {
   "cell_type": "code",
   "execution_count": 30,
   "id": "0105b4b6",
   "metadata": {},
   "outputs": [],
   "source": [
    "import numpy as np\n",
    "import pandas as pd\n",
    "import os "
   ]
  },
  {
   "cell_type": "code",
   "execution_count": 31,
   "id": "52e8f1ac",
   "metadata": {},
   "outputs": [],
   "source": [
    "normalization_quantile = 0.001\n",
    "chosen_OR_nuc_norm_threshold = 0.75\n",
    "chosen_OR_size_threshold = 400\n",
    "chosen_OR_border_threshold = 100 \n",
    "coexpression_nuc_norm_threshold = 0.1\n",
    "cyto_norm_threshold = 0.2\n",
    "cyto_nuc_ratio_threshold = 0.5"
   ]
  },
  {
   "cell_type": "code",
   "execution_count": 32,
   "id": "883ce3f9",
   "metadata": {},
   "outputs": [
    {
     "data": {
      "text/plain": [
       "['20250508 P14 T 9E89-b1-546 9E99-B2-647 DAPI',\n",
       " '20250307 B1 P14 U34-B3-546 Chymotrypsin-B2-647 DAPI',\n",
       " '20250328 1 P14 T79-intergenic-b2-647 T79-exonic-b1-546 DAPI',\n",
       " '20250325 6 P14 9E198-B3-488 9E197-B1-546 9E196-B2-647 DAPI',\n",
       " '20250328 5 P14 LOC603-b3-488 9E108-b1-546 9E116-b2-647 DAPI',\n",
       " '20250508 P14 T 9E99-b2-594 LOC105286072-B5-647 DAPI',\n",
       " '20250328 2 P14 R2-b3-488 Q1-b1-546 Lnc6-b2-647 DAPI',\n",
       " '20250325 5 P14 G1-b1-546 lnc7-B2-647 DAPI',\n",
       " '20250523 C P14 T U54-647 Lnc4-546 DAPI',\n",
       " '20250523 A P14 T 9E213-546 9E214-488 Intergenic-647 DAPI',\n",
       " '20250325 4 P14 U34-B3-488 lnc4-B1-546 U21-B5-647 DAPI',\n",
       " '20250328 3 P14 Lnc3-b3-488 L16-b2-594 Lnc2-b5-647 DAPI',\n",
       " '20250701 A P14 9E118-EXONS-B1-546 9E118-INTRONS-B2-647 9E129-B3-488 DAPI',\n",
       " '20250328 4 P14 9E129-b3-488 LOC104-b1-546 9E116-b2-647 DAPI',\n",
       " '20250701 F P14 U34-b3-546 Orco-b4-647 DAPI',\n",
       " '20250523 B P14 T 9E88-546 Lnc-647 DAPI']"
      ]
     },
     "execution_count": 32,
     "metadata": {},
     "output_type": "execute_result"
    }
   ],
   "source": [
    "raw_data_dirs = os.listdir('../../../RNA-FISH-raw-data/')\n",
    "raw_data_p14 = [d for d in raw_data_dirs if '14' in d]\n",
    "raw_data_p14"
   ]
  },
  {
   "cell_type": "code",
   "execution_count": 49,
   "id": "ad9fb18b",
   "metadata": {},
   "outputs": [
    {
     "name": "stdout",
     "output_type": "stream",
     "text": [
      "Using 20250701 F P14 U34-b3-546 Orco-b4-647 DAPI as input directory\n",
      "Found 6 czi files in ../../../RNA-FISH-raw-data/20250701 F P14 U34-b3-546 Orco-b4-647 DAPI/\n",
      "['20250701 F sample 3 stack.czi', '20250701 F sample 2 stack.czi', '20250701 F sample 1 stack.czi', '20250701 F sample 6 stack.czi', '20250701 F sample 5 stack.czi', '20250701 F sample 4 stack.czi']\n"
     ]
    }
   ],
   "source": [
    "input = 'Orco'\n",
    "input = [d for d in raw_data_dirs if input in d][0]\n",
    "print(f'Using {input} as input directory')\n",
    "input_dir = f'../../../RNA-FISH-raw-data/{input}/'\n",
    "assert os.path.exists(input_dir), 'Input directory does not exist'\n",
    "czi_files = [f for f in os.listdir(input_dir) if f.endswith('.czi')]\n",
    "print(f\"Found {len(czi_files)} czi files in {input_dir}\")\n",
    "print(czi_files)"
   ]
  },
  {
   "cell_type": "code",
   "execution_count": 50,
   "id": "9b61f51d",
   "metadata": {},
   "outputs": [],
   "source": [
    "channels = [\"AF546\", \"AF647\"]\n",
    "channel_names = [\"U34\", \"Orco\"]"
   ]
  },
  {
   "cell_type": "code",
   "execution_count": 51,
   "id": "1e3a1a7e",
   "metadata": {},
   "outputs": [
    {
     "data": {
      "text/plain": [
       "'channels = [\"AF546\", \"AF647\"]\\nchannel_names = [\"9E89\", \"9E99\"]'"
      ]
     },
     "execution_count": 51,
     "metadata": {},
     "output_type": "execute_result"
    }
   ],
   "source": [
    "\"\"\"channels = [\"AF546\", \"AF647\"]\n",
    "channel_names = [\"9E89\", \"9E99\"]\"\"\""
   ]
  },
  {
   "cell_type": "code",
   "execution_count": 52,
   "id": "65619134",
   "metadata": {},
   "outputs": [
    {
     "data": {
      "text/plain": [
       "'channels = [\"AF546\", \"AF647\"]\\nchannel_names = [\"U34\", \"Chymotrypsin\"]'"
      ]
     },
     "execution_count": 52,
     "metadata": {},
     "output_type": "execute_result"
    }
   ],
   "source": [
    "\"\"\"channels = [\"AF546\", \"AF647\"]\n",
    "channel_names = [\"U34\", \"Chymotrypsin\"]\"\"\""
   ]
  },
  {
   "cell_type": "code",
   "execution_count": 53,
   "id": "96ec7a5f",
   "metadata": {},
   "outputs": [
    {
     "data": {
      "text/plain": [
       "'channels = [\\'AF546\\', \\'AF488\\', \\'AF647\\']\\nchannel_names = [\"9E197\", \"9E198\", \"9E196\"]'"
      ]
     },
     "execution_count": 53,
     "metadata": {},
     "output_type": "execute_result"
    }
   ],
   "source": [
    "\"\"\"channels = ['AF546', 'AF488', 'AF647']\n",
    "channel_names = [\"9E197\", \"9E198\", \"9E196\"]\"\"\""
   ]
  },
  {
   "cell_type": "code",
   "execution_count": 54,
   "id": "bdfdc73d",
   "metadata": {},
   "outputs": [
    {
     "data": {
      "text/plain": [
       "'channels = [\\'AF546\\', \\'AF488\\', \\'AF647\\']\\nchannel_names = [\"9E108\", \"LOC105282603\", \"9E116\"]'"
      ]
     },
     "execution_count": 54,
     "metadata": {},
     "output_type": "execute_result"
    }
   ],
   "source": [
    "\"\"\"channels = ['AF546', 'AF488', 'AF647']\n",
    "channel_names = [\"9E108\", \"LOC105282603\", \"9E116\"]\"\"\""
   ]
  },
  {
   "cell_type": "code",
   "execution_count": 55,
   "id": "d1998334",
   "metadata": {},
   "outputs": [
    {
     "data": {
      "text/plain": [
       "'channels = [\\'AF546\\', \\'AF488\\', \\'AF647\\']\\nchannel_names = [\"P1\", \"PR\", \"P2\"]'"
      ]
     },
     "execution_count": 55,
     "metadata": {},
     "output_type": "execute_result"
    }
   ],
   "source": [
    "\"\"\"channels = ['AF546', 'AF488', 'AF647']\n",
    "channel_names = [\"P1\", \"PR\", \"P2\"]\"\"\""
   ]
  },
  {
   "cell_type": "code",
   "execution_count": 56,
   "id": "60b1bef7",
   "metadata": {},
   "outputs": [],
   "source": [
    "results_dir = f'../results/{input}'\n",
    "results_files = os.listdir(results_dir)\n",
    "results_files = [f for f in results_files if f.endswith('with_overlap.csv')]\n",
    "\n",
    "# Load all results \n",
    "results = pd.DataFrame() \n",
    "for f in results_files:\n",
    "    results_path = os.path.join(results_dir, f)\n",
    "    results_individual = pd.read_csv(results_path)\n",
    "    results_individual.columns = results_individual.columns.str.split('-T').str[0]\n",
    "    results = pd.concat([results, results_individual], axis=0) \n",
    "results = results.reset_index(drop=True)"
   ]
  },
  {
   "cell_type": "code",
   "execution_count": 57,
   "id": "0f7c8eab",
   "metadata": {},
   "outputs": [],
   "source": [
    "# Drop rows where \"BAD\" is in the \"image\" column \n",
    "results = results[~results['image'].str.contains('BAD')]"
   ]
  },
  {
   "cell_type": "code",
   "execution_count": 58,
   "id": "eaa89ab5",
   "metadata": {},
   "outputs": [],
   "source": [
    "# ------------------------------------------------------------------\n",
    "# Parameters you are likely to tweak\n",
    "# ------------------------------------------------------------------\n",
    "tail_quantile      = 0.998       # 99.8 th pct  →  0.2 % false-positive target\n",
    "gate_zscore        = 1.0         # z ≥ 1  ⇒  brighter than 99.8 % of negatives\n",
    "eps                = 1e-12       # keep denominators > 0\n",
    "chosen_OR_border_threshold = 100  # as before\n",
    "chosen_OR_nuc_area_threshold = 400 # as before\n",
    "# ------------------------------------------------------------------\n",
    "\n",
    "# ---------------------------------------------------------------\n",
    "# 1 ▸  Normalise:  “tail-z” per image × channel × compartment\n",
    "# ---------------------------------------------------------------\n",
    "for channel in channels:\n",
    "    nuc_src   = f'{channel}-nucleus-mean'\n",
    "    cyt_src   = f'{channel}-cyto-mean'\n",
    "    nuc_z_col = f'{channel}-nuc-norm'\n",
    "    cyt_z_col = f'{channel}-cyto-norm'\n",
    "    \n",
    "    for img in results['image'].unique():\n",
    "        msk = results['image'].eq(img)\n",
    "\n",
    "        # ── nucleus ──────────────────────────────────────────────\n",
    "        nuc_vals = results.loc[msk, nuc_src].values\n",
    "        med_n    = np.median(nuc_vals)\n",
    "        sig_n    = np.quantile(nuc_vals, tail_quantile) - med_n\n",
    "        sig_n    = max(sig_n, eps)\n",
    "        results.loc[msk, nuc_z_col] = (nuc_vals - med_n) / sig_n\n",
    "\n",
    "        # ── cytoplasm ────────────────────────────────────────────\n",
    "        cyt_vals = results.loc[msk, cyt_src].values\n",
    "        med_c    = np.median(cyt_vals)\n",
    "        sig_c    = np.quantile(cyt_vals, tail_quantile) - med_c\n",
    "        sig_c    = max(sig_c, eps)\n",
    "        results.loc[msk, cyt_z_col] = (cyt_vals - med_c) / sig_c\n",
    "\n",
    "    # optional: nucleus-to-cyto ratio in the same metric\n",
    "    results[f'{channel}-cyto-nuc-ratio'] = (\n",
    "        results[cyt_z_col] / (results[nuc_z_col] + eps)\n",
    "    )\n",
    "\n",
    "# ---------------------------------------------------------------\n",
    "# 2 ▸  Gate:  call “positive cytoplasmic” with the new z-scores\n",
    "# ---------------------------------------------------------------\n",
    "for channel in channels:\n",
    "    z_nuc = f'{channel}-nuc-norm'\n",
    "    z_cyt = f'{channel}-cyto-norm'\n",
    "    ratio = f'{channel}-cyto-nuc-ratio'\n",
    "    \n",
    "    results[f'{channel}-cytoplasmic'] = (\n",
    "        (results['border_pxls']  > chosen_OR_border_threshold) &\n",
    "        (results['nucleus_area'] > chosen_OR_nuc_area_threshold) &\n",
    "        (results[z_cyt]          >= gate_zscore) &\n",
    "        (results[z_nuc]          >= gate_zscore)\n",
    "    )\n",
    "\n",
    "# ---------------------------------------------------------------\n",
    "# 3 ▸  Everything downstream: just swap *-norm → *-z columns\n",
    "# ---------------------------------------------------------------\n",
    "results_melted = []\n",
    "for channel in channels:\n",
    "    subset = results[results[f'{channel}-cytoplasmic']]\n",
    "\n",
    "    # cytoplasm\n",
    "    melt_c = subset.melt(\n",
    "        id_vars=['image','z','z_id','border_pxls','nucleus_area'],\n",
    "        value_vars=[c + \"-cyto-norm\" for c in channels],\n",
    "        var_name='channel', value_name='cyto-norm'\n",
    "    )\n",
    "    melt_c['channel'] = melt_c['channel'].str.replace('-cyto-norm','')\n",
    "    melt_c['cytoplasmic_channel'] = channel\n",
    "\n",
    "    # nucleus\n",
    "    melt_n = subset.melt(\n",
    "        id_vars=['image','z','z_id','border_pxls','nucleus_area'],\n",
    "        value_vars=[c + \"-nuc-norm\" for c in channels],\n",
    "        var_name='channel', value_name='nuc-norm'\n",
    "    )\n",
    "    melt_n['channel'] = melt_n['channel'].str.replace('-nuc-norm','')\n",
    "    melt_n['cytoplasmic_channel'] = channel\n",
    "\n",
    "    # merge & annotate\n",
    "    merged = pd.merge(\n",
    "        melt_c, melt_n,\n",
    "        on=['image','z','z_id','cytoplasmic_channel','channel',\n",
    "            'border_pxls','nucleus_area']\n",
    "    )\n",
    "    merged['channel_name']     = merged['channel'].map(dict(zip(channels, channel_names)))\n",
    "    merged['chosen_OR_name']   = merged['cytoplasmic_channel'].map(dict(zip(channels, channel_names))) + \" chosen OR\"\n",
    "    results_melted.append(merged)\n",
    "\n",
    "results_melted = pd.concat(results_melted, axis=0)\n"
   ]
  },
  {
   "cell_type": "code",
   "execution_count": 59,
   "id": "2098f522",
   "metadata": {},
   "outputs": [
    {
     "data": {
      "text/html": [
       "<div>\n",
       "<style scoped>\n",
       "    .dataframe tbody tr th:only-of-type {\n",
       "        vertical-align: middle;\n",
       "    }\n",
       "\n",
       "    .dataframe tbody tr th {\n",
       "        vertical-align: top;\n",
       "    }\n",
       "\n",
       "    .dataframe thead th {\n",
       "        text-align: right;\n",
       "    }\n",
       "</style>\n",
       "<table border=\"1\" class=\"dataframe\">\n",
       "  <thead>\n",
       "    <tr style=\"text-align: right;\">\n",
       "      <th></th>\n",
       "      <th>image</th>\n",
       "      <th>z</th>\n",
       "      <th>z_id</th>\n",
       "      <th>border_pxls</th>\n",
       "      <th>nucleus_area</th>\n",
       "      <th>channel</th>\n",
       "      <th>cyto-norm</th>\n",
       "      <th>cytoplasmic_channel</th>\n",
       "      <th>nuc-norm</th>\n",
       "      <th>channel_name</th>\n",
       "      <th>chosen_OR_name</th>\n",
       "    </tr>\n",
       "  </thead>\n",
       "  <tbody>\n",
       "    <tr>\n",
       "      <th>0</th>\n",
       "      <td>20250701 F sample 6 stack.czi</td>\n",
       "      <td>32</td>\n",
       "      <td>109</td>\n",
       "      <td>246</td>\n",
       "      <td>661.0</td>\n",
       "      <td>AF546</td>\n",
       "      <td>1.162066</td>\n",
       "      <td>AF546</td>\n",
       "      <td>1.046611</td>\n",
       "      <td>U34</td>\n",
       "      <td>U34 chosen OR</td>\n",
       "    </tr>\n",
       "    <tr>\n",
       "      <th>1</th>\n",
       "      <td>20250701 F sample 6 stack.czi</td>\n",
       "      <td>41</td>\n",
       "      <td>97</td>\n",
       "      <td>176</td>\n",
       "      <td>756.0</td>\n",
       "      <td>AF546</td>\n",
       "      <td>1.361285</td>\n",
       "      <td>AF546</td>\n",
       "      <td>1.211351</td>\n",
       "      <td>U34</td>\n",
       "      <td>U34 chosen OR</td>\n",
       "    </tr>\n",
       "    <tr>\n",
       "      <th>2</th>\n",
       "      <td>20250701 F sample 6 stack.czi</td>\n",
       "      <td>42</td>\n",
       "      <td>100</td>\n",
       "      <td>168</td>\n",
       "      <td>657.0</td>\n",
       "      <td>AF546</td>\n",
       "      <td>1.701891</td>\n",
       "      <td>AF546</td>\n",
       "      <td>1.176246</td>\n",
       "      <td>U34</td>\n",
       "      <td>U34 chosen OR</td>\n",
       "    </tr>\n",
       "    <tr>\n",
       "      <th>3</th>\n",
       "      <td>20250701 F sample 6 stack.czi</td>\n",
       "      <td>43</td>\n",
       "      <td>95</td>\n",
       "      <td>204</td>\n",
       "      <td>478.0</td>\n",
       "      <td>AF546</td>\n",
       "      <td>2.280385</td>\n",
       "      <td>AF546</td>\n",
       "      <td>1.162310</td>\n",
       "      <td>U34</td>\n",
       "      <td>U34 chosen OR</td>\n",
       "    </tr>\n",
       "    <tr>\n",
       "      <th>4</th>\n",
       "      <td>20250701 F sample 6 stack.czi</td>\n",
       "      <td>45</td>\n",
       "      <td>80</td>\n",
       "      <td>249</td>\n",
       "      <td>905.0</td>\n",
       "      <td>AF546</td>\n",
       "      <td>1.160801</td>\n",
       "      <td>AF546</td>\n",
       "      <td>1.288923</td>\n",
       "      <td>U34</td>\n",
       "      <td>U34 chosen OR</td>\n",
       "    </tr>\n",
       "    <tr>\n",
       "      <th>...</th>\n",
       "      <td>...</td>\n",
       "      <td>...</td>\n",
       "      <td>...</td>\n",
       "      <td>...</td>\n",
       "      <td>...</td>\n",
       "      <td>...</td>\n",
       "      <td>...</td>\n",
       "      <td>...</td>\n",
       "      <td>...</td>\n",
       "      <td>...</td>\n",
       "      <td>...</td>\n",
       "    </tr>\n",
       "    <tr>\n",
       "      <th>251</th>\n",
       "      <td>20250701 F sample 2 stack.czi</td>\n",
       "      <td>76</td>\n",
       "      <td>170</td>\n",
       "      <td>172</td>\n",
       "      <td>484.0</td>\n",
       "      <td>AF647</td>\n",
       "      <td>1.096436</td>\n",
       "      <td>AF647</td>\n",
       "      <td>1.058528</td>\n",
       "      <td>Orco</td>\n",
       "      <td>Orco chosen OR</td>\n",
       "    </tr>\n",
       "    <tr>\n",
       "      <th>252</th>\n",
       "      <td>20250701 F sample 2 stack.czi</td>\n",
       "      <td>77</td>\n",
       "      <td>55</td>\n",
       "      <td>170</td>\n",
       "      <td>761.0</td>\n",
       "      <td>AF647</td>\n",
       "      <td>1.004846</td>\n",
       "      <td>AF647</td>\n",
       "      <td>1.203435</td>\n",
       "      <td>Orco</td>\n",
       "      <td>Orco chosen OR</td>\n",
       "    </tr>\n",
       "    <tr>\n",
       "      <th>253</th>\n",
       "      <td>20250701 F sample 2 stack.czi</td>\n",
       "      <td>78</td>\n",
       "      <td>57</td>\n",
       "      <td>275</td>\n",
       "      <td>852.0</td>\n",
       "      <td>AF647</td>\n",
       "      <td>1.294272</td>\n",
       "      <td>AF647</td>\n",
       "      <td>1.221081</td>\n",
       "      <td>Orco</td>\n",
       "      <td>Orco chosen OR</td>\n",
       "    </tr>\n",
       "    <tr>\n",
       "      <th>254</th>\n",
       "      <td>20250701 F sample 2 stack.czi</td>\n",
       "      <td>79</td>\n",
       "      <td>36</td>\n",
       "      <td>225</td>\n",
       "      <td>882.0</td>\n",
       "      <td>AF647</td>\n",
       "      <td>1.103374</td>\n",
       "      <td>AF647</td>\n",
       "      <td>1.081442</td>\n",
       "      <td>Orco</td>\n",
       "      <td>Orco chosen OR</td>\n",
       "    </tr>\n",
       "    <tr>\n",
       "      <th>255</th>\n",
       "      <td>20250701 F sample 2 stack.czi</td>\n",
       "      <td>79</td>\n",
       "      <td>45</td>\n",
       "      <td>265</td>\n",
       "      <td>907.0</td>\n",
       "      <td>AF647</td>\n",
       "      <td>1.102289</td>\n",
       "      <td>AF647</td>\n",
       "      <td>1.189358</td>\n",
       "      <td>Orco</td>\n",
       "      <td>Orco chosen OR</td>\n",
       "    </tr>\n",
       "  </tbody>\n",
       "</table>\n",
       "<p>614 rows × 11 columns</p>\n",
       "</div>"
      ],
      "text/plain": [
       "                             image   z  z_id  border_pxls  nucleus_area  \\\n",
       "0    20250701 F sample 6 stack.czi  32   109          246         661.0   \n",
       "1    20250701 F sample 6 stack.czi  41    97          176         756.0   \n",
       "2    20250701 F sample 6 stack.czi  42   100          168         657.0   \n",
       "3    20250701 F sample 6 stack.czi  43    95          204         478.0   \n",
       "4    20250701 F sample 6 stack.czi  45    80          249         905.0   \n",
       "..                             ...  ..   ...          ...           ...   \n",
       "251  20250701 F sample 2 stack.czi  76   170          172         484.0   \n",
       "252  20250701 F sample 2 stack.czi  77    55          170         761.0   \n",
       "253  20250701 F sample 2 stack.czi  78    57          275         852.0   \n",
       "254  20250701 F sample 2 stack.czi  79    36          225         882.0   \n",
       "255  20250701 F sample 2 stack.czi  79    45          265         907.0   \n",
       "\n",
       "    channel  cyto-norm cytoplasmic_channel  nuc-norm channel_name  \\\n",
       "0     AF546   1.162066               AF546  1.046611          U34   \n",
       "1     AF546   1.361285               AF546  1.211351          U34   \n",
       "2     AF546   1.701891               AF546  1.176246          U34   \n",
       "3     AF546   2.280385               AF546  1.162310          U34   \n",
       "4     AF546   1.160801               AF546  1.288923          U34   \n",
       "..      ...        ...                 ...       ...          ...   \n",
       "251   AF647   1.096436               AF647  1.058528         Orco   \n",
       "252   AF647   1.004846               AF647  1.203435         Orco   \n",
       "253   AF647   1.294272               AF647  1.221081         Orco   \n",
       "254   AF647   1.103374               AF647  1.081442         Orco   \n",
       "255   AF647   1.102289               AF647  1.189358         Orco   \n",
       "\n",
       "     chosen_OR_name  \n",
       "0     U34 chosen OR  \n",
       "1     U34 chosen OR  \n",
       "2     U34 chosen OR  \n",
       "3     U34 chosen OR  \n",
       "4     U34 chosen OR  \n",
       "..              ...  \n",
       "251  Orco chosen OR  \n",
       "252  Orco chosen OR  \n",
       "253  Orco chosen OR  \n",
       "254  Orco chosen OR  \n",
       "255  Orco chosen OR  \n",
       "\n",
       "[614 rows x 11 columns]"
      ]
     },
     "execution_count": 59,
     "metadata": {},
     "output_type": "execute_result"
    }
   ],
   "source": [
    "results_melted"
   ]
  },
  {
   "cell_type": "code",
   "execution_count": 60,
   "id": "09c1c039",
   "metadata": {},
   "outputs": [],
   "source": [
    "# Save the updated results\n",
    "results_path = os.path.join(results_dir, 'all_results_nuclei_cytoplasm_markers.csv')\n",
    "results.to_csv(results_path, index=False)"
   ]
  },
  {
   "cell_type": "code",
   "execution_count": 61,
   "id": "08ce8bd8",
   "metadata": {},
   "outputs": [],
   "source": [
    "# Save the melted results \n",
    "melted_results_path = os.path.join(results_dir, 'all_results_melted.csv')\n",
    "results_melted.to_csv(melted_results_path, index=False)"
   ]
  },
  {
   "cell_type": "code",
   "execution_count": 62,
   "id": "b8725c15",
   "metadata": {},
   "outputs": [
    {
     "data": {
      "text/plain": [
       "<Axes: xlabel='nuc_norm_log', ylabel='Count'>"
      ]
     },
     "execution_count": 62,
     "metadata": {},
     "output_type": "execute_result"
    },
    {
     "data": {
      "image/png": "[encoded data removed]",
      "text/plain": [
       "<Figure size 800x400 with 2 Axes>"
      ]
     },
     "metadata": {},
     "output_type": "display_data"
    }
   ],
   "source": [
    "import matplotlib.pyplot as plt\n",
    "import seaborn as sns\n",
    "# Plot density of log-intensities for different channels \n",
    "results_melted['cyto_norm_log'] = np.log1p(results_melted['cyto-norm'])\n",
    "results_melted['nuc_norm_log'] = np.log1p(results_melted['nuc-norm'])\n",
    "f, ax = plt.subplots(1, 2, figsize=(8, 4), sharex=True, sharey=True)\n",
    "sns.histplot(data=results_melted, x='cyto_norm_log', hue='channel_name', fill=True, common_norm=False, alpha=0.5, ax=ax[0])\n",
    "sns.histplot(data=results_melted, x='nuc_norm_log', hue='channel_name', fill=True, common_norm=False, alpha=0.5, ax=ax[1])"
   ]
  },
  {
   "cell_type": "code",
   "execution_count": null,
   "id": "f6ad1ee9",
   "metadata": {},
   "outputs": [],
   "source": []
  },
  {
   "cell_type": "code",
   "execution_count": null,
   "id": "2c2164ed",
   "metadata": {},
   "outputs": [],
   "source": []
  }
 ],
 "metadata": {
  "kernelspec": {
   "display_name": "gg-napari-env",
   "language": "python",
   "name": "python3"
  },
  "language_info": {
   "codemirror_mode": {
    "name": "ipython",
    "version": 3
   },
   "file_extension": ".py",
   "mimetype": "text/x-python",
   "name": "python",
   "nbconvert_exporter": "python",
   "pygments_lexer": "ipython3",
   "version": "3.12.8"
  }
 },
 "nbformat": 4,
 "nbformat_minor": 5
}

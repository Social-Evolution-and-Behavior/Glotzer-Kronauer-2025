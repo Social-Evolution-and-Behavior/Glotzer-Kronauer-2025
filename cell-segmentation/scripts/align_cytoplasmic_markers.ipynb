{
 "cells": [
  {
   "cell_type": "markdown",
   "metadata": {},
   "source": [
    "gg-napari-env"
   ]
  },
  {
   "cell_type": "code",
   "execution_count": 1,
   "metadata": {},
   "outputs": [],
   "source": [
    "import numpy as np\n",
    "import pandas as pd\n",
    "import os "
   ]
  },
  {
   "cell_type": "code",
   "execution_count": 2,
   "metadata": {},
   "outputs": [
    {
     "data": {
      "text/plain": [
       "['20250307 B1 P14 U34-B3-546 Chymotrypsin-B2-647 DAPI',\n",
       " '20250328 1 P14 T79-intergenic-b2-647 T79-exonic-b1-546 DAPI',\n",
       " '20250328 5 P14 LOC603-b3-488 9E108-b1-546 9E116-b2-647 DAPI',\n",
       " '20250325 5 p14 g1-b1-546 lnc7-b2-647 dapi',\n",
       " '20250328 2 P14 R2-b3-488 Q1-b1-546 Lnc6-b2-647 DAPI',\n",
       " '20250328 4 P14 9E129-b3-488 LOC104-b1-546 9E116-b2-647 dapi',\n",
       " '20250325 4 p14 u34-b3-488 lnc4-b1-546 u21-b5-647 dapi',\n",
       " '20250328 3 P14 Lnc3-b3-488 L16-b2-594 Lnc2-b5-647 DAPI']"
      ]
     },
     "execution_count": 2,
     "metadata": {},
     "output_type": "execute_result"
    }
   ],
   "source": [
    "raw_data_dirs = os.listdir('../raw-data/')\n",
    "raw_data_p14 = [d for d in raw_data_dirs if '14' in d]\n",
    "raw_data_p14"
   ]
  },
  {
   "cell_type": "code",
   "execution_count": 3,
   "metadata": {},
   "outputs": [
    {
     "name": "stdout",
     "output_type": "stream",
     "text": [
      "Using 20250328 2 P14 R2-b3-488 Q1-b1-546 Lnc6-b2-647 DAPI as input directory\n",
      "Found 6 czi files in ../raw-data/20250328 2 P14 R2-b3-488 Q1-b1-546 Lnc6-b2-647 DAPI/\n",
      "['20250328 2 Q1lnc sample 6.czi', '20250328 2 Q1lnc sample 1.czi', '20250328 2 Q1lnc sample 4.czi', '20250328 2 Q1lnc sample 3.czi', '20250328 2 Q1lnc sample 2.czi', '20250328 2 Q1lnc sample 5.czi']\n"
     ]
    }
   ],
   "source": [
    "input = 'Q1'\n",
    "input = [d for d in raw_data_dirs if input in d][0]\n",
    "print(f'Using {input} as input directory')\n",
    "input_dir = f'../raw-data/{input}/'\n",
    "assert os.path.exists(input_dir), 'Input directory does not exist'\n",
    "czi_files = [f for f in os.listdir(input_dir) if f.endswith('.czi')]\n",
    "print(f\"Found {len(czi_files)} czi files in {input_dir}\")\n",
    "print(czi_files)"
   ]
  },
  {
   "cell_type": "code",
   "execution_count": 4,
   "metadata": {},
   "outputs": [],
   "source": [
    "def parse_marker_file_z_major(xml_file_path, num_channels):\n",
    "    \"\"\"\n",
    "    Parses an ImageJ Cell Counter XML marker file where Z indices are flattened\n",
    "    assuming Z-major ordering (Z slices vary fastest, channels slowest), and\n",
    "    the flattened indices (MarkerZ) are 1-based.\n",
    "\n",
    "    MarkerZ was calculated in ImageJ as:\n",
    "        MarkerZ = (z - 1) * num_channels + (channel - 1) + 1\n",
    "                = 1-based linear index assuming Z-major ordering.\n",
    "\n",
    "    This function reverses that logic to recover the true Z slice and channel\n",
    "    as 0-based indices:\n",
    "\n",
    "        z = (MarkerZ - 1) // num_channels\n",
    "        channel = (MarkerZ - 1) % num_channels\n",
    "\n",
    "    Parameters:\n",
    "    -----------\n",
    "    xml_file_path : str\n",
    "        Path to the XML file exported from the ImageJ Cell Counter plugin.\n",
    "\n",
    "    num_channels : int\n",
    "        The number of image channels (e.g., 4 if using DAPI, 488, 546, 647).\n",
    "\n",
    "    Returns:\n",
    "    --------\n",
    "    pandas.DataFrame\n",
    "        A DataFrame with the following columns:\n",
    "            - 'name'    : The marker type name from the XML (e.g., \"488C\")\n",
    "            - 'x'       : Marker X coordinate\n",
    "            - 'y'       : Marker Y coordinate\n",
    "            - 'z'       : Recovered Z slice index (0-based)\n",
    "            - 'channel' : Recovered channel index (0-based)\n",
    "            - 'image'   : Inferred image filename from XML name\n",
    "            - 'cytoplasmic' : Derived label from marker name (e.g., \"AF488\")\n",
    "\n",
    "    Notes:\n",
    "    ------\n",
    "    This has been validated with a test placing markers on:\n",
    "        - z=1, c=1 → MarkerZ = 1\n",
    "        - z=1, c=2 → MarkerZ = 2\n",
    "        - z=1, c=3 → MarkerZ = 3\n",
    "        - z=2, c=1 → MarkerZ = 4\n",
    "        - z=2, c=2 → MarkerZ = 5\n",
    "        - z=2, c=3 → MarkerZ = 6\n",
    "\n",
    "    The function correctly recovers:\n",
    "        - z = 0-based z index (e.g., MarkerZ = 4 → z=1)\n",
    "        - channel = 0-based channel index (e.g., MarkerZ = 4 → channel=0)\n",
    "    \"\"\"\n",
    "    import xml.etree.ElementTree as ET\n",
    "    import pandas as pd\n",
    "\n",
    "    tree = ET.parse(xml_file_path)\n",
    "    root = tree.getroot()\n",
    "\n",
    "    data = []\n",
    "    for marker_type in root.findall(\".//Marker_Type\"):\n",
    "        name = marker_type.findtext(\"Name\")\n",
    "        for marker in marker_type.findall(\"Marker\"):\n",
    "            x = int(marker.findtext(\"MarkerX\"))\n",
    "            y = int(marker.findtext(\"MarkerY\"))\n",
    "            z_raw = int(marker.findtext(\"MarkerZ\"))\n",
    "\n",
    "            # Adjust for 1-based MarkerZ\n",
    "            z_index = z_raw - 1\n",
    "            z = z_index // num_channels        # 0-based Z slice\n",
    "            channel = z_index % num_channels   # 0-based channel index\n",
    "\n",
    "            data.append({\n",
    "                'name': name,\n",
    "                'x': x,\n",
    "                'y': y,\n",
    "                'z': z,\n",
    "                'channel': channel\n",
    "            })\n",
    "\n",
    "    df = pd.DataFrame(data)\n",
    "    df['image'] = xml_file_path.split('CellCounter_')[1].replace('.xml', '.czi')\n",
    "    df['cytoplasmic'] = df['name'].apply(lambda x: \"AF\" + x.split(\"C\")[0])\n",
    "    return df\n"
   ]
  },
  {
   "cell_type": "code",
   "execution_count": 5,
   "metadata": {},
   "outputs": [],
   "source": [
    "results_dir = f'../results/{input}'\n",
    "results_files = os.listdir(results_dir)\n",
    "results_files = [f for f in results_files if f.endswith('with_borders.csv')]\n",
    "\n",
    "# Load all results \n",
    "results = pd.DataFrame() \n",
    "for f in results_files:\n",
    "    results_path = os.path.join(results_dir, f)\n",
    "    results_individual = pd.read_csv(results_path)\n",
    "    results_individual.columns = results_individual.columns.str.split('-T').str[0]\n",
    "    results = pd.concat([results, results_individual], axis=0) \n",
    "results = results.reset_index(drop=True)\n",
    "\n",
    "num_channels = sum(results.columns.str.contains(\"-nucleus-sum\"))+1 # number of total channels including DAPI \n",
    "\n",
    "cell_counts_dir = f'../cytoplasmic-markers/{input}'\n",
    "cell_counts_files = os.listdir(cell_counts_dir)\n",
    "cellcounts = [] \n",
    "for f in cell_counts_files:\n",
    "    xml_path = os.path.join(cell_counts_dir, f)\n",
    "    df = parse_marker_file_z_major(xml_path, num_channels=num_channels)\n",
    "    cellcounts.append(df)\n",
    "cellcounts = pd.concat(cellcounts, axis=0)\n",
    "\n",
    "results['cytoplasmic'] = None\n",
    "\n",
    "# Iterate through each image\n",
    "for image in results['image'].unique(): \n",
    "    # Load ROIs \n",
    "    all_rois_path = f'../results/{input}/{image.replace(\".czi\", \"_rois.npy\")}'\n",
    "    all_rois = np.load(all_rois_path)\n",
    "    \n",
    "    # Get subset of cellcounts for this image\n",
    "    cellcounts_image = cellcounts[cellcounts['image'] == image]\n",
    "\n",
    "    # Iterate through each cell \n",
    "    for i, cell in cellcounts_image.iterrows():\n",
    "        rois_z = all_rois[cell['z'], :, :]\n",
    "\n",
    "        # Get the region label at the cell's coordinates\n",
    "        region_z_id = rois_z[cell['y'], cell['x']]  # Note: numpy uses row (y), col (x)\n",
    "\n",
    "        if region_z_id > 0: \n",
    "            # Get the results row for this cell \n",
    "            results_row = results.loc[(results['image'] == cell['image']) & \n",
    "                                    (results['z'] == cell['z']) & \n",
    "                                    (results['z_id'] == region_z_id)]\n",
    "            if len(results_row) == 1: \n",
    "                results.loc[results_row.index[0], 'cytoplasmic'] = cell['cytoplasmic']\n",
    "            if len(results_row) > 1: \n",
    "                print(f'Found {len(results_row)} results rows for {cell[\"image\"]} z={cell[\"z\"]}')\n",
    "\n",
    "# Save the updated results\n",
    "results_path = os.path.join(results_dir, 'all_results_nuclei_cytoplasm_markers.csv')\n",
    "results.to_csv(results_path, index=False)"
   ]
  },
  {
   "cell_type": "markdown",
   "metadata": {},
   "source": [
    "## Run on all images"
   ]
  },
  {
   "cell_type": "code",
   "execution_count": 36,
   "metadata": {},
   "outputs": [
    {
     "data": {
      "text/plain": [
       "['20250307 B1 P14 U34-B3-546 Chymotrypsin-B2-647 DAPI',\n",
       " '20250328 5 P14 LOC603-b3-488 9E108-b1-546 9E116-b2-647 DAPI',\n",
       " '20250325 5 p14 g1-b1-546 lnc7-b2-647 dapi',\n",
       " '20250328 2 P14 R2-b3-488 Q1-b1-546 Lnc6-b2-647 DAPI',\n",
       " '20250328 4 P14 9E129-b3-488 LOC104-b1-546 9E116-b2-647 dapi',\n",
       " '20250325 4 p14 u34-b3-488 lnc4-b1-546 u21-b5-647 dapi',\n",
       " '20250328 3 P14 Lnc3-b3-488 L16-b2-594 Lnc2-b5-647 DAPI']"
      ]
     },
     "execution_count": 36,
     "metadata": {},
     "output_type": "execute_result"
    }
   ],
   "source": [
    "raw_data_dirs = os.listdir('../raw-data/')\n",
    "raw_data_p14 = [d for d in raw_data_dirs if '14' in d]\n",
    "raw_data_p14 = [d for d in raw_data_p14 if 'T79' not in d]\n",
    "raw_data_p14"
   ]
  },
  {
   "cell_type": "code",
   "execution_count": 37,
   "metadata": {},
   "outputs": [],
   "source": [
    "for input in raw_data_p14: \n",
    "\n",
    "    results_dir = f'../results/{input}'\n",
    "    results_files = os.listdir(results_dir)\n",
    "    results_files = [f for f in results_files if f.endswith('with_borders.csv')]\n",
    "\n",
    "    # Load all results \n",
    "    results = pd.DataFrame() \n",
    "    for f in results_files:\n",
    "        results_path = os.path.join(results_dir, f)\n",
    "        results_individual = pd.read_csv(results_path)\n",
    "        results_individual.columns = results_individual.columns.str.split('-T').str[0]\n",
    "        results = pd.concat([results, results_individual], axis=0) \n",
    "    results = results.reset_index(drop=True)\n",
    "\n",
    "    num_channels = sum(results.columns.str.contains(\"-nucleus-sum\"))+1 # number of total channels including DAPI \n",
    "\n",
    "    cell_counts_dir = f'../cytoplasmic-markers/{input}'\n",
    "    cell_counts_files = os.listdir(cell_counts_dir)\n",
    "    cellcounts = [] \n",
    "    for f in cell_counts_files:\n",
    "        xml_path = os.path.join(cell_counts_dir, f)\n",
    "        df = parse_marker_file_z_major(xml_path, num_channels=num_channels)\n",
    "        cellcounts.append(df)\n",
    "    cellcounts = pd.concat(cellcounts, axis=0)\n",
    "\n",
    "    results['cytoplasmic'] = None\n",
    "\n",
    "    # Iterate through each image\n",
    "    for image in results['image'].unique(): \n",
    "        # Load ROIs \n",
    "        all_rois_path = f'../results/{input}/{image.replace(\".czi\", \"_rois.npy\")}'\n",
    "        all_rois = np.load(all_rois_path)\n",
    "        \n",
    "        # Get subset of cellcounts for this image\n",
    "        cellcounts_image = cellcounts[cellcounts['image'] == image]\n",
    "\n",
    "        # Iterate through each cell \n",
    "        for i, cell in cellcounts_image.iterrows():\n",
    "            rois_z = all_rois[cell['z'], :, :]\n",
    "\n",
    "            # Get the region label at the cell's coordinates\n",
    "            region_z_id = rois_z[cell['y'], cell['x']]  # Note: numpy uses row (y), col (x)\n",
    "\n",
    "            if region_z_id > 0: \n",
    "                # Get the results row for this cell \n",
    "                results_row = results.loc[(results['image'] == cell['image']) & \n",
    "                                        (results['z'] == cell['z']) & \n",
    "                                        (results['z_id'] == region_z_id)]\n",
    "                if len(results_row) == 1: \n",
    "                    results.loc[results_row.index[0], 'cytoplasmic'] = cell['cytoplasmic']\n",
    "                if len(results_row) > 1: \n",
    "                    print(f'Found {len(results_row)} results rows for {cell[\"image\"]} z={cell[\"z\"]}')\n",
    "\n",
    "    # Save the updated results\n",
    "    results_path = os.path.join(results_dir, 'all_results_nuclei_cytoplasm_markers.csv')\n",
    "    results.to_csv(results_path, index=False)"
   ]
  }
 ],
 "metadata": {
  "kernelspec": {
   "display_name": "gg-napari-env",
   "language": "python",
   "name": "python3"
  },
  "language_info": {
   "codemirror_mode": {
    "name": "ipython",
    "version": 3
   },
   "file_extension": ".py",
   "mimetype": "text/x-python",
   "name": "python",
   "nbconvert_exporter": "python",
   "pygments_lexer": "ipython3",
   "version": "3.12.8"
  }
 },
 "nbformat": 4,
 "nbformat_minor": 2
}

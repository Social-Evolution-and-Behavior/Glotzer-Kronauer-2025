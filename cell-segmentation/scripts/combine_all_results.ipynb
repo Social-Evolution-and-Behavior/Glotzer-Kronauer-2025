{
 "cells": [
  {
   "cell_type": "markdown",
   "metadata": {},
   "source": [
    "# 5. Combine Results"
   ]
  },
  {
   "cell_type": "markdown",
   "metadata": {},
   "source": [
    "gg-napari-env"
   ]
  },
  {
   "cell_type": "code",
   "execution_count": 4,
   "metadata": {},
   "outputs": [],
   "source": [
    "import numpy as np\n",
    "import pandas as pd\n",
    "import os "
   ]
  },
  {
   "cell_type": "code",
   "execution_count": 5,
   "metadata": {},
   "outputs": [
    {
     "data": {
      "text/plain": [
       "['20250508 P14 T 9E89-b1-546 9E99-B2-647 DAPI',\n",
       " '20250307 B1 P14 U34-B3-546 Chymotrypsin-B2-647 DAPI',\n",
       " '20250328 1 P14 T79-intergenic-b2-647 T79-exonic-b1-546 DAPI',\n",
       " '20250328 5 P14 LOC603-b3-488 9E108-b1-546 9E116-b2-647 DAPI',\n",
       " '20250325 5 p14 g1-b1-546 lnc7-b2-647 dapi',\n",
       " '20250508 P14 T 9E99-b2-594 LOC105286072-B5-647 DAPI',\n",
       " '20250328 2 P14 R2-b3-488 Q1-b1-546 Lnc6-b2-647 DAPI',\n",
       " '20250523 C P14 T U54-647 Lnc4-546 DAPI',\n",
       " '20250523 A P14 T 9E213-546 9E214-488 Intergenic-647 DAPI',\n",
       " '20250325 4 p14 u34-b3-488 lnc4-b1-546 u21-b5-647 dapi',\n",
       " '20250328 3 P14 Lnc3-b3-488 L16-b2-594 Lnc2-b5-647 DAPI',\n",
       " '20250328 4 P14 9E129-b3-488 LOC104-b1-546 9E116-b2-647 dapi',\n",
       " '20250523 B P14 T 9E88-546 Lnc-647 DAPI']"
      ]
     },
     "execution_count": 5,
     "metadata": {},
     "output_type": "execute_result"
    }
   ],
   "source": [
    "raw_data_dirs = os.listdir('../../../RNA-FISH-raw-data/')\n",
    "raw_data_p14 = [d for d in raw_data_dirs if '14' in d]\n",
    "raw_data_p14"
   ]
  },
  {
   "cell_type": "code",
   "execution_count": 11,
   "metadata": {},
   "outputs": [
    {
     "name": "stdout",
     "output_type": "stream",
     "text": [
      "Using 20250523 C P14 T U54-647 Lnc4-546 DAPI as input directory\n",
      "Found 4 czi files in ../../../RNA-FISH-raw-data/20250523 C P14 T U54-647 Lnc4-546 DAPI/\n",
      "['20250523 C sample 4 stack.czi', '20250523 C sample 2 stack.czi', '20250523 C sample 3 stack.czi', '20250523 C sample 1 stack.czi']\n"
     ]
    }
   ],
   "source": [
    "input = '20250523 C'\n",
    "input = [d for d in raw_data_dirs if input in d][0]\n",
    "print(f'Using {input} as input directory')\n",
    "input_dir = f'../../../RNA-FISH-raw-data/{input}/'\n",
    "assert os.path.exists(input_dir), 'Input directory does not exist'\n",
    "czi_files = [f for f in os.listdir(input_dir) if f.endswith('.czi')]\n",
    "print(f\"Found {len(czi_files)} czi files in {input_dir}\")\n",
    "print(czi_files)"
   ]
  },
  {
   "cell_type": "code",
   "execution_count": 12,
   "metadata": {},
   "outputs": [],
   "source": [
    "results_dir = f'../results/{input}'\n",
    "results_files = os.listdir(results_dir)\n",
    "results_files = [f for f in results_files if f.endswith('with_borders.csv')]\n",
    "\n",
    "# Load all results \n",
    "results = pd.DataFrame() \n",
    "for f in results_files:\n",
    "    results_path = os.path.join(results_dir, f)\n",
    "    results_individual = pd.read_csv(results_path)\n",
    "    results_individual.columns = results_individual.columns.str.split('-T').str[0]\n",
    "    results = pd.concat([results, results_individual], axis=0) \n",
    "results = results.reset_index(drop=True)\n",
    "\n",
    "# Save the updated results\n",
    "results_path = os.path.join(results_dir, 'all_results_nuclei_cytoplasm_markers.csv')\n",
    "results.to_csv(results_path, index=False)"
   ]
  },
  {
   "cell_type": "code",
   "execution_count": null,
   "metadata": {},
   "outputs": [],
   "source": []
  },
  {
   "cell_type": "code",
   "execution_count": null,
   "metadata": {},
   "outputs": [],
   "source": []
  }
 ],
 "metadata": {
  "kernelspec": {
   "display_name": "gg-napari-env",
   "language": "python",
   "name": "python3"
  },
  "language_info": {
   "codemirror_mode": {
    "name": "ipython",
    "version": 3
   },
   "file_extension": ".py",
   "mimetype": "text/x-python",
   "name": "python",
   "nbconvert_exporter": "python",
   "pygments_lexer": "ipython3",
   "version": "3.12.8"
  }
 },
 "nbformat": 4,
 "nbformat_minor": 2
}

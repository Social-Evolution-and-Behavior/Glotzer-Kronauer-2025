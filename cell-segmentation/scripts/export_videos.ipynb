{
 "cells": [
  {
   "cell_type": "markdown",
   "metadata": {},
   "source": [
    "# 7. Export Videos of Segmentation"
   ]
  },
  {
   "cell_type": "code",
   "execution_count": 2,
   "metadata": {},
   "outputs": [],
   "source": [
    "from napari_czifile2 import napari_get_reader\n",
    "import numpy as np\n",
    "import matplotlib.pyplot as plt\n",
    "import pandas as pd\n",
    "import numpy as np\n",
    "import seaborn as sns\n",
    "import os \n",
    "import sys \n",
    "from tqdm import tqdm\n",
    "import imageio\n",
    "import cv2  # for resizing the frames\n",
    "import warnings\n",
    "from matplotlib.backends.backend_agg import FigureCanvasAgg as FigureCanvas\n",
    "warnings.filterwarnings(\"ignore\")"
   ]
  },
  {
   "cell_type": "code",
   "execution_count": 3,
   "metadata": {},
   "outputs": [],
   "source": [
    "plt.style.use('dark_background')"
   ]
  },
  {
   "cell_type": "code",
   "execution_count": 4,
   "metadata": {},
   "outputs": [],
   "source": [
    "def random_colormap_transparent(mask):\n",
    "    unique_labels = np.unique(mask)\n",
    "    colored_mask = np.zeros((*mask.shape, 4), dtype=np.uint8)  # RGBA image\n",
    "\n",
    "    # Assign random colors\n",
    "    np.random.seed(0)  # Ensure reproducibility\n",
    "    colors = np.random.randint(0, 255, size=(len(unique_labels), 3), dtype=np.uint8)\n",
    "    colors = np.hstack((colors, np.full((len(unique_labels), 1), 255, dtype=np.uint8)))  # Add full opacity\n",
    "\n",
    "    colors[0] = [0, 0, 0, 0]  # Make background transparent\n",
    "\n",
    "    for i, label in enumerate(unique_labels):\n",
    "        colored_mask[mask == label] = colors[i]\n",
    "\n",
    "    return colored_mask"
   ]
  },
  {
   "cell_type": "code",
   "execution_count": 5,
   "metadata": {},
   "outputs": [],
   "source": [
    "def set_min_max(channel, min_val, max_val):\n",
    "    \"\"\"\n",
    "    Adjusts the contrast of the channel by setting the minimum and maximum values.\n",
    "    Maps values in the range [min_val, max_val] to [0, 255].\n",
    "\n",
    "    Args:\n",
    "    - channel: Input image channel (2D array)\n",
    "    - min_val: The minimum value to scale to\n",
    "    - max_val: The maximum value to scale to\n",
    "\n",
    "    Returns:\n",
    "    - A contrast-adjusted channel, scaled to the range [0, 255]\n",
    "    \"\"\"\n",
    "    # Ensure min_val and max_val are not the same, otherwise handle as special case\n",
    "    if min_val == max_val:\n",
    "        return np.zeros_like(channel)  # If min == max, return all zeros\n",
    "\n",
    "    # Clip the values of the channel to the range [min_val, max_val]\n",
    "    clipped = np.clip(channel, min_val, max_val)\n",
    "\n",
    "    # Rescale the clipped values to the range [0, 255]\n",
    "    # Normalize to [0, 1] and then scale to [0, 255]\n",
    "    rescaled = (clipped - min_val) / (max_val - min_val) * 255\n",
    "    \n",
    "    return np.clip(rescaled, 0, 255)  # Ensure the values remain in the [0, 255] range\n",
    "\n"
   ]
  },
  {
   "cell_type": "markdown",
   "metadata": {},
   "source": [
    "## Export just cell segmentation "
   ]
  },
  {
   "cell_type": "code",
   "execution_count": 6,
   "metadata": {},
   "outputs": [],
   "source": [
    "raw_data_dirs = os.listdir('../../../RNA-FISH-raw-data/')"
   ]
  },
  {
   "cell_type": "code",
   "execution_count": 8,
   "metadata": {},
   "outputs": [
    {
     "name": "stdout",
     "output_type": "stream",
     "text": [
      "Using 20250328 1 P14 T79-intergenic-b2-647 T79-exonic-b1-546 DAPI as input directory\n",
      "Found 5 czi files in ../../../RNA-FISH-raw-data/20250328 1 P14 T79-intergenic-b2-647 T79-exonic-b1-546 DAPI\n",
      "['20250328 1 T79 sample 1.czi', '20250328 1 T79 sample 5.czi', '20250328 1 T79 sample 2.czi', '20250328 1 T79 sample 3.czi', '20250328 1 T79 sample 4.czi']\n"
     ]
    }
   ],
   "source": [
    "input = 'T79'\n",
    "input = [d for d in raw_data_dirs if input in d][0]\n",
    "print(f'Using {input} as input directory')\n",
    "input_dir = os.path.join('../../../RNA-FISH-raw-data/', input)\n",
    "assert os.path.exists(input_dir), 'Input directory does not exist'\n",
    "czi_files = [f for f in os.listdir(input_dir) if f.endswith('.czi')]\n",
    "print(f\"Found {len(czi_files)} czi files in {input_dir}\")\n",
    "print(czi_files)"
   ]
  },
  {
   "cell_type": "code",
   "execution_count": 9,
   "metadata": {},
   "outputs": [
    {
     "name": "stdout",
     "output_type": "stream",
     "text": [
      "Loaded ../../../RNA-FISH-raw-data/20250328 1 P14 T79-intergenic-b2-647 T79-exonic-b1-546 DAPI/20250328 1 T79 sample 1.czi\n",
      "Metadata: {'rgb': False, 'channel_axis': 2, 'translate': (0.0, 0.0, 29259.974395751953, 31219.198837280273), 'scale': (1.0, 1.0, 0.0974884033203125, 0.0974884033203125), 'contrast_limits': None, 'name': ['AF546-T1', 'DAPI-T2', 'AF647-T2']}\n",
      "Image shape: (79, 3, 2048, 2048)\n",
      "Loaded ../results/20250328 1 P14 T79-intergenic-b2-647 T79-exonic-b1-546 DAPI/20250328 1 T79 sample 1_rois.npy\n"
     ]
    }
   ],
   "source": [
    "file_number = 0\n",
    "image = czi_files[file_number]\n",
    "image_path = os.path.join(input_dir, image)\n",
    "reader = napari_get_reader(image_path)\n",
    "if reader is not None:\n",
    "    layer_data = reader(image_path)\n",
    "    image_data, metadata, layer_type = layer_data[0]\n",
    "    image_data = np.squeeze(image_data)\n",
    "    print(f\"Loaded {image_path}\")\n",
    "    print(\"Metadata:\", metadata)\n",
    "    print(\"Image shape:\", image_data.shape)  \n",
    "\n",
    "# Load ROIs \n",
    "all_rois_path = f'../results/{input}/{image.replace(\".czi\", \"_rois.npy\")}'\n",
    "all_rois = np.load(all_rois_path)\n",
    "print(f\"Loaded {all_rois_path}\")"
   ]
  },
  {
   "cell_type": "code",
   "execution_count": 7,
   "metadata": {},
   "outputs": [
    {
     "name": "stdout",
     "output_type": "stream",
     "text": [
      "Image shape after selecting DAPI channel: (202, 2048, 2048)\n",
      "Number of Z slices: 202\n"
     ]
    }
   ],
   "source": [
    "# Determine the DAPI channel index from metadata.\n",
    "dapi_channel = [name for name in metadata['name'] if 'DAPI' in name][0]\n",
    "dapi_index = metadata['name'].index(dapi_channel)\n",
    "image_data_dapi = image_data[:, dapi_index, :, :]  # Select the DAPI channel\n",
    "print(f\"Image shape after selecting DAPI channel: {image_data_dapi.shape}\")\n",
    "\n",
    "# Scale factor (pixel size in nm or um, adjust if needed)\n",
    "pixel_x = metadata['scale'][2]\n",
    "scale_bar_length = 50 / pixel_x  # 50um in pixels \n",
    "\n",
    "# Video parameters\n",
    "fps = 10\n",
    "num_z_slices = image_data_dapi.shape[0]\n",
    "print(f\"Number of Z slices: {num_z_slices}\")\n",
    "\n",
    "# Resolution downscale factor (set < 1 to decrease resolution)\n",
    "scale_factor = 1  # e.g., 0.5 will reduce resolution by half"
   ]
  },
  {
   "cell_type": "code",
   "execution_count": 8,
   "metadata": {},
   "outputs": [
    {
     "name": "stderr",
     "output_type": "stream",
     "text": [
      "Creating frames: 100%|██████████| 202/202 [10:56<00:00,  3.25s/it]\n"
     ]
    }
   ],
   "source": [
    "frames = []  # list to hold each frame (as an RGB array)\n",
    "\n",
    "# --- Create video frames ---\n",
    "for z in tqdm(range(num_z_slices), desc=\"Creating frames\", total=num_z_slices):\n",
    "    # Get the 2D image slice for the DAPI channel.\n",
    "    img = image_data_dapi[z, :, :]\n",
    "    roi_slice = all_rois[z, :, :]\n",
    "\n",
    "    # Generate the colored overlay for the ROIs.\n",
    "    roi_overlay = random_colormap_transparent(roi_slice)\n",
    "\n",
    "    # Create a new figure; no need to display it.\n",
    "    fig, ax = plt.subplots(figsize=(4, 4), dpi=300)\n",
    "    ax.axis('off')\n",
    "\n",
    "    # Plot the DAPI image (contrast-stretched).\n",
    "    ax.imshow(set_min_max(img, 0, 255), cmap='gray')\n",
    "    # Overlay the random-colored ROIs.\n",
    "    ax.imshow(roi_overlay)\n",
    "\n",
    "    # Add a white scale bar at the bottom right.\n",
    "    height, width = img.shape\n",
    "    x_start = width - 50 - scale_bar_length\n",
    "    x_end = width - 50\n",
    "    y = height - 50  # 50 pixels from the bottom edge\n",
    "    ax.plot([x_start, x_end], [y, y], color='white', lw=2)\n",
    "\n",
    "    # Render the figure to a numpy array.\n",
    "    canvas = FigureCanvas(fig)\n",
    "    canvas.draw()\n",
    "    width_canvas, height_canvas = canvas.get_width_height()\n",
    "    buf = np.frombuffer(canvas.buffer_rgba(), dtype=np.uint8).reshape(height_canvas, width_canvas, 4)\n",
    "    frame = buf[..., :3]  # Extract RGB channels\n",
    "    plt.close(fig)  # Close the figure to free memory\n",
    "\n",
    "    # Downscale the frame if needed.\n",
    "    if scale_factor < 1:\n",
    "        new_width = int(frame.shape[1] * scale_factor)\n",
    "        new_height = int(frame.shape[0] * scale_factor)\n",
    "        frame = cv2.resize(frame, (new_width, new_height))\n",
    "    \n",
    "    frames.append(frame)"
   ]
  },
  {
   "cell_type": "code",
   "execution_count": 9,
   "metadata": {},
   "outputs": [
    {
     "name": "stderr",
     "output_type": "stream",
     "text": [
      "Multiple -codec/-c/-acodec/-vcodec/-scodec/-dcodec options specified for stream 0, only the last option '-codec:v prores_ks' will be used.\n",
      "Incompatible pixel format 'yuv420p' for codec 'prores_ks', auto-selecting format 'yuv422p10le'\n"
     ]
    },
    {
     "name": "stdout",
     "output_type": "stream",
     "text": [
      "Video saved to ../videos/20250307 B1 P14 U34-B3-546 Chymotrypsin-B2-647 DAPI/20250307 B1 Sample 5 Stack_rois.mov\n"
     ]
    }
   ],
   "source": [
    "# Save frames as video \n",
    "output_dir = f'../videos/{input}/'\n",
    "os.makedirs(output_dir, exist_ok=True)\n",
    "output_video_path = f'../videos/{input}/{image.replace(\".czi\", \"_rois.mov\")}'\n",
    "writer = imageio.get_writer(\n",
    "    output_video_path,\n",
    "    fps=10,\n",
    "    format='ffmpeg',\n",
    "    output_params=[\"-vcodec\", \"prores_ks\"]\n",
    ")\n",
    "for frame in frames:\n",
    "    writer.append_data(frame)\n",
    "writer.close()\n",
    "print(f\"Video saved to {output_video_path}\")"
   ]
  },
  {
   "cell_type": "code",
   "execution_count": null,
   "metadata": {},
   "outputs": [],
   "source": []
  },
  {
   "cell_type": "code",
   "execution_count": null,
   "metadata": {},
   "outputs": [],
   "source": []
  },
  {
   "cell_type": "markdown",
   "metadata": {},
   "source": [
    "## Export movie of both segmentation and raw images"
   ]
  },
  {
   "cell_type": "code",
   "execution_count": null,
   "metadata": {},
   "outputs": [],
   "source": [
    "raw_data_dirs = os.listdir('../../../RNA-FISH-raw-data/')"
   ]
  },
  {
   "cell_type": "code",
   "execution_count": null,
   "metadata": {},
   "outputs": [
    {
     "name": "stdout",
     "output_type": "stream",
     "text": [
      "Using 20250328 1 P14 T79-intergenic-b2-647 T79-exonic-b1-546 DAPI as input directory\n",
      "Found 5 czi files in ../../../RNA-FISH-raw-data/20250328 1 P14 T79-intergenic-b2-647 T79-exonic-b1-546 DAPI\n",
      "['20250328 1 T79 sample 1.czi', '20250328 1 T79 sample 5.czi', '20250328 1 T79 sample 2.czi', '20250328 1 T79 sample 3.czi', '20250328 1 T79 sample 4.czi']\n"
     ]
    }
   ],
   "source": [
    "input = 'T79'\n",
    "input = [d for d in raw_data_dirs if input in d][0]\n",
    "print(f'Using {input} as input directory')\n",
    "input_dir = os.path.join('../../../RNA-FISH-raw-data/', input)\n",
    "assert os.path.exists(input_dir), 'Input directory does not exist'\n",
    "czi_files = [f for f in os.listdir(input_dir) if f.endswith('.czi')]\n",
    "print(f\"Found {len(czi_files)} czi files in {input_dir}\")\n",
    "print(czi_files)"
   ]
  },
  {
   "cell_type": "code",
   "execution_count": null,
   "metadata": {},
   "outputs": [
    {
     "data": {
      "text/plain": [
       "'20250328 1 P14 T79-intergenic-b2-647 T79-exonic-b1-546 DAPI'"
      ]
     },
     "execution_count": 10,
     "metadata": {},
     "output_type": "execute_result"
    }
   ],
   "source": [
    "file_number = 0\n",
    "image = czi_files[file_number]\n",
    "image_path = os.path.join(input_dir, image)\n",
    "reader = napari_get_reader(image_path)\n",
    "if reader is not None:\n",
    "    layer_data = reader(image_path)\n",
    "    image_data, metadata, layer_type = layer_data[0]\n",
    "    image_data = np.squeeze(image_data)\n",
    "    print(f\"Loaded {image_path}\")\n",
    "    print(\"Metadata:\", metadata)\n",
    "    print(\"Image shape:\", image_data.shape)  \n",
    "\n",
    "# Load ROIs \n",
    "all_rois_path = f'../results/{input}/{image.replace(\".czi\", \"_rois.npy\")}'\n",
    "all_rois = np.load(all_rois_path)\n",
    "print(f\"Loaded {all_rois_path}\")"
   ]
  },
  {
   "cell_type": "code",
   "execution_count": 11,
   "metadata": {},
   "outputs": [
    {
     "ename": "IndexError",
     "evalue": "list index out of range",
     "output_type": "error",
     "traceback": [
      "\u001b[0;31m---------------------------------------------------------------------------\u001b[0m",
      "\u001b[0;31mIndexError\u001b[0m                                Traceback (most recent call last)",
      "Cell \u001b[0;32mIn[11], line 3\u001b[0m\n\u001b[1;32m      1\u001b[0m channels_indices \u001b[38;5;241m=\u001b[39m [(i, metadata[\u001b[38;5;124m'\u001b[39m\u001b[38;5;124mname\u001b[39m\u001b[38;5;124m'\u001b[39m][i]) \u001b[38;5;28;01mfor\u001b[39;00m i \u001b[38;5;129;01min\u001b[39;00m \u001b[38;5;28mrange\u001b[39m(\u001b[38;5;28mlen\u001b[39m(metadata[\u001b[38;5;124m'\u001b[39m\u001b[38;5;124mname\u001b[39m\u001b[38;5;124m'\u001b[39m]))]\n\u001b[1;32m      2\u001b[0m channel_order \u001b[38;5;241m=\u001b[39m [\u001b[38;5;241m2\u001b[39m, \u001b[38;5;241m0\u001b[39m, \u001b[38;5;241m1\u001b[39m, \u001b[38;5;241m3\u001b[39m]\n\u001b[0;32m----> 3\u001b[0m channels_indices \u001b[38;5;241m=\u001b[39m [channels_indices[i] \u001b[38;5;28;01mfor\u001b[39;00m i \u001b[38;5;129;01min\u001b[39;00m channel_order]\n\u001b[1;32m      4\u001b[0m channels \u001b[38;5;241m=\u001b[39m [channel \u001b[38;5;28;01mfor\u001b[39;00m _, channel \u001b[38;5;129;01min\u001b[39;00m channels_indices]\n\u001b[1;32m      5\u001b[0m channel_indices \u001b[38;5;241m=\u001b[39m [i \u001b[38;5;28;01mfor\u001b[39;00m i, _ \u001b[38;5;129;01min\u001b[39;00m channels_indices]\n",
      "\u001b[0;31mIndexError\u001b[0m: list index out of range"
     ]
    }
   ],
   "source": [
    "channels_indices = [(i, metadata['name'][i]) for i in range(len(metadata['name']))]\n",
    "channel_order = [2, 0, 1, 3]\n",
    "channels_indices = [channels_indices[i] for i in channel_order]\n",
    "channels = [channel for _, channel in channels_indices]\n",
    "channel_indices = [i for i, _ in channels_indices]\n",
    "channel_names = [\"DAPI\", \"9E108\", \"LOC105282603\", \"9E116\"]\n",
    "channel_maxs = [255, 255, 255, 255]\n",
    "channel_colors = [\"grey\", \"magenta\", \"yellow\", \"cyan\"]\n",
    "\n",
    "print(f\"Channels: {channels}\")\n",
    "print(f\"Channel names: {channel_names}\")\n",
    "print(f\"Channel indices: {channel_indices}\")\n",
    "print(f\"Channel max values: {channel_maxs}\")\n",
    "print(f\"Channel colors: {channel_colors}\")"
   ]
  },
  {
   "cell_type": "code",
   "execution_count": null,
   "metadata": {},
   "outputs": [
    {
     "name": "stderr",
     "output_type": "stream",
     "text": [
      "Creating frames: 100%|██████████| 85/85 [04:36<00:00,  3.25s/it]\n"
     ]
    }
   ],
   "source": [
    "frames = []  # list to hold each frame (as an RGB array)\n",
    "\n",
    "# --- Create video frames ---\n",
    "for z in tqdm(range(num_z_slices)[:], desc=\"Creating frames\", total=num_z_slices):\n",
    "    # Get the 2D image slice for the DAPI channel.\n",
    "    img = image_data_dapi[z, :, :]\n",
    "    roi_slice = all_rois[z, :, :]\n",
    "\n",
    "    # Generate the colored overlay for the ROIs.\n",
    "    roi_overlay = random_colormap_transparent(roi_slice)\n",
    "\n",
    "    # Create a new figure; no need to display it.\n",
    "    fig, axs = plt.subplots(1, 2, figsize=(6, 3), dpi=300)\n",
    "    \n",
    "    ax = axs[0]\n",
    "    ax.axis('off')\n",
    "\n",
    "    # Plot the DAPI image (contrast-stretched).\n",
    "    ax.imshow(set_min_max(img, 0, 255), cmap='gray')\n",
    "    # Overlay the random-colored ROIs.\n",
    "    ax.imshow(roi_overlay)\n",
    "\n",
    "    # Add a white scale bar at the bottom right.\n",
    "    height, width = img.shape\n",
    "    x_start = width - 50 - scale_bar_length\n",
    "    x_end = width - 50\n",
    "    y = height - 50  # 50 pixels from the bottom edge\n",
    "    ax.plot([x_start, x_end], [y, y], color='white', lw=2)\n",
    "\n",
    "    # Plot the image in the second subplot \n",
    "    ax = axs[1]\n",
    "    rgb_image = np.zeros((image_data.shape[2], image_data.shape[3], 3), dtype=float)  # (H, W, 3)\n",
    "\n",
    "    for i, channel in enumerate(channels): \n",
    "        channel_index = channel_indices[i]\n",
    "        channel_max = channel_maxs[i]\n",
    "        channel_color = channel_colors[i]\n",
    "        \n",
    "        channel_image = image_data[z, channel_index, :, :]\n",
    "        channel_adjusted = set_min_max(channel_image, 0, channel_max)\n",
    "        if channel_color == \"magenta\": \n",
    "            rgb_image[..., 0] += channel_adjusted  \n",
    "            rgb_image[..., 2] += channel_adjusted  \n",
    "        elif channel_color == \"cyan\": \n",
    "            rgb_image[..., 1] += channel_adjusted\n",
    "            rgb_image[..., 2] += channel_adjusted\n",
    "        elif channel_color == \"yellow\": \n",
    "            rgb_image[..., 0] += channel_adjusted\n",
    "            rgb_image[..., 1] += channel_adjusted\n",
    "        elif channel_color == \"grey\":\n",
    "            rgb_image[..., 0] += channel_adjusted\n",
    "            rgb_image[..., 1] += channel_adjusted\n",
    "            rgb_image[..., 2] += channel_adjusted\n",
    "    \n",
    "    # Normalize composite image to [0,1]\n",
    "    rgb_image = np.clip(rgb_image/255, 0, 1)\n",
    "\n",
    "    # Display \n",
    "    ax.imshow(rgb_image)\n",
    "    ax.axis(\"off\")\n",
    "\n",
    "    # Add a white scale bar at the bottom right.\n",
    "    ax.plot([x_start, x_end], [y, y], color='white', lw=2)\n",
    "\n",
    "    # Add label for channels \n",
    "    for i, channel_name in enumerate(channel_names):\n",
    "        ax.text(10, 100 + i * 80, channel_name, color=channel_colors[i], fontsize=6, weight='bold') \n",
    "\n",
    "    # Adjust layout\n",
    "    plt.tight_layout()\n",
    "    \n",
    "    # Render the figure to a numpy array.\n",
    "    canvas = FigureCanvas(fig)\n",
    "    canvas.draw()\n",
    "    width_canvas, height_canvas = canvas.get_width_height()\n",
    "    buf = np.frombuffer(canvas.buffer_rgba(), dtype=np.uint8).reshape(height_canvas, width_canvas, 4)\n",
    "    frame = buf[..., :3]  # Extract RGB channels\n",
    "    plt.close(fig)  # Close the figure to free memory\n",
    "\n",
    "    # Downscale the frame if needed.\n",
    "    if scale_factor < 1:\n",
    "        new_width = int(frame.shape[1] * scale_factor)\n",
    "        new_height = int(frame.shape[0] * scale_factor)\n",
    "        frame = cv2.resize(frame, (new_width, new_height))\n",
    "    \n",
    "    frames.append(frame)"
   ]
  },
  {
   "cell_type": "code",
   "execution_count": 49,
   "metadata": {},
   "outputs": [
    {
     "name": "stdout",
     "output_type": "stream",
     "text": [
      "2025-04-01 17:36:59,992 [WARNING] IMAGEIO FFMPEG_WRITER WARNING: input image is not divisible by macro_block_size=16, resizing from (1800, 900) to (1808, 912) to ensure video compatibility with most codecs and players. To prevent resizing, make your input image divisible by the macro_block_size or set the macro_block_size to 1 (risking incompatibility).\n"
     ]
    },
    {
     "name": "stderr",
     "output_type": "stream",
     "text": [
      "Multiple -codec/-c/-acodec/-vcodec/-scodec/-dcodec options specified for stream 0, only the last option '-codec:v prores_ks' will be used.\n",
      "Incompatible pixel format 'yuv420p' for codec 'prores_ks', auto-selecting format 'yuv422p10le'\n"
     ]
    },
    {
     "name": "stdout",
     "output_type": "stream",
     "text": [
      "Video saved to ../videos/20250328 5 P14 LOC603-b3-488 9E108-b1-546 9E116-b2-647 DAPI/20250328 5 ZP sample 4_rois_and_image.mov\n"
     ]
    }
   ],
   "source": [
    "# Save frames as video \n",
    "output_dir = f'../videos/{input}/'\n",
    "os.makedirs(output_dir, exist_ok=True)\n",
    "output_video_path = f'../videos/{input}/{image.replace(\".czi\", \"_rois_and_image.mov\")}'\n",
    "writer = imageio.get_writer(\n",
    "    output_video_path,\n",
    "    fps=10,\n",
    "    format='ffmpeg',\n",
    "    output_params=[\"-vcodec\", \"prores_ks\"]\n",
    ")\n",
    "for frame in frames:\n",
    "    writer.append_data(frame)\n",
    "writer.close()\n",
    "print(f\"Video saved to {output_video_path}\")"
   ]
  },
  {
   "cell_type": "code",
   "execution_count": null,
   "metadata": {},
   "outputs": [],
   "source": []
  },
  {
   "cell_type": "code",
   "execution_count": null,
   "metadata": {},
   "outputs": [],
   "source": []
  },
  {
   "cell_type": "markdown",
   "metadata": {},
   "source": [
    "## Export just cytoplasm segmentation"
   ]
  },
  {
   "cell_type": "code",
   "execution_count": null,
   "metadata": {},
   "outputs": [],
   "source": [
    "raw_data_dirs = os.listdir('../../../RNA-FISH-raw-data/')"
   ]
  },
  {
   "cell_type": "code",
   "execution_count": null,
   "metadata": {},
   "outputs": [
    {
     "name": "stdout",
     "output_type": "stream",
     "text": [
      "Using 20250328 1 P14 T79-intergenic-b2-647 T79-exonic-b1-546 DAPI as input directory\n",
      "Found 5 czi files in ../../../RNA-FISH-raw-data/20250328 1 P14 T79-intergenic-b2-647 T79-exonic-b1-546 DAPI\n",
      "['20250328 1 T79 sample 1.czi', '20250328 1 T79 sample 5.czi', '20250328 1 T79 sample 2.czi', '20250328 1 T79 sample 3.czi', '20250328 1 T79 sample 4.czi']\n"
     ]
    }
   ],
   "source": [
    "input = 'U34'\n",
    "input = [d for d in raw_data_dirs if input in d][0]\n",
    "print(f'Using {input} as input directory')\n",
    "input_dir = os.path.join('../../../RNA-FISH-raw-data/', input)\n",
    "assert os.path.exists(input_dir), 'Input directory does not exist'\n",
    "czi_files = [f for f in os.listdir(input_dir) if f.endswith('.czi')]\n",
    "print(f\"Found {len(czi_files)} czi files in {input_dir}\")\n",
    "print(czi_files)"
   ]
  },
  {
   "cell_type": "code",
   "execution_count": null,
   "metadata": {},
   "outputs": [
    {
     "data": {
      "text/plain": [
       "'20250328 1 P14 T79-intergenic-b2-647 T79-exonic-b1-546 DAPI'"
      ]
     },
     "metadata": {},
     "output_type": "display_data"
    }
   ],
   "source": [
    "file_number = 2\n",
    "image = czi_files[file_number]\n",
    "image_path = os.path.join(input_dir, image)\n",
    "reader = napari_get_reader(image_path)\n",
    "if reader is not None:\n",
    "    layer_data = reader(image_path)\n",
    "    image_data, metadata, layer_type = layer_data[0]\n",
    "    image_data = np.squeeze(image_data)\n",
    "    print(f\"Loaded {image_path}\")\n",
    "    print(\"Metadata:\", metadata)\n",
    "    print(\"Image shape:\", image_data.shape)  \n",
    "\n",
    "# Load ROIs \n",
    "all_rois_path = f'../results/{input}/{image.replace(\".czi\", \"_rois.npy\")}'\n",
    "all_rois = np.load(all_rois_path)\n",
    "print(f\"Loaded {all_rois_path}\")"
   ]
  },
  {
   "cell_type": "code",
   "execution_count": 8,
   "metadata": {},
   "outputs": [
    {
     "name": "stdout",
     "output_type": "stream",
     "text": [
      "Image shape after selecting DAPI channel: (202, 2048, 2048)\n",
      "Number of Z slices: 202\n"
     ]
    }
   ],
   "source": [
    "# Determine the DAPI channel index from metadata.\n",
    "dapi_channel = [name for name in metadata['name'] if 'DAPI' in name][0]\n",
    "dapi_index = metadata['name'].index(dapi_channel)\n",
    "image_data_dapi = image_data[:, dapi_index, :, :]  # Select the DAPI channel\n",
    "print(f\"Image shape after selecting DAPI channel: {image_data_dapi.shape}\")\n",
    "\n",
    "# Scale factor (pixel size in nm or um, adjust if needed)\n",
    "pixel_x = metadata['scale'][2]\n",
    "scale_bar_length = 50 / pixel_x  # 50um in pixels \n",
    "\n",
    "# Video parameters\n",
    "fps = 10\n",
    "num_z_slices = image_data_dapi.shape[0]\n",
    "print(f\"Number of Z slices: {num_z_slices}\")\n",
    "\n",
    "# Resolution downscale factor (set < 1 to decrease resolution)\n",
    "scale_factor = 1  # e.g., 0.5 will reduce resolution by half"
   ]
  },
  {
   "cell_type": "code",
   "execution_count": 9,
   "metadata": {},
   "outputs": [
    {
     "name": "stderr",
     "output_type": "stream",
     "text": [
      "Creating frames: 100%|██████████| 202/202 [09:46<00:00,  2.90s/it]\n"
     ]
    }
   ],
   "source": [
    "frames = []  # list to hold each frame (as an RGB array)\n",
    "\n",
    "# --- Create video frames ---\n",
    "for z in tqdm(range(num_z_slices), desc=\"Creating frames\", total=num_z_slices):\n",
    "    # Get the 2D image slice for the DAPI channel.\n",
    "    img = image_data_dapi[z, :, :]\n",
    "    roi_slice = all_rois[z, :, :]\n",
    "\n",
    "    # Generate the colored overlay for the ROIs.\n",
    "    roi_overlay = random_colormap_transparent(roi_slice)\n",
    "\n",
    "    # Create a new figure; no need to display it.\n",
    "    fig, ax = plt.subplots(figsize=(4, 4), dpi=300)\n",
    "    ax.axis('off')\n",
    "\n",
    "    # Plot the DAPI image (contrast-stretched).\n",
    "    ax.imshow(set_min_max(img, 0, 255), cmap='gray')\n",
    "    # Overlay the random-colored ROIs.\n",
    "    ax.imshow(roi_overlay)\n",
    "\n",
    "    # Add a white scale bar at the bottom right.\n",
    "    height, width = img.shape\n",
    "    x_start = width - 50 - scale_bar_length\n",
    "    x_end = width - 50\n",
    "    y = height - 50  # 50 pixels from the bottom edge\n",
    "    ax.plot([x_start, x_end], [y, y], color='white', lw=2)\n",
    "\n",
    "    # Render the figure to a numpy array.\n",
    "    canvas = FigureCanvas(fig)\n",
    "    canvas.draw()\n",
    "    width_canvas, height_canvas = canvas.get_width_height()\n",
    "    buf = np.frombuffer(canvas.buffer_rgba(), dtype=np.uint8).reshape(height_canvas, width_canvas, 4)\n",
    "    frame = buf[..., :3]  # Extract RGB channels\n",
    "    plt.close(fig)  # Close the figure to free memory\n",
    "\n",
    "    # Downscale the frame if needed.\n",
    "    if scale_factor < 1:\n",
    "        new_width = int(frame.shape[1] * scale_factor)\n",
    "        new_height = int(frame.shape[0] * scale_factor)\n",
    "        frame = cv2.resize(frame, (new_width, new_height))\n",
    "    \n",
    "    frames.append(frame)"
   ]
  },
  {
   "cell_type": "code",
   "execution_count": 10,
   "metadata": {},
   "outputs": [
    {
     "name": "stderr",
     "output_type": "stream",
     "text": [
      "Multiple -codec/-c/-acodec/-vcodec/-scodec/-dcodec options specified for stream 0, only the last option '-codec:v prores_ks' will be used.\n",
      "Incompatible pixel format 'yuv420p' for codec 'prores_ks', auto-selecting format 'yuv422p10le'\n"
     ]
    },
    {
     "name": "stdout",
     "output_type": "stream",
     "text": [
      "Video saved to ../videos/20250307 B1 P14 U34-B3-546 Chymotrypsin-B2-647 DAPI/20250307 B1 Sample 1 Stack_cell_borders.mov\n"
     ]
    }
   ],
   "source": [
    "# Save frames as video \n",
    "output_dir = f'../videos/{input}/'\n",
    "os.makedirs(output_dir, exist_ok=True)\n",
    "output_video_path = f'../videos/{input}/{image.replace(\".czi\", \"_cell_borders.mov\")}'\n",
    "writer = imageio.get_writer(\n",
    "    output_video_path,\n",
    "    fps=10,\n",
    "    format='ffmpeg',\n",
    "    output_params=[\"-vcodec\", \"prores_ks\"]\n",
    ")\n",
    "for frame in frames:\n",
    "    writer.append_data(frame)\n",
    "writer.close()\n",
    "print(f\"Video saved to {output_video_path}\")"
   ]
  },
  {
   "cell_type": "code",
   "execution_count": null,
   "metadata": {},
   "outputs": [],
   "source": []
  }
 ],
 "metadata": {
  "kernelspec": {
   "display_name": "gg-napari-env",
   "language": "python",
   "name": "python3"
  },
  "language_info": {
   "codemirror_mode": {
    "name": "ipython",
    "version": 3
   },
   "file_extension": ".py",
   "mimetype": "text/x-python",
   "name": "python",
   "nbconvert_exporter": "python",
   "pygments_lexer": "ipython3",
   "version": "3.12.8"
  }
 },
 "nbformat": 4,
 "nbformat_minor": 2
}

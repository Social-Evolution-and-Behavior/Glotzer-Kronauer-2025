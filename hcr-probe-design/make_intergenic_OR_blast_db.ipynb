{
 "cells": [
  {
   "cell_type": "markdown",
   "metadata": {},
   "source": [
    "This script creates a file containing all the intergenic regions between ORs and then creates a blast database using those intergenic regions. "
   ]
  },
  {
   "cell_type": "code",
   "execution_count": 2,
   "metadata": {},
   "outputs": [
    {
     "name": "stdout",
     "output_type": "stream",
     "text": [
      "Initializing transcriptomics package\n",
      "Initializing HCR package\n"
     ]
    }
   ],
   "source": [
    "import Bio.SeqIO as SeqIO\n",
    "import pandas as pd\n",
    "import numpy as np\n",
    "import os\n",
    "import subprocess\n",
    "import sys\n",
    "sys.path.append('/Users/giacomo.glotzer/Desktop/Rockefeller/Kronauer/analysis')\n",
    "from transcriptomics import * \n",
    "from hcr import * "
   ]
  },
  {
   "cell_type": "code",
   "execution_count": 3,
   "metadata": {},
   "outputs": [],
   "source": [
    "# Load genome\n",
    "genome_fasta_path = '/Users/giacomo.glotzer/Desktop/Rockefeller/Kronauer/genome/Obir.assembly.v5.4.fasta'\n",
    "genome_seq = SeqIO.to_dict(SeqIO.parse(genome_fasta_path, \"fasta\"))"
   ]
  },
  {
   "cell_type": "code",
   "execution_count": 4,
   "metadata": {},
   "outputs": [],
   "source": [
    "# Load transcriptome \n",
    "tr = load_transcriptome_object('biroi_transcriptome') "
   ]
  },
  {
   "cell_type": "code",
   "execution_count": 5,
   "metadata": {},
   "outputs": [],
   "source": [
    "# Load or_db\n",
    "or_db = pd.read_excel('/Users/giacomo.glotzer/Desktop/Rockefeller/Kronauer/OR List.xlsx') "
   ]
  },
  {
   "cell_type": "code",
   "execution_count": null,
   "metadata": {},
   "outputs": [
    {
     "name": "stdout",
     "output_type": "stream",
     "text": [
      "Exported intergenic regions to /Users/giacomo.glotzer/Desktop/Rockefeller/Kronauer/transcriptome/intergenics/\n"
     ]
    }
   ],
   "source": [
    "# Make a blast database of all intergenic regions in the transcriptome \n",
    "\n",
    "# Export gene sequence for each intergenic region for blasting against transcriptome \n",
    "output_dir = '/Users/giacomo.glotzer/Desktop/Rockefeller/Kronauer/transcriptome/intergenics/'\n",
    "\n",
    "# Clear contents of the output directory\n",
    "for file in os.listdir(output_dir):\n",
    "    os.remove(f\"{output_dir}/{file}\")\n",
    "\n",
    "with open(f\"{output_dir}/all_intergenic_regions.fa\", 'w') as f:\n",
    "    TAs = np.unique(or_db.tandem_array.values)\n",
    "    for TA in TAs: \n",
    "        # Get genes \n",
    "        genes = or_db[or_db['tandem_array'] == TA]['gene_name'].values\n",
    "\n",
    "        # Get gene objects from tr \n",
    "        gene_objects = [tr.get_gene(gene) for gene in genes]\n",
    "\n",
    "        # Sort by start position of each transcript \n",
    "        gene_objects = sorted(gene_objects, key=lambda x: x.get_transcript_longest_bounds().get_bounds()[0])\n",
    "\n",
    "        # Get chromosome \n",
    "        chromosome = gene_objects[0].chromosome\n",
    "\n",
    "        # Make a list of intergenic regions and sequences, saving them to files for blasting \n",
    "        for i in range(len(gene_objects)-1): \n",
    "            first_gene = gene_objects[i]\n",
    "            second_gene = gene_objects[i+1]\n",
    "            # Get bounds \n",
    "            first_gene_bounds = first_gene.get_transcript_longest_bounds().get_bounds()\n",
    "            first_gene_end = first_gene_bounds[1] + 1 \n",
    "            second_gene_bounds = second_gene.get_transcript_longest_bounds().get_bounds()\n",
    "            second_gene_start = second_gene_bounds[0] - 1 \n",
    "            # Get intergenic distance\n",
    "            intergenic_distance = second_gene_bounds[0] - first_gene_bounds[1]\n",
    "            # Verify the intergenic_distance > 10bp \n",
    "            if intergenic_distance > 10: \n",
    "                # Get strand \n",
    "                strand = first_gene.strand\n",
    "                # Get intergenic sequence\n",
    "                intergenic_sequence = get_sequence(genome_seq, chromosome, first_gene_end, second_gene_start, strand)\n",
    "\n",
    "                # Write to file \n",
    "                f.write(f\">T{TA}-{first_gene.name}-{second_gene.name}-{chromosome}:{first_gene_end}-{second_gene_start}\\n{intergenic_sequence}\\n\")\n",
    "\n",
    "print(f\"Exported intergenic regions to {output_dir}\")\n",
    "    "
   ]
  },
  {
   "cell_type": "code",
   "execution_count": 7,
   "metadata": {},
   "outputs": [
    {
     "name": "stdout",
     "output_type": "stream",
     "text": [
      "\n",
      "\n",
      "Building a new DB, current time: 11/09/2024 14:09:15\n",
      "New DB name:   /Users/giacomo.glotzer/Desktop/Rockefeller/Kronauer/transcriptome/intergenics/all_intergenic_regions\n",
      "New DB title:  /Users/giacomo.glotzer/Desktop/Rockefeller/Kronauer/transcriptome/intergenics/all_intergenic_regions.fa\n",
      "Sequence type: Nucleotide\n",
      "Keep MBits: T\n",
      "Maximum file size: 3000000000B\n",
      "Adding sequences from FASTA; added 419 sequences in 0.0150938 seconds.\n",
      "\n",
      "\n"
     ]
    },
    {
     "data": {
      "text/plain": [
       "CompletedProcess(args='makeblastdb -in /Users/giacomo.glotzer/Desktop/Rockefeller/Kronauer/transcriptome/intergenics/all_intergenic_regions.fa -dbtype nucl -parse_seqids -out /Users/giacomo.glotzer/Desktop/Rockefeller/Kronauer/transcriptome/intergenics/all_intergenic_regions', returncode=0)"
      ]
     },
     "execution_count": 7,
     "metadata": {},
     "output_type": "execute_result"
    }
   ],
   "source": [
    "# Blast probe regions against these intergenic regions\n",
    "input_path = '/Users/giacomo.glotzer/Desktop/Rockefeller/Kronauer/transcriptome/intergenics/all_intergenic_regions.fa'\n",
    "output_path = '/Users/giacomo.glotzer/Desktop/Rockefeller/Kronauer/transcriptome/intergenics/all_intergenic_regions'\n",
    "command = f\"makeblastdb -in {input_path} -dbtype nucl -parse_seqids -out {output_path}\"\n",
    "subprocess.run(command, shell=True, check=True)"
   ]
  },
  {
   "cell_type": "markdown",
   "metadata": {},
   "source": []
  }
 ],
 "metadata": {
  "kernelspec": {
   "display_name": "antman",
   "language": "python",
   "name": "python3"
  },
  "language_info": {
   "codemirror_mode": {
    "name": "ipython",
    "version": 3
   },
   "file_extension": ".py",
   "mimetype": "text/x-python",
   "name": "python",
   "nbconvert_exporter": "python",
   "pygments_lexer": "ipython3",
   "version": "3.12.2"
  }
 },
 "nbformat": 4,
 "nbformat_minor": 2
}

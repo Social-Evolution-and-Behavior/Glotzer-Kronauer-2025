{
 "cells": [
  {
   "cell_type": "markdown",
   "metadata": {},
   "source": [
    "This script creates a file containing all the intergenic regions between ORs and then creates a blast database using those intergenic regions. Do this prior to using the intergenic blast database in probe design. "
   ]
  },
  {
   "cell_type": "code",
   "execution_count": 1,
   "metadata": {},
   "outputs": [
    {
     "name": "stdout",
     "output_type": "stream",
     "text": [
      "Initializing transcriptomics package\n",
      "Initializing HCR package\n"
     ]
    }
   ],
   "source": [
    "import Bio.SeqIO as SeqIO\n",
    "import pandas as pd\n",
    "import numpy as np\n",
    "import os\n",
    "import subprocess\n",
    "import sys\n",
    "sys.path.append('../')\n",
    "from transcriptomics import * \n",
    "from hcr import * "
   ]
  },
  {
   "cell_type": "code",
   "execution_count": 2,
   "metadata": {},
   "outputs": [],
   "source": [
    "# Load genome\n",
    "genome_path = \"../raw-data/OBir/genome/Obir.assembly.v5.4.fasta\"\n",
    "genome_seq = SeqIO.to_dict(SeqIO.parse(genome_path, \"fasta\"))"
   ]
  },
  {
   "cell_type": "code",
   "execution_count": 3,
   "metadata": {},
   "outputs": [],
   "source": [
    "# Load transcriptome \n",
    "tr = load_transcriptome_object(\"../raw-data/OBir/transcriptome/biroi_transcriptome\") "
   ]
  },
  {
   "cell_type": "code",
   "execution_count": 4,
   "metadata": {},
   "outputs": [],
   "source": [
    "# Load or_db\n",
    "or_db = pd.read_excel('../raw-data/OBir/ORs/OR List.xlsx') "
   ]
  },
  {
   "cell_type": "code",
   "execution_count": 6,
   "metadata": {},
   "outputs": [
    {
     "name": "stdout",
     "output_type": "stream",
     "text": [
      "Exported intergenic regions to ../raw-data/OBir/intergenics/\n"
     ]
    }
   ],
   "source": [
    "# Make a blast database of all intergenic regions in the transcriptome \n",
    "\n",
    "# Export gene sequence for each intergenic region for blasting against transcriptome \n",
    "output_dir = '../raw-data/OBir/intergenics/'\n",
    "\n",
    "# Create output directory if it doesn't exist\n",
    "if not os.path.exists(output_dir):\n",
    "    os.makedirs(output_dir)\n",
    "\n",
    "# Clear contents of the output directory\n",
    "for file in os.listdir(output_dir):\n",
    "    os.remove(f\"{output_dir}/{file}\")\n",
    "\n",
    "with open(f\"{output_dir}/all_intergenic_regions.fa\", 'w') as f:\n",
    "    TAs = np.unique(or_db.tandem_array.values)\n",
    "    for TA in TAs: \n",
    "        # Get genes \n",
    "        genes = or_db[or_db['tandem_array'] == TA]['gene_name'].values\n",
    "\n",
    "        # Get gene objects from tr \n",
    "        gene_objects = [tr.get_gene(gene) for gene in genes]\n",
    "\n",
    "        # Sort by start position of each transcript \n",
    "        gene_objects = sorted(gene_objects, key=lambda x: x.get_transcript_longest_bounds().get_bounds()[0])\n",
    "\n",
    "        # Get chromosome \n",
    "        chromosome = gene_objects[0].chromosome\n",
    "\n",
    "        # Make a list of intergenic regions and sequences, saving them to files for blasting \n",
    "        for i in range(len(gene_objects)-1): \n",
    "            first_gene = gene_objects[i]\n",
    "            second_gene = gene_objects[i+1]\n",
    "            # Get bounds \n",
    "            first_gene_bounds = first_gene.get_transcript_longest_bounds().get_bounds()\n",
    "            first_gene_end = first_gene_bounds[1] + 1 \n",
    "            second_gene_bounds = second_gene.get_transcript_longest_bounds().get_bounds()\n",
    "            second_gene_start = second_gene_bounds[0] - 1 \n",
    "            # Get intergenic distance\n",
    "            intergenic_distance = second_gene_bounds[0] - first_gene_bounds[1]\n",
    "            # Verify the intergenic_distance > 10bp \n",
    "            if intergenic_distance > 10: \n",
    "                # Get strand \n",
    "                strand = first_gene.strand\n",
    "                # Get intergenic sequence\n",
    "                intergenic_sequence = get_sequence(genome_seq, chromosome, first_gene_end, second_gene_start, strand)\n",
    "\n",
    "                # Write to file \n",
    "                f.write(f\">T{TA}-{first_gene.name}-{second_gene.name}-{chromosome}:{first_gene_end}-{second_gene_start}\\n{intergenic_sequence}\\n\")\n",
    "\n",
    "print(f\"Exported intergenic regions to {output_dir}\")\n",
    "    "
   ]
  },
  {
   "cell_type": "code",
   "execution_count": 8,
   "metadata": {},
   "outputs": [
    {
     "name": "stdout",
     "output_type": "stream",
     "text": [
      "\n",
      "\n",
      "Building a new DB, current time: 05/24/2025 12:05:11\n",
      "New DB name:   /Users/giacomo.glotzer/Desktop/Rockefeller/Kronauer/lncRNA Paper/code/raw-data/OBir/intergenics/all_intergenic_regions\n",
      "New DB title:  ../raw-data/OBir/intergenics/all_intergenic_regions.fa\n",
      "Sequence type: Nucleotide\n",
      "Deleted existing Nucleotide BLAST database named /Users/giacomo.glotzer/Desktop/Rockefeller/Kronauer/lncRNA Paper/code/raw-data/OBir/intergenics/all_intergenic_regions\n",
      "Keep MBits: T\n",
      "Maximum file size: 3000000000B\n",
      "Adding sequences from FASTA; added 419 sequences in 0.0135281 seconds.\n",
      "\n",
      "\n"
     ]
    },
    {
     "name": "stderr",
     "output_type": "stream",
     "text": [
      "BLAST Database error: No alias or index file found for nucleotide database [/Users/giacomo.glotzer/Desktop/Rockefeller/Kronauer/lncRNA] in search path [/Users/giacomo.glotzer/Desktop/Rockefeller/Kronauer/lncRNA Paper/code/hcr-probe-design::]\n"
     ]
    },
    {
     "data": {
      "text/plain": [
       "CompletedProcess(args='makeblastdb -in ../raw-data/OBir/intergenics/all_intergenic_regions.fa -dbtype nucl -parse_seqids -out ../raw-data/OBir/intergenics/all_intergenic_regions', returncode=2)"
      ]
     },
     "execution_count": 8,
     "metadata": {},
     "output_type": "execute_result"
    }
   ],
   "source": [
    "# Blast probe regions against these intergenic regions\n",
    "input_path = '../raw-data/OBir/intergenics/all_intergenic_regions.fa'\n",
    "output_path = '../raw-data/OBir/intergenics/all_intergenic_regions'\n",
    "command = f\"makeblastdb -in {input_path} -dbtype nucl -parse_seqids -out {output_path}\"\n",
    "subprocess.run(command, shell=True)"
   ]
  },
  {
   "cell_type": "code",
   "execution_count": null,
   "metadata": {},
   "outputs": [],
   "source": []
  },
  {
   "cell_type": "code",
   "execution_count": null,
   "metadata": {},
   "outputs": [],
   "source": []
  }
 ],
 "metadata": {
  "kernelspec": {
   "display_name": "antman",
   "language": "python",
   "name": "python3"
  },
  "language_info": {
   "codemirror_mode": {
    "name": "ipython",
    "version": 3
   },
   "file_extension": ".py",
   "mimetype": "text/x-python",
   "name": "python",
   "nbconvert_exporter": "python",
   "pygments_lexer": "ipython3",
   "version": "3.12.2"
  }
 },
 "nbformat": 4,
 "nbformat_minor": 2
}

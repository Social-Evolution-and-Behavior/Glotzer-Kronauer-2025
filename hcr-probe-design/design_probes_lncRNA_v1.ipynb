{
 "cells": [
  {
   "cell_type": "markdown",
   "metadata": {},
   "source": [
    "Updated November 25. Designs probes against a region antisense to the tandem array where there most likely are lncRNAs. Blasts against transcriptome with introns, transcriptome without introns, and intergenic databases to verify specificity. \n",
    "Author: Giacomo Glotzer. "
   ]
  },
  {
   "cell_type": "code",
   "execution_count": 1,
   "metadata": {},
   "outputs": [
    {
     "name": "stdout",
     "output_type": "stream",
     "text": [
      "Initializing transcriptomics package\n",
      "Initializing HCR package\n",
      "Initializing plotting package\n"
     ]
    }
   ],
   "source": [
    "from pygenomeviz import GenomeViz\n",
    "import Bio.SeqIO as SeqIO\n",
    "import pandas as pd\n",
    "import matplotlib.pyplot as plt\n",
    "import numpy as np\n",
    "import re\n",
    "import os\n",
    "import subprocess\n",
    "import sys\n",
    "sys.path.append('/Users/giacomo.glotzer/Desktop/Rockefeller/Kronauer/analysis')\n",
    "from transcriptomics import * \n",
    "from hcr import *\n",
    "from plotting import * \n",
    "\n",
    "# Specify blast databases\n",
    "new_transcriptome_db_no_introns = \"../raw-data/OBir/mRNA_no_introns/mRNA_no_introns\"\n",
    "new_transcriptome_db_yes_introns = \"../raw-data/OBir/mRNA_yes_introns/mRNA_yes_introns\"\n",
    "all_intergenic_regions_db = '../raw-data/OBir/intergenics/all_intergenic_regions'\n",
    "all_lncRNAs_db = '../raw-data/OBir/lncRNAs/all_ORs_antisense'\n",
    "\n",
    "# Load genome\n",
    "genome_path = \"../raw-data/OBir/genome/Obir.assembly.v5.4.fasta\"\n",
    "genome_seq = SeqIO.to_dict(SeqIO.parse(genome_path, \"fasta\"))\n",
    "\n",
    "# Load transcriptome\n",
    "tr = load_transcriptome_object(\"../raw-data/OBir/transcriptome/biroi_transcriptome.pkl\")\n",
    "\n",
    "# Load or_db\n",
    "or_db = pd.read_excel('../raw-data/OBir/ORs/OR List.xlsx') "
   ]
  },
  {
   "cell_type": "code",
   "execution_count": 4,
   "metadata": {},
   "outputs": [],
   "source": [
    "# set main directory for writing files \n",
    "main_directory = '../raw-data/OBir/single_lncRNA_probe_design/'\n",
    "if not os.path.exists(main_directory):\n",
    "    os.makedirs(main_directory)"
   ]
  },
  {
   "cell_type": "code",
   "execution_count": 5,
   "metadata": {},
   "outputs": [],
   "source": [
    "TA = 70"
   ]
  },
  {
   "cell_type": "code",
   "execution_count": 6,
   "metadata": {},
   "outputs": [],
   "source": [
    "class lncRNA():\n",
    "    def __init__(self, chromosome, start, end, strand, target_sequence):\n",
    "        self.start = start\n",
    "        self.end = end\n",
    "        self.chromosome = chromosome\n",
    "        self.strand = strand\n",
    "        self.target_sequence = target_sequence\n",
    "        self.name = f\"lncRNA_{chromosome}-{start}-{end}_{strand}\""
   ]
  },
  {
   "cell_type": "code",
   "execution_count": 7,
   "metadata": {},
   "outputs": [
    {
     "name": "stdout",
     "output_type": "stream",
     "text": [
      "Chr1:6511625-6514800 (+)\n"
     ]
    }
   ],
   "source": [
    "start_gene, end_gene = \"Or5-Q1\", \"Or5-Q1\"\n",
    "chromosome = tr.get_gene(start_gene).get_transcript_longest_bounds().chromosome\n",
    "start = tr.get_gene(start_gene).get_transcript_longest_bounds().get_bounds()[0]\n",
    "end = tr.get_gene(end_gene).get_transcript_longest_bounds().get_bounds()[1]\n",
    "strand = \"-\" if tr.get_gene(start_gene).get_transcript_longest_bounds().strand == \"+\" else \"+\" \n",
    "\n",
    "target_sequence = get_sequence(genome_seq, chromosome, start, end, strand)\n",
    "print(f\"{chromosome}:{start}-{end} ({strand})\")"
   ]
  },
  {
   "cell_type": "code",
   "execution_count": 8,
   "metadata": {},
   "outputs": [
    {
     "data": {
      "text/plain": [
       "'lncRNA_Chr1-6511625-6514800_+'"
      ]
     },
     "execution_count": 8,
     "metadata": {},
     "output_type": "execute_result"
    }
   ],
   "source": [
    "my_lnc = lncRNA(chromosome, start, end, strand, target_sequence)\n",
    "my_lnc.name"
   ]
  },
  {
   "cell_type": "code",
   "execution_count": 9,
   "metadata": {},
   "outputs": [],
   "source": [
    "# Permitted off-targets\n",
    "permitted_off_targets = ['Or5-Q1-lnc']"
   ]
  },
  {
   "cell_type": "code",
   "execution_count": 10,
   "metadata": {},
   "outputs": [],
   "source": [
    "# Export each gene sequence to a fasta file \n",
    "output_dir = os.path.join(main_directory, 'or_seq_blast_input')\n",
    "\n",
    "# Create output directory if it does not exist\n",
    "if not os.path.exists(output_dir):\n",
    "    os.makedirs(output_dir)\n",
    "\n",
    "# Clear contents of the output directory\n",
    "for file in os.listdir(output_dir):\n",
    "    os.remove(f\"{output_dir}/{file}\")\n",
    "\n",
    "with open(f\"{output_dir}/{my_lnc.name}.fasta\", 'w') as f: \n",
    "    f.write(f\">{my_lnc.name}\\n{my_lnc.target_sequence}\")"
   ]
  },
  {
   "cell_type": "code",
   "execution_count": 11,
   "metadata": {},
   "outputs": [
    {
     "data": {
      "text/plain": [
       "CompletedProcess(args=\"blastn -task blastn -query ../raw-data/OBir/single_lncRNA_probe_design/or_seq_blast_input/lncRNA_Chr1-6511625-6514800_+.fasta -db ../raw-data/OBir/lncRNAs/all_ORs_antisense -ungapped -word_size 15 -reward 1 -penalty -5 -dust no -strand plus -soft_masking false -max_target_seqs 10000 -out ../raw-data/OBir/single_lncRNA_probe_design/or_seq_blast_output/lncRNA_Chr1-6511625-6514800_+_blasted_lncRNAs.csv -outfmt '10 qseqid sseqid sacc pident length mismatch gapopen qstart qend sstart send evalue bitscore' -num_threads 4\", returncode=0)"
      ]
     },
     "execution_count": 11,
     "metadata": {},
     "output_type": "execute_result"
    }
   ],
   "source": [
    "## Blast genes against the transcriptome without introns (mature mRNA), transcriptome with introns (pre-mRNA), and intergenic regions \n",
    "input_dir = os.path.join(main_directory, 'or_seq_blast_input')\n",
    "output_dir = os.path.join(main_directory, 'or_seq_blast_output')\n",
    "\n",
    "# create output directory if it doesn't exist\n",
    "if not os.path.exists(output_dir):\n",
    "    os.makedirs(output_dir)\n",
    "\n",
    "# Clear contents of the output directory\n",
    "for file in os.listdir(output_dir):\n",
    "    os.remove(f\"{output_dir}/{file}\")\n",
    "\n",
    "# get gene sequence path \n",
    "input_path = f\"{input_dir}/{my_lnc.name}.fasta\"\n",
    "# no introns \n",
    "output_path = f\"{output_dir}/{my_lnc.name}_blasted_no_introns.csv\"\n",
    "command = f\"blastn -task blastn -query {input_path} -db {new_transcriptome_db_no_introns} -ungapped -word_size 15 -reward 1 -penalty -5 -strand plus -dust no -soft_masking false -max_target_seqs 10000 -out {output_path} -outfmt '10 qseqid sseqid sacc pident length mismatch gapopen qstart qend sstart send evalue bitscore' -num_threads 4\"\n",
    "subprocess.run(command, shell=True, check=True)\n",
    "# yes introns\n",
    "output_path = f\"{output_dir}/{my_lnc.name}_blasted_yes_introns.csv\"\n",
    "command = f\"blastn -task blastn -query {input_path} -db {new_transcriptome_db_yes_introns} -ungapped -word_size 15 -reward 1 -penalty -5 -strand plus -dust no -soft_masking false -max_target_seqs 10000 -out {output_path} -outfmt '10 qseqid sseqid sacc pident length mismatch gapopen qstart qend sstart send evalue bitscore' -num_threads 4\"\n",
    "subprocess.run(command, shell=True, check=True)\n",
    "# intergenic \n",
    "output_path = f\"{output_dir}/{my_lnc.name}_blasted_intergenics.csv\"\n",
    "command = f\"blastn -task blastn -query {input_path} -db {all_intergenic_regions_db} -ungapped -word_size 15 -reward 1 -penalty -5 -dust no -soft_masking false -max_target_seqs 10000 -out {output_path} -outfmt '10 qseqid sseqid sacc pident length mismatch gapopen qstart qend sstart send evalue bitscore' -num_threads 4\"\n",
    "subprocess.run(command, shell=True, check=True)\n",
    "# lncRNA \n",
    "output_path = f\"{output_dir}/{my_lnc.name}_blasted_lncRNAs.csv\"\n",
    "command = f\"blastn -task blastn -query {input_path} -db {all_lncRNAs_db} -ungapped -word_size 15 -reward 1 -penalty -5 -dust no -strand plus -soft_masking false -max_target_seqs 10000 -out {output_path} -outfmt '10 qseqid sseqid sacc pident length mismatch gapopen qstart qend sstart send evalue bitscore' -num_threads 4\"\n",
    "subprocess.run(command, shell=True, check=True)"
   ]
  },
  {
   "cell_type": "code",
   "execution_count": 12,
   "metadata": {},
   "outputs": [
    {
     "name": "stdout",
     "output_type": "stream",
     "text": [
      "Unique regions have been annotated and exported to ../raw-data/OBir/single_lncRNA_probe_design/or_seq_unique_regions\n"
     ]
    }
   ],
   "source": [
    "length_thresh = 50 \n",
    "\n",
    "## Iterate through blast results and annotate non-unique regions \n",
    "input_dir = os.path.join(main_directory, 'or_seq_blast_output')\n",
    "output_dir = os.path.join(main_directory, 'or_seq_unique_regions') \n",
    "\n",
    "# Create output directory if it does not exist\n",
    "if not os.path.exists(output_dir):\n",
    "    os.makedirs(output_dir)\n",
    "\n",
    "# Clear contents of the output directory\n",
    "for file in os.listdir(output_dir):\n",
    "    os.remove(f\"{output_dir}/{file}\")\n",
    "\n",
    "# No introns\n",
    "input_path = f\"{input_dir}/{my_lnc.name}_blasted_no_introns.csv\"\n",
    "blast_results_no_introns = pd.read_csv(input_path, header=None, names=['query_id', 'subject_id', 'subject_acc', 'percent_identity', 'length', 'mismatches', 'gap_opens', 'q_start', 'q_end', 's_start', 's_end', 'evalue', 'bitscore'])\n",
    "blast_results_no_introns['source'] = 'no_introns'\n",
    "\n",
    "# Yes introns\n",
    "input_path = f\"{input_dir}/{my_lnc.name}_blasted_yes_introns.csv\"\n",
    "blast_results_yes_introns = pd.read_csv(input_path, header=None, names=['query_id', 'subject_id', 'subject_acc', 'percent_identity', 'length', 'mismatches', 'gap_opens', 'q_start', 'q_end', 's_start', 's_end', 'evalue', 'bitscore'])\n",
    "blast_results_yes_introns['source'] = 'yes_introns'\n",
    "\n",
    "# Intergenics \n",
    "input_path = f\"{input_dir}/{my_lnc.name}_blasted_intergenics.csv\"\n",
    "blast_results_intergenics = pd.read_csv(input_path, header=None, names=['query_id', 'subject_id', 'subject_acc', 'percent_identity', 'length', 'mismatches', 'gap_opens', 'q_start', 'q_end', 's_start', 's_end', 'evalue', 'bitscore'])\n",
    "blast_results_intergenics['source'] = 'intergenics'\n",
    "\n",
    "# lncRNAs \n",
    "input_path = f\"{input_dir}/{my_lnc.name}_blasted_lncRNAs.csv\"\n",
    "blast_results_lncRNAs = pd.read_csv(input_path, header=None, names=['query_id', 'subject_id', 'subject_acc', 'percent_identity', 'length', 'mismatches', 'gap_opens', 'q_start', 'q_end', 's_start', 's_end', 'evalue', 'bitscore'])\n",
    "blast_results_lncRNAs['source'] = 'lncRNAs'\n",
    "\n",
    "# Concatenate \n",
    "blast_results = pd.concat([blast_results_no_introns, blast_results_yes_introns, blast_results_intergenics, blast_results_lncRNAs], axis=0)\n",
    "blast_results = blast_results.reset_index(drop=True)\n",
    "\n",
    "# remove rows where length < length_thresh \n",
    "blast_results = blast_results.loc[(blast_results['length'].values >= length_thresh), :]\n",
    "blast_results = blast_results.reset_index(drop=True)\n",
    "\n",
    "# Add column for subject gene ID \n",
    "blast_results['subject_gene_id'] = blast_results.apply(lambda x: tr.get_gene_from_transcript(x['subject_acc']), axis=1)\n",
    "blast_results['subject_gene_id'] = blast_results.apply(lambda x: x['subject_gene_id'] if x['subject_gene_id'] != None else tr.get_gene_from_transcript(x['subject_id']), axis=1)\n",
    "\n",
    "# permitted_off_targets \n",
    "blast_results['permitted_off_target'] = blast_results.apply(\n",
    "    lambda x: any([keyword in x['subject_id'] for keyword in permitted_off_targets]),\n",
    "    axis=1\n",
    ")\n",
    "\n",
    "# Get off-targets\n",
    "off_targets = blast_results.loc[(blast_results['length'].values >= length_thresh) & # length threshold, no need for mismatch threshold here \n",
    "                                    (blast_results['permitted_off_target'] == False), :]  # ignore overlapping intergenics \n",
    "\n",
    "# Annotate off-targets \n",
    "sequence = my_lnc.target_sequence\n",
    "for j, row in off_targets.iterrows():\n",
    "    sequence = sequence[:row['q_start']] + '-'*(row['q_end'] - row['q_start']) + sequence[row['q_end']:]\n",
    "my_lnc.unique_sequence = sequence \n",
    "\n",
    "# Save the blast results to the gene object \n",
    "my_lnc.blast_results = blast_results\n",
    "\n",
    "# Save the sequence to new file \n",
    "with open(f\"{output_dir}/{my_lnc.name}_unique.fasta\", 'w') as f:\n",
    "    f.write(f\">{my_lnc.name}\\n\")\n",
    "    f.write(sequence)\n",
    "\n",
    "print(f\"Unique regions have been annotated and exported to {output_dir}\")"
   ]
  },
  {
   "cell_type": "code",
   "execution_count": 13,
   "metadata": {},
   "outputs": [
    {
     "data": {
      "text/html": [
       "<div>\n",
       "<style scoped>\n",
       "    .dataframe tbody tr th:only-of-type {\n",
       "        vertical-align: middle;\n",
       "    }\n",
       "\n",
       "    .dataframe tbody tr th {\n",
       "        vertical-align: top;\n",
       "    }\n",
       "\n",
       "    .dataframe thead th {\n",
       "        text-align: right;\n",
       "    }\n",
       "</style>\n",
       "<table border=\"1\" class=\"dataframe\">\n",
       "  <thead>\n",
       "    <tr style=\"text-align: right;\">\n",
       "      <th></th>\n",
       "      <th>query_id</th>\n",
       "      <th>subject_id</th>\n",
       "      <th>subject_acc</th>\n",
       "      <th>percent_identity</th>\n",
       "      <th>length</th>\n",
       "      <th>mismatches</th>\n",
       "      <th>gap_opens</th>\n",
       "      <th>q_start</th>\n",
       "      <th>q_end</th>\n",
       "      <th>s_start</th>\n",
       "      <th>s_end</th>\n",
       "      <th>evalue</th>\n",
       "      <th>bitscore</th>\n",
       "      <th>source</th>\n",
       "      <th>subject_gene_id</th>\n",
       "      <th>permitted_off_target</th>\n",
       "    </tr>\n",
       "  </thead>\n",
       "  <tbody>\n",
       "  </tbody>\n",
       "</table>\n",
       "</div>"
      ],
      "text/plain": [
       "Empty DataFrame\n",
       "Columns: [query_id, subject_id, subject_acc, percent_identity, length, mismatches, gap_opens, q_start, q_end, s_start, s_end, evalue, bitscore, source, subject_gene_id, permitted_off_target]\n",
       "Index: []"
      ]
     },
     "execution_count": 13,
     "metadata": {},
     "output_type": "execute_result"
    }
   ],
   "source": [
    "off_targets"
   ]
  },
  {
   "cell_type": "code",
   "execution_count": 14,
   "metadata": {},
   "outputs": [
    {
     "data": {
      "text/html": [
       "<div>\n",
       "<style scoped>\n",
       "    .dataframe tbody tr th:only-of-type {\n",
       "        vertical-align: middle;\n",
       "    }\n",
       "\n",
       "    .dataframe tbody tr th {\n",
       "        vertical-align: top;\n",
       "    }\n",
       "\n",
       "    .dataframe thead th {\n",
       "        text-align: right;\n",
       "    }\n",
       "</style>\n",
       "<table border=\"1\" class=\"dataframe\">\n",
       "  <thead>\n",
       "    <tr style=\"text-align: right;\">\n",
       "      <th></th>\n",
       "      <th>query_id</th>\n",
       "      <th>subject_id</th>\n",
       "      <th>subject_acc</th>\n",
       "      <th>percent_identity</th>\n",
       "      <th>length</th>\n",
       "      <th>mismatches</th>\n",
       "      <th>gap_opens</th>\n",
       "      <th>q_start</th>\n",
       "      <th>q_end</th>\n",
       "      <th>s_start</th>\n",
       "      <th>s_end</th>\n",
       "      <th>evalue</th>\n",
       "      <th>bitscore</th>\n",
       "      <th>source</th>\n",
       "      <th>subject_gene_id</th>\n",
       "      <th>permitted_off_target</th>\n",
       "    </tr>\n",
       "  </thead>\n",
       "  <tbody>\n",
       "    <tr>\n",
       "      <th>0</th>\n",
       "      <td>lncRNA_Chr1-6511625-6514800_+</td>\n",
       "      <td>Or5-Q1-lnc</td>\n",
       "      <td>Or5-Q1-lnc</td>\n",
       "      <td>100.0</td>\n",
       "      <td>3175</td>\n",
       "      <td>0</td>\n",
       "      <td>0</td>\n",
       "      <td>1</td>\n",
       "      <td>3175</td>\n",
       "      <td>1</td>\n",
       "      <td>3175</td>\n",
       "      <td>0.0</td>\n",
       "      <td>6347.0</td>\n",
       "      <td>lncRNAs</td>\n",
       "      <td>None</td>\n",
       "      <td>True</td>\n",
       "    </tr>\n",
       "  </tbody>\n",
       "</table>\n",
       "</div>"
      ],
      "text/plain": [
       "                        query_id  subject_id subject_acc  percent_identity  \\\n",
       "0  lncRNA_Chr1-6511625-6514800_+  Or5-Q1-lnc  Or5-Q1-lnc             100.0   \n",
       "\n",
       "   length  mismatches  gap_opens  q_start  q_end  s_start  s_end  evalue  \\\n",
       "0    3175           0          0        1   3175        1   3175     0.0   \n",
       "\n",
       "   bitscore   source subject_gene_id  permitted_off_target  \n",
       "0    6347.0  lncRNAs            None                  True  "
      ]
     },
     "execution_count": 14,
     "metadata": {},
     "output_type": "execute_result"
    }
   ],
   "source": [
    "blast_results"
   ]
  },
  {
   "cell_type": "code",
   "execution_count": 15,
   "metadata": {},
   "outputs": [
    {
     "name": "stdout",
     "output_type": "stream",
     "text": [
      "There is enough space for 35 probes in lncRNA_Chr1-6511625-6514800_+\n"
     ]
    }
   ],
   "source": [
    "# Determine how many probes fit on each gene \n",
    "sequence = my_lnc.unique_sequence \n",
    "probes, regions, positions = design_hcr_probes(sequence, \"B1\")\n",
    "\n",
    "print(f\"There is enough space for {len(probes)} probes in {my_lnc.name}\")"
   ]
  },
  {
   "cell_type": "code",
   "execution_count": 16,
   "metadata": {},
   "outputs": [],
   "source": [
    "# Specify amplifier \n",
    "amplifier = \"B2\""
   ]
  },
  {
   "cell_type": "code",
   "execution_count": 17,
   "metadata": {},
   "outputs": [],
   "source": [
    "# Specify how many probes \n",
    "n_probes = 30"
   ]
  },
  {
   "cell_type": "code",
   "execution_count": 18,
   "metadata": {},
   "outputs": [
    {
     "name": "stdout",
     "output_type": "stream",
     "text": [
      "60 probes have been exported to ../raw-data/OBir/single_lncRNA_probe_design/IDT_sheets/lncRNA_Chr1-6511625-6514800_+_B2_2025-05-24.xlsx\n"
     ]
    }
   ],
   "source": [
    "# Export excel sheet with probes and excel sheet with probe binding regions \n",
    "\n",
    "# Design probes\n",
    "sequence = my_lnc.unique_sequence \n",
    "probes, regions, positions = design_hcr_probes(sequence, amplifier)\n",
    "\n",
    "# Randomly select n_probes_per_gene probes \n",
    "np.random.seed(1)\n",
    "if len(probes) < n_probes:\n",
    "    indices = range(len(probes))\n",
    "else: \n",
    "    indices = np.random.choice(range(len(probes)), n_probes, replace=False)\n",
    "probes = [probes[i] for i in indices]\n",
    "regions = [regions[i] for i in indices]\n",
    "\n",
    "# Save probes and regions to gene object\n",
    "my_lnc.probes = probes\n",
    "my_lnc.regions = regions\n",
    "\n",
    "# Collapse probes \n",
    "probes_collapsed = [probe for sublist in probes for probe in sublist]\n",
    "\n",
    "# Get date \n",
    "today = pd.Timestamp.now().strftime('%Y-%m-%d')\n",
    "\n",
    "# Export probes \n",
    "output_dir = os.path.join(main_directory, 'IDT_sheets')\n",
    "# Create output directory if it does not exist\n",
    "if not os.path.exists(output_dir):\n",
    "    os.makedirs(output_dir)\n",
    "# Create output path\n",
    "output_path = f\"{output_dir}/{my_lnc.name}_{amplifier}_{today}.xlsx\"\n",
    "# Create dataframe\n",
    "df = pd.DataFrame({'Sequence': probes_collapsed})\n",
    "# Add pool name column \n",
    "df['Pool name'] = f'{my_lnc.name}_{amplifier}'\n",
    "df = df[['Pool name', 'Sequence']]\n",
    "df.to_excel(output_path, index=False)\n",
    "print(f\"{len(probes_collapsed)} probes have been exported to {output_path}\")\n",
    "\n",
    "\n",
    "# Export probe binding regions\n",
    "output_dir = os.path.join(main_directory, 'probe_binding_regions_sheets') \n",
    "# Create output directory if it does not exist\n",
    "if not os.path.exists(output_dir):\n",
    "    os.makedirs(output_dir)\n",
    "# Create output path\n",
    "output_path = f\"{output_dir}/{my_lnc.name}_{amplifier}_regions_{today}.xlsx\"\n",
    "# Make a vector of the gene names for each probe \n",
    "target_genes = [my_lnc.name for _ in range(len(probes))]\n",
    "df = pd.DataFrame({'Gene': [my_lnc.name for _ in range(len(probes))], \n",
    "                   'Region': regions, \n",
    "                   'Probe 1': [probe[0] for probe in my_lnc.probes], \n",
    "                   'Probe 2': [probe[1] for probe in my_lnc.probes]})\n",
    "df.to_excel(output_path, index=False)"
   ]
  },
  {
   "cell_type": "code",
   "execution_count": 19,
   "metadata": {},
   "outputs": [],
   "source": [
    "# Export all_regions to individual fasta files \n",
    "\n",
    "output_dir = os.path.join(main_directory, 'probe_region_blast_input')\n",
    "# Create output directory if it does not exist\n",
    "if not os.path.exists(output_dir):\n",
    "    os.makedirs(output_dir)\n",
    "\n",
    "# Clear contents of the output directory\n",
    "for file in os.listdir(output_dir):\n",
    "    os.remove(f\"{output_dir}/{file}\")\n",
    "\n",
    "# Export all_regions to individual fasta files in output_dir \n",
    "for i, region in enumerate(regions): \n",
    "    with open(f\"{output_dir}/region-{i}.fasta\", 'w') as f: \n",
    "        f.write(f\">region-{i}\\n{region}\")"
   ]
  },
  {
   "cell_type": "code",
   "execution_count": 20,
   "metadata": {},
   "outputs": [
    {
     "name": "stdout",
     "output_type": "stream",
     "text": [
      "All regions have been blasted against the transcriptome\n"
     ]
    }
   ],
   "source": [
    "# Blast all regions against the transcriptome\n",
    "\n",
    "input_dir = os.path.join(main_directory, 'probe_region_blast_input')\n",
    "output_dir = os.path.join(main_directory, 'probe_region_blast_output') \n",
    "\n",
    "# Create output directory if it does not exist\n",
    "if not os.path.exists(output_dir):\n",
    "    os.makedirs(output_dir)\n",
    "\n",
    "# Clear contents of the output directory\n",
    "for file in os.listdir(output_dir):\n",
    "    os.remove(f\"{output_dir}/{file}\")\n",
    "\n",
    "# Blast each region against the transcriptome\n",
    "for i, region in enumerate(regions): \n",
    "    input_path = f\"{input_dir}/region-{i}.fasta\"\n",
    "\n",
    "    # Blast against transcriptome without introns\n",
    "    output_path = f\"{output_dir}/region-{i}-blasted_no_introns.csv\"\n",
    "    command = f\"blastn -task blastn -query {input_path} -db {new_transcriptome_db_no_introns} -ungapped -word_size 15 -reward 1 -penalty -1 -strand plus -dust no -soft_masking false -max_target_seqs 10000 -out {output_path} -outfmt '10 qseqid sseqid sacc pident length mismatch gapopen qstart qend sstart send evalue bitscore' -num_threads 4\"\n",
    "    subprocess.run(command, shell=True, check=True)\n",
    "\n",
    "    # Blast against transcriptome with introns\n",
    "    output_path = f\"{output_dir}/region-{i}-blasted_yes_introns.csv\"\n",
    "    command = f\"blastn -task blastn -query {input_path} -db {new_transcriptome_db_yes_introns} -ungapped -word_size 15 -reward 1 -penalty -1 -strand plus -dust no -soft_masking false -max_target_seqs 10000 -out {output_path} -outfmt '10 qseqid sseqid sacc pident length mismatch gapopen qstart qend sstart send evalue bitscore' -num_threads 4\"\n",
    "    subprocess.run(command, shell=True, check=True)\n",
    "\n",
    "    # Blast against intergenics \n",
    "    output_path = f\"{output_dir}/region-{i}-blasted_intergenics.csv\"\n",
    "    command = f\"blastn -task blastn -query {input_path} -db {all_intergenic_regions_db} -ungapped -word_size 15 -reward 1 -penalty -1 -dust no -soft_masking false -max_target_seqs 10000 -out {output_path} -outfmt '10 qseqid sseqid sacc pident length mismatch gapopen qstart qend sstart send evalue bitscore' -num_threads 4\"\n",
    "    subprocess.run(command, shell=True, check=True)\n",
    "\n",
    "    # Blast against lncRNAs\n",
    "    output_path = f\"{output_dir}/region-{i}-blasted_lncRNAs.csv\"\n",
    "    command = f\"blastn -task blastn -query {input_path} -db {all_lncRNAs_db} -ungapped -word_size 15 -reward 1 -penalty -5 -dust no -strand plus -soft_masking false -max_target_seqs 10000 -out {output_path} -outfmt '10 qseqid sseqid sacc pident length mismatch gapopen qstart qend sstart send evalue bitscore' -num_threads 4\"\n",
    "    subprocess.run(command, shell=True, check=True)\n",
    "\n",
    "print(\"All regions have been blasted against the transcriptome\")"
   ]
  },
  {
   "cell_type": "code",
   "execution_count": 21,
   "metadata": {},
   "outputs": [],
   "source": [
    "# Load in blast results\n",
    "output_dir = os.path.join(main_directory, 'probe_region_blast_output') \n",
    "all_blast_results = []\n",
    "for i, region in enumerate(regions):\n",
    "    output_path = f\"{output_dir}/region-{i}-blasted_no_introns.csv\"\n",
    "    blast_results = pd.read_csv(output_path, header=None, names=['query_id', 'subject_id', 'subject_acc', 'percent_identity', 'length', 'mismatches', 'gap_opens', 'q_start', 'q_end', 's_start', 's_end', 'evalue', 'bitscore'])\n",
    "    blast_results['source']  = 'no_introns'\n",
    "    all_blast_results.append(blast_results)\n",
    "    output_path = f\"{output_dir}/region-{i}-blasted_yes_introns.csv\"\n",
    "    blast_results = pd.read_csv(output_path, header=None, names=['query_id', 'subject_id', 'subject_acc', 'percent_identity', 'length', 'mismatches', 'gap_opens', 'q_start', 'q_end', 's_start', 's_end', 'evalue', 'bitscore'])\n",
    "    blast_results['source']  = 'yes_introns'\n",
    "    all_blast_results.append(blast_results)\n",
    "    output_path = f\"{output_dir}/region-{i}-blasted_intergenics.csv\"\n",
    "    blast_results = pd.read_csv(output_path, header=None, names=['query_id', 'subject_id', 'subject_acc', 'percent_identity', 'length', 'mismatches', 'gap_opens', 'q_start', 'q_end', 's_start', 's_end', 'evalue', 'bitscore'])\n",
    "    blast_results['source']  = 'intergenics'\n",
    "    all_blast_results.append(blast_results)\n",
    "    output_path = f\"{output_dir}/region-{i}-blasted_lncRNAs.csv\"\n",
    "    blast_results = pd.read_csv(output_path, header=None, names=['query_id', 'subject_id', 'subject_acc', 'percent_identity', 'length', 'mismatches', 'gap_opens', 'q_start', 'q_end', 's_start', 's_end', 'evalue', 'bitscore'])\n",
    "    blast_results['source']  = 'lncRNAs'\n",
    "    all_blast_results.append(blast_results)"
   ]
  },
  {
   "cell_type": "code",
   "execution_count": 22,
   "metadata": {},
   "outputs": [
    {
     "name": "stdout",
     "output_type": "stream",
     "text": [
      "Found 0 off-target hits with length >= 50bp, mismatches <= 5\n"
     ]
    }
   ],
   "source": [
    "# Check for non-unique regions\n",
    "\n",
    "num_hits_over_thresh = 0\n",
    "length_thresh = 50\n",
    "mismatch_thresh = 5 \n",
    "all_off_targets = pd.DataFrame()\n",
    "\n",
    "# Iterate through blast results \n",
    "for i, blast_results in enumerate(all_blast_results):\n",
    "    if len(blast_results) == 0: \n",
    "        continue\n",
    "\n",
    "    # Add column for subject gene ID \n",
    "    blast_results['subject_gene_id'] = blast_results.apply(lambda x: tr.get_gene_from_transcript(x['subject_acc']), axis=1)\n",
    "    blast_results['subject_gene_id'] = blast_results.apply(lambda x: x['subject_gene_id'] if x['subject_gene_id'] != None else tr.get_gene_from_transcript(x['subject_id']), axis=1)\n",
    "\n",
    "    # permitted_off_targets\n",
    "    blast_results['permitted_off_target'] = blast_results.apply(\n",
    "        lambda x: any([keyword in x['subject_id'] for keyword in permitted_off_targets]),\n",
    "        axis=1\n",
    "    )\n",
    "\n",
    "    # Get off-targets\n",
    "    off_targets = blast_results.loc[(blast_results['length'].values >= length_thresh) & # length threshold, no need for mismatch threshold here \n",
    "                                    (blast_results['mismatches'].values <= mismatch_thresh) & # mismatch threshold\n",
    "                                    (blast_results['permitted_off_target'] == False), :]  # ignore overlapping intergenics \n",
    "    \n",
    "    \n",
    "    # Add to the all_off_targets dataframe\n",
    "    all_off_targets = pd.concat([all_off_targets, off_targets])\n",
    "\n",
    "    # Update num_hits_over_thresh   \n",
    "    num_hits_over_thresh += len(off_targets)\n",
    "\n",
    "print(f\"Found {num_hits_over_thresh} off-target hits with length >= {length_thresh}bp, mismatches <= {mismatch_thresh}\")"
   ]
  },
  {
   "cell_type": "code",
   "execution_count": 23,
   "metadata": {},
   "outputs": [
    {
     "data": {
      "text/html": [
       "<div>\n",
       "<style scoped>\n",
       "    .dataframe tbody tr th:only-of-type {\n",
       "        vertical-align: middle;\n",
       "    }\n",
       "\n",
       "    .dataframe tbody tr th {\n",
       "        vertical-align: top;\n",
       "    }\n",
       "\n",
       "    .dataframe thead th {\n",
       "        text-align: right;\n",
       "    }\n",
       "</style>\n",
       "<table border=\"1\" class=\"dataframe\">\n",
       "  <thead>\n",
       "    <tr style=\"text-align: right;\">\n",
       "      <th></th>\n",
       "      <th>query_id</th>\n",
       "      <th>subject_id</th>\n",
       "      <th>subject_acc</th>\n",
       "      <th>percent_identity</th>\n",
       "      <th>length</th>\n",
       "      <th>mismatches</th>\n",
       "      <th>gap_opens</th>\n",
       "      <th>q_start</th>\n",
       "      <th>q_end</th>\n",
       "      <th>s_start</th>\n",
       "      <th>s_end</th>\n",
       "      <th>evalue</th>\n",
       "      <th>bitscore</th>\n",
       "      <th>source</th>\n",
       "      <th>subject_gene_id</th>\n",
       "      <th>permitted_off_target</th>\n",
       "    </tr>\n",
       "  </thead>\n",
       "  <tbody>\n",
       "  </tbody>\n",
       "</table>\n",
       "</div>"
      ],
      "text/plain": [
       "Empty DataFrame\n",
       "Columns: [query_id, subject_id, subject_acc, percent_identity, length, mismatches, gap_opens, q_start, q_end, s_start, s_end, evalue, bitscore, source, subject_gene_id, permitted_off_target]\n",
       "Index: []"
      ]
     },
     "execution_count": 23,
     "metadata": {},
     "output_type": "execute_result"
    }
   ],
   "source": [
    "all_off_targets"
   ]
  },
  {
   "cell_type": "code",
   "execution_count": 24,
   "metadata": {},
   "outputs": [
    {
     "data": {
      "image/png": "[encoded data removed]",
      "text/plain": [
       "<Figure size 1500x100 with 1 Axes>"
      ]
     },
     "metadata": {},
     "output_type": "display_data"
    }
   ],
   "source": [
    "white_plotting()\n",
    "gv = GenomeViz(track_align_type=\"center\", theme=\"light\")\n",
    "gv.set_scale_bar(ymargin=0.5)\n",
    "\n",
    "# Get genes \n",
    "genes = or_db[or_db['tandem_array'] == TA]['gene_name'].values\n",
    "# Get gene objects from tr \n",
    "gene_objects = [tr.get_gene(gene) for gene in genes]\n",
    "\n",
    "# Get bounds \n",
    "chromosome = gene_objects[0].chromosome\n",
    "bounds = [gene_object.get_transcript_longest_bounds().get_bounds() for gene_object in gene_objects]\n",
    "min_start = int(np.min(bounds))\n",
    "max_end = int(np.max(bounds))\n",
    "track = gv.add_feature_track(chromosome, segments = (min_start, max_end))\n",
    "track.add_sublabel()\n",
    "\n",
    "# Add gene models to plot \n",
    "for gene in gene_objects:\n",
    "    transcript = gene.get_transcript_longest_bounds()\n",
    "    bounds = transcript.get_bounds()\n",
    "    strand = np.where(transcript.strand == '+', 1, -1) \n",
    "    track.add_feature(int(bounds[0]), int(bounds[1]), strand, plotstyle='arrow', arrow_shaft_ratio = 0.5, label=gene.name)\n",
    "\n",
    "# Get the region of the genome \n",
    "forward_seq = str(genome_seq[chromosome].seq[min_start:max_end]).upper()\n",
    "\n",
    "# Add probe regions to plot on opposite strand \n",
    "for region in regions:\n",
    "    positions = [m.start() for m in re.finditer(region, forward_seq)]\n",
    "    for position in positions:\n",
    "        track.add_feature(min_start + position, min_start + position + len(region), 1, plotstyle=\"box\", label = '', ec=\"none\", fc=\"magenta\", alpha=1)\n",
    "\n",
    "# Add reverse complement \n",
    "reverse_seq = reverse_complement(forward_seq)\n",
    "for region in regions:\n",
    "    positions = [m.start() for m in re.finditer(region, reverse_seq)]\n",
    "    for position in positions:\n",
    "        track.add_feature(max_end - position - len(region), max_end - position, -1, plotstyle=\"box\", label = '', ec=\"none\", fc=\"magenta\", alpha=1)\n",
    "\n",
    "fig = gv.plotfig()\n",
    "\n",
    "name = re.sub('_', ' ', my_lnc.name)\n",
    "plt.title(f\"{name} Probes\", y=1.8, fontsize=16)\n",
    "plt.show()\n",
    "\n",
    "# Export figure \n",
    "output_dir = os.path.join(main_directory, 'probe_regions_plot')\n",
    "\n",
    "# Create output directory if it does not exist\n",
    "if not os.path.exists(output_dir):\n",
    "    os.makedirs(output_dir)\n",
    "\n",
    "# Save figure\n",
    "output_path = f\"{output_dir}/{my_lnc.name}_{amplifier}_probes.png\"\n",
    "fig.savefig(output_path, bbox_inches='tight', dpi=300)\n",
    "\n"
   ]
  },
  {
   "cell_type": "code",
   "execution_count": null,
   "metadata": {},
   "outputs": [],
   "source": []
  }
 ],
 "metadata": {
  "kernelspec": {
   "display_name": "antman",
   "language": "python",
   "name": "python3"
  },
  "language_info": {
   "codemirror_mode": {
    "name": "ipython",
    "version": 3
   },
   "file_extension": ".py",
   "mimetype": "text/x-python",
   "name": "python",
   "nbconvert_exporter": "python",
   "pygments_lexer": "ipython3",
   "version": "3.12.2"
  }
 },
 "nbformat": 4,
 "nbformat_minor": 2
}

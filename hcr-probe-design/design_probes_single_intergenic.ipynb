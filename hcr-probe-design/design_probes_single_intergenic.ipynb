{
 "cells": [
  {
   "cell_type": "markdown",
   "metadata": {},
   "source": [
    "Updated November 9, 2024. Designs probes against a single intergenic region between two ORs. Blasts against transcriptome with introns, transcriptome without introns, and intergenic databases to verify specificity. \n",
    "Author: Giacomo Glotzer. "
   ]
  },
  {
   "cell_type": "code",
   "execution_count": 1,
   "metadata": {},
   "outputs": [
    {
     "name": "stdout",
     "output_type": "stream",
     "text": [
      "Initializing transcriptomics package\n",
      "Initializing HCR package\n",
      "Initializing plotting package\n"
     ]
    }
   ],
   "source": [
    "from pygenomeviz import GenomeViz\n",
    "import Bio.SeqIO as SeqIO\n",
    "import pandas as pd\n",
    "import matplotlib.pyplot as plt\n",
    "import numpy as np\n",
    "import re\n",
    "import os\n",
    "import subprocess\n",
    "import sys\n",
    "sys.path.append('/Users/giacomo.glotzer/Desktop/Rockefeller/Kronauer/analysis')\n",
    "from transcriptomics import * \n",
    "from hcr import *\n",
    "from plotting import * \n",
    "\n",
    "# Specify blast databases\n",
    "new_transcriptome_db_no_introns = \"../raw-data/OBir/mRNA_no_introns/mRNA_no_introns\"\n",
    "new_transcriptome_db_yes_introns = \"../raw-data/OBir/mRNA_yes_introns/mRNA_yes_introns\"\n",
    "all_intergenic_regions_db = '../raw-data/OBir/intergenics/all_intergenic_regions'\n",
    "all_lncRNAs_db = '../raw-data/OBir/lncRNAs/all_ORs_antisense'\n",
    "\n",
    "# Load genome\n",
    "genome_path = \"../raw-data/OBir/genome/Obir.assembly.v5.4.fasta\"\n",
    "genome_seq = SeqIO.to_dict(SeqIO.parse(genome_path, \"fasta\"))\n",
    "\n",
    "# Load transcriptome\n",
    "tr = load_transcriptome_object(\"../raw-data/OBir/transcriptome/biroi_transcriptome.pkl\")\n",
    "\n",
    "# Load or_db\n",
    "or_db = pd.read_excel('../raw-data/OBir/ORs/OR List.xlsx') "
   ]
  },
  {
   "cell_type": "code",
   "execution_count": null,
   "metadata": {},
   "outputs": [],
   "source": [
    "# set main directory for writing files \n",
    "main_directory = '../raw-data/OBir/single_intergenic_probe_design/'\n",
    "if not os.path.exists(main_directory):\n",
    "    os.makedirs(main_directory)"
   ]
  },
  {
   "cell_type": "code",
   "execution_count": 3,
   "metadata": {},
   "outputs": [],
   "source": [
    "# Specify Gene \n",
    "flanking_genes = [\"Or5-Y1\", \"Or5-P1\"] "
   ]
  },
  {
   "cell_type": "code",
   "execution_count": 88,
   "metadata": {},
   "outputs": [],
   "source": [
    "# Get gene objects\n",
    "gene_objects = [tr.get_gene(gene) for gene in flanking_genes]"
   ]
  },
  {
   "cell_type": "code",
   "execution_count": 89,
   "metadata": {},
   "outputs": [
    {
     "data": {
      "text/plain": [
       "'Chr2'"
      ]
     },
     "execution_count": 89,
     "metadata": {},
     "output_type": "execute_result"
    }
   ],
   "source": [
    "# Get chromosome \n",
    "chromosome = gene_objects[0].chromosome\n",
    "chromosome"
   ]
  },
  {
   "cell_type": "code",
   "execution_count": 90,
   "metadata": {},
   "outputs": [
    {
     "data": {
      "text/plain": [
       "['+', '+']"
      ]
     },
     "execution_count": 90,
     "metadata": {},
     "output_type": "execute_result"
    }
   ],
   "source": [
    "# Get strand \n",
    "strand = [gene.strand for gene in gene_objects]\n",
    "strand"
   ]
  },
  {
   "cell_type": "code",
   "execution_count": 91,
   "metadata": {},
   "outputs": [
    {
     "data": {
      "text/plain": [
       "[[3732298, 3735172], [3736484, 3739345]]"
      ]
     },
     "execution_count": 91,
     "metadata": {},
     "output_type": "execute_result"
    }
   ],
   "source": [
    "# Get gene bounds \n",
    "gene_bounds = [gene.get_transcript_longest_bounds().get_bounds() for gene in gene_objects]\n",
    "gene_bounds"
   ]
  },
  {
   "cell_type": "code",
   "execution_count": 92,
   "metadata": {},
   "outputs": [],
   "source": [
    "# Verify that the bounds are in ascending order \n",
    "flattened_bounds = [bound for gene in gene_bounds for bound in gene]\n",
    "assert flattened_bounds == sorted(flattened_bounds)"
   ]
  },
  {
   "cell_type": "code",
   "execution_count": 93,
   "metadata": {},
   "outputs": [],
   "source": [
    "# Get intergenic bounds \n",
    "intergenic_bounds = [gene_bounds[0][1], gene_bounds[1][0]]"
   ]
  },
  {
   "cell_type": "code",
   "execution_count": 94,
   "metadata": {},
   "outputs": [],
   "source": [
    "# Permitted off-targets\n",
    "permitted_off_targets = []"
   ]
  },
  {
   "cell_type": "code",
   "execution_count": 95,
   "metadata": {},
   "outputs": [
    {
     "name": "stdout",
     "output_type": "stream",
     "text": [
      "Sequence length: 1312\n"
     ]
    },
    {
     "data": {
      "text/plain": [
       "'TAATTGTTCATACTAATTTCTGAATCCTGACAACTTTGAAAATGAAGGAATTCGTTATCTTATGTAGAAAGATAGAACTTACCTCTCGTACGTTCATTTCGAACAGATGATATCTATGCGTAATAGTATCGAAATAATATCAAAATATTACACGATATAAACCGCAATACAACTGATACGTGCATTACGTACATTATGTGAGTAAAACACATGTGAGTAAAGTTCTCTCTATGTTCAGATGCAACAAAAAGAGACAATTGTTTGACGAGTGACTACTTGTAAATCGTGATCATATAAATTCTAATACATTACTAAATTGCGTAAAGCGTAGTTTGATGCACCTAGCGATAATGCGTTAAGAGCACGCCGATAAGTGAGTATCCGTACAAAACTTACCTTTTCAAAAATAGGTATAAAAAGACGCCACACTATTACAGTTGAATAACTTTTGGCAAGAATAACAAACAAACCAAATGTTCTTTATTTGAAACCGTATAAGCAATAAACAAAAAAAGATTACACTCATTACGTGTTAATACTTGTTTTAATTTTTTTTAATTTAATTATTTTTAAGATATTGAACTTGTTGAATCCTTGAAGATTTGTGATTCATTACTGTGATACGTCACAGTAAAGAGTATAGTGTTATAATATTCGTTATGTTATTTTATTGCTATTTCTTTCTATATCCGTACGCGGCAATAATTTCAGACATGAAAGCAAGATCTTTCATTTCACCATTTATACAGTTTGAATTAATTCTAATATTCTATGGATATATCCAACGACATATAAGCGGTAAGAGATAAGAAGCGTAATATTATACAATAAATTTCAGACAAAAATAATCTTTTACCATATAAAAATACTTACTTGCATATTCGCGTCTACAAGTTTTCTAATAATCTTTAAAGCACTAACTTGCTTATCTAGCATACATTTCCAACTTTGGACAGAAATAATCTACACCGTTCAATTGTTATACCTACGTCCAAACGTTAAACCGAAGGGCTTACCAAGAACTGAAACGTACCATAAGTGACTCTTGTATACTGAGTAAAACACGAAGTTTTCTCTAGCAATTTGCGTATATCAACAATTGTCCGCTGAATGATGAAACCTATAGTCATGTAAATTCTTATAGACTCACAATTTGCGTCAGGCGTATAGTTTAATGCACTTAGCAATAATGCGATAAGAACCTAAAGGTAGACTGATAACTGGGTATACATCCCAAAATATAAAAAATAATCCCGAATACCTGAGTAATATTGGAATACTAACATATCATCGGTTATTGACATACAGTTAC'"
      ]
     },
     "execution_count": 95,
     "metadata": {},
     "output_type": "execute_result"
    }
   ],
   "source": [
    "# Here we use only the EXONS and UTRs, NO INTRONS \n",
    "sequence = get_sequence(genome_seq, chromosome, intergenic_bounds[0], intergenic_bounds[1], strand[0])\n",
    "print(f\"Sequence length: {len(sequence)}\")\n",
    "sequence"
   ]
  },
  {
   "cell_type": "code",
   "execution_count": 96,
   "metadata": {},
   "outputs": [],
   "source": [
    "# define a object called intergenic \n",
    "class Intergenic: \n",
    "    def __init__(self, gene_1, gene_2, chromosome, start, end, strand, sequence): \n",
    "        self.gene_1 = gene_1\n",
    "        self.gene_2 = gene_2\n",
    "        self.chromosome = chromosome\n",
    "        self.start = start\n",
    "        self.end = end\n",
    "        self.strand = strand\n",
    "        self.sequence = sequence\n",
    "        self.length = len(sequence)\n",
    "        self.name = f\"Intergenic-{re.sub(\"Or5-\",\"\",gene_1)}-{re.sub(\"Or5-\",\"\",gene_2)}\"\n",
    "        self.short_name = f\"{gene_1}-{gene_2}\""
   ]
  },
  {
   "cell_type": "code",
   "execution_count": 97,
   "metadata": {},
   "outputs": [
    {
     "data": {
      "text/plain": [
       "'Intergenic-Y1-P1'"
      ]
     },
     "execution_count": 97,
     "metadata": {},
     "output_type": "execute_result"
    }
   ],
   "source": [
    "intergenic = Intergenic(flanking_genes[0], flanking_genes[1], chromosome, intergenic_bounds[0], intergenic_bounds[1], strand[0], sequence)\n",
    "intergenic.name"
   ]
  },
  {
   "cell_type": "code",
   "execution_count": 98,
   "metadata": {},
   "outputs": [],
   "source": [
    "# Export each gene sequence to a fasta file \n",
    "output_dir = os.path.join(main_directory, 'intergenic_seq_blast_input')\n",
    "\n",
    "# Create output directory if it does not exist\n",
    "if not os.path.exists(output_dir):\n",
    "    os.makedirs(output_dir)\n",
    "\n",
    "# Clear contents of the output directory\n",
    "for file in os.listdir(output_dir):\n",
    "    os.remove(f\"{output_dir}/{file}\")\n",
    "\n",
    "with open(f\"{output_dir}/{intergenic.short_name}.fasta\", 'w') as f: \n",
    "    f.write(f\">{intergenic.name}\\n{intergenic.sequence}\")"
   ]
  },
  {
   "cell_type": "code",
   "execution_count": 99,
   "metadata": {},
   "outputs": [
    {
     "data": {
      "text/plain": [
       "CompletedProcess(args=\"blastn -task blastn -query ../raw-data/single_intergenic_probe_design/intergenic_seq_blast_input/Or5-Y1-Or5-P1.fasta -db ../raw-data/OBir/intergenics/all_intergenic_regions -ungapped -word_size 15 -reward 1 -penalty -5 -dust no -soft_masking false -max_target_seqs 10000 -out ../raw-data/single_intergenic_probe_design/intergenic_seq_blast_output/Or5-Y1-Or5-P1_blasted_intergenics.csv -outfmt '10 qseqid sseqid sacc pident length mismatch gapopen qstart qend sstart send evalue bitscore' -num_threads 4\", returncode=0)"
      ]
     },
     "execution_count": 99,
     "metadata": {},
     "output_type": "execute_result"
    }
   ],
   "source": [
    "## Blast genes against the transcriptome without introns (mature mRNA), transcriptome with introns (pre-mRNA), and intergenic regions \n",
    "input_dir = os.path.join(main_directory, 'intergenic_seq_blast_input')\n",
    "output_dir = os.path.join(main_directory, 'intergenic_seq_blast_output')\n",
    "\n",
    "# create output directory if it doesn't exist\n",
    "if not os.path.exists(output_dir):\n",
    "    os.makedirs(output_dir)\n",
    "\n",
    "# Clear contents of the output directory\n",
    "for file in os.listdir(output_dir):\n",
    "    os.remove(f\"{output_dir}/{file}\")\n",
    "\n",
    "# get gene sequence path \n",
    "input_path = f\"{input_dir}/{intergenic.short_name}.fasta\"\n",
    "# no introns \n",
    "output_path = f\"{output_dir}/{intergenic.short_name}_blasted_no_introns.csv\"\n",
    "command = f\"blastn -task blastn -query {input_path} -db {new_transcriptome_db_no_introns} -ungapped -word_size 15 -reward 1 -penalty -5 -dust no -soft_masking false -max_target_seqs 10000 -out {output_path} -outfmt '10 qseqid sseqid sacc pident length mismatch gapopen qstart qend sstart send evalue bitscore' -num_threads 4\"\n",
    "subprocess.run(command, shell=True, check=True)\n",
    "# yes introns\n",
    "output_path = f\"{output_dir}/{intergenic.short_name}_blasted_yes_introns.csv\"\n",
    "command = f\"blastn -task blastn -query {input_path} -db {new_transcriptome_db_yes_introns} -ungapped -word_size 15 -reward 1 -penalty -5 -dust no -soft_masking false -max_target_seqs 10000 -out {output_path} -outfmt '10 qseqid sseqid sacc pident length mismatch gapopen qstart qend sstart send evalue bitscore' -num_threads 4\"\n",
    "subprocess.run(command, shell=True, check=True)\n",
    "# intergenic \n",
    "output_path = f\"{output_dir}/{intergenic.short_name}_blasted_intergenics.csv\"\n",
    "command = f\"blastn -task blastn -query {input_path} -db {all_intergenic_regions_db} -ungapped -word_size 15 -reward 1 -penalty -5 -dust no -soft_masking false -max_target_seqs 10000 -out {output_path} -outfmt '10 qseqid sseqid sacc pident length mismatch gapopen qstart qend sstart send evalue bitscore' -num_threads 4\"\n",
    "subprocess.run(command, shell=True, check=True)"
   ]
  },
  {
   "cell_type": "code",
   "execution_count": 100,
   "metadata": {},
   "outputs": [
    {
     "name": "stdout",
     "output_type": "stream",
     "text": [
      "Unique regions have been annotated and exported to ../raw-data/single_intergenic_probe_design/intergenic_seq_unique_regions\n"
     ]
    }
   ],
   "source": [
    "length_thresh = 50 \n",
    "\n",
    "## Iterate through blast results and annotate non-unique regions \n",
    "input_dir = os.path.join(main_directory, 'intergenic_seq_blast_output')\n",
    "output_dir = os.path.join(main_directory, 'intergenic_seq_unique_regions') \n",
    "\n",
    "# Create output directory if it does not exist\n",
    "if not os.path.exists(output_dir):\n",
    "    os.makedirs(output_dir)\n",
    "\n",
    "# Clear contents of the output directory\n",
    "for file in os.listdir(output_dir):\n",
    "    os.remove(f\"{output_dir}/{file}\")\n",
    "\n",
    "# No introns\n",
    "input_path = f\"{input_dir}/{intergenic.short_name}_blasted_no_introns.csv\"\n",
    "blast_results_no_introns = pd.read_csv(input_path, header=None, names=['query_id', 'subject_id', 'subject_acc', 'percent_identity', 'length', 'mismatches', 'gap_opens', 'q_start', 'q_end', 's_start', 's_end', 'evalue', 'bitscore'])\n",
    "blast_results_no_introns['source'] = 'no_introns'\n",
    "\n",
    "# Yes introns\n",
    "input_path = f\"{input_dir}/{intergenic.short_name}_blasted_yes_introns.csv\"\n",
    "blast_results_yes_introns = pd.read_csv(input_path, header=None, names=['query_id', 'subject_id', 'subject_acc', 'percent_identity', 'length', 'mismatches', 'gap_opens', 'q_start', 'q_end', 's_start', 's_end', 'evalue', 'bitscore'])\n",
    "blast_results_yes_introns['source'] = 'yes_introns'\n",
    "\n",
    "# Yes introns\n",
    "input_path = f\"{input_dir}/{intergenic.short_name}_blasted_intergenics.csv\"\n",
    "blast_results_intergenics = pd.read_csv(input_path, header=None, names=['query_id', 'subject_id', 'subject_acc', 'percent_identity', 'length', 'mismatches', 'gap_opens', 'q_start', 'q_end', 's_start', 's_end', 'evalue', 'bitscore'])\n",
    "blast_results_intergenics['source'] = 'intergenics'\n",
    "\n",
    "# Concatenate \n",
    "blast_results = pd.concat([blast_results_no_introns, blast_results_yes_introns, blast_results_intergenics], axis=0)\n",
    "\n",
    "# remove rows where length < length_thresh \n",
    "blast_results = blast_results.loc[(blast_results['length'].values >= length_thresh), :]\n",
    "\n",
    "# GEt intergenic_location \n",
    "blast_results['intergenic_location'] = blast_results['subject_id'].apply(\n",
    "    lambda x: \"Chr\"+x.split(\"Chr\")[1] # for intergenic regions\n",
    "    if 'Chr' in x\n",
    "    else \"\"\n",
    ")\n",
    "\n",
    "# Get location of intergenic hits \n",
    "blast_results['intergenic_chr'] = blast_results['intergenic_location'].apply(\n",
    "    lambda x: \"Chr\" + x.split('Chr')[1].split(':')[0] # for intergenic regions\n",
    "    if 'Chr' in x\n",
    "    else \"\"\n",
    ")\n",
    "\n",
    "# Get location of intergenic start \n",
    "blast_results['intergenic_start'] = blast_results['intergenic_location'].apply(\n",
    "    lambda x: int(x.split('Chr')[1].split(':')[1].split('-')[0]) # for intergenic regions\n",
    "    if 'Chr' in x\n",
    "    else \"\"\n",
    ")\n",
    "\n",
    "# Get location of intergenic end \n",
    "blast_results['intergenic_end'] = blast_results['intergenic_location'].apply(\n",
    "    lambda x: int(x.split('Chr')[1].split(':')[1].split('-')[1]) # for intergenic regions\n",
    "    if 'Chr' in x\n",
    "    else \"\"\n",
    ")\n",
    "\n",
    "# Overlapping with intergenic region? \n",
    "blast_results['overlapping_with_intergenic'] = blast_results.apply(\n",
    "    lambda x: overlapping(intergenic.chromosome, intergenic.start, intergenic.end, x['intergenic_chr'], x['intergenic_start'], x['intergenic_end']),\n",
    "    axis=1\n",
    ")\n",
    "\n",
    "# permitted_off_targets \n",
    "blast_results['permitted_off_target'] = blast_results.apply(\n",
    "    lambda x: any([keyword in x['subject_id'] for keyword in permitted_off_targets]),\n",
    "    axis=1\n",
    ")\n",
    "\n",
    "# Retrieve sequence\n",
    "sequence = intergenic.sequence\n",
    "\n",
    "# Get off-targets\n",
    "off_targets = blast_results.loc[(blast_results['length'].values >= length_thresh) & # length threshold, no need for mismatch threshold here \n",
    "                                    (blast_results['overlapping_with_intergenic'] == False) & \n",
    "                                    (blast_results['permitted_off_target'] == False), :]  # ignore overlapping intergenics \n",
    "\n",
    "# Annotate off-targets \n",
    "for j, row in off_targets.iterrows():\n",
    "    sequence = sequence[:row['q_start']] + '-'*(row['q_end'] - row['q_start']) + sequence[row['q_end']:]\n",
    "\n",
    "# Save the annotated sequence to the gene object\n",
    "intergenic.unique_sequence = sequence \n",
    "\n",
    "# Save the blast results to the gene object \n",
    "intergenic.blast_results = blast_results\n",
    "\n",
    "# Save the sequence to new file \n",
    "with open(f\"{output_dir}/{intergenic.short_name}_unique.fasta\", 'w') as f:\n",
    "    f.write(f\">{intergenic.short_name}\\n{intergenic.unique_sequence}\")\n",
    "\n",
    "print(f\"Unique regions have been annotated and exported to {output_dir}\")"
   ]
  },
  {
   "cell_type": "code",
   "execution_count": 101,
   "metadata": {},
   "outputs": [
    {
     "data": {
      "text/html": [
       "<div>\n",
       "<style scoped>\n",
       "    .dataframe tbody tr th:only-of-type {\n",
       "        vertical-align: middle;\n",
       "    }\n",
       "\n",
       "    .dataframe tbody tr th {\n",
       "        vertical-align: top;\n",
       "    }\n",
       "\n",
       "    .dataframe thead th {\n",
       "        text-align: right;\n",
       "    }\n",
       "</style>\n",
       "<table border=\"1\" class=\"dataframe\">\n",
       "  <thead>\n",
       "    <tr style=\"text-align: right;\">\n",
       "      <th></th>\n",
       "      <th>query_id</th>\n",
       "      <th>subject_id</th>\n",
       "      <th>subject_acc</th>\n",
       "      <th>percent_identity</th>\n",
       "      <th>length</th>\n",
       "      <th>mismatches</th>\n",
       "      <th>gap_opens</th>\n",
       "      <th>q_start</th>\n",
       "      <th>q_end</th>\n",
       "      <th>s_start</th>\n",
       "      <th>s_end</th>\n",
       "      <th>evalue</th>\n",
       "      <th>bitscore</th>\n",
       "      <th>source</th>\n",
       "      <th>intergenic_location</th>\n",
       "      <th>intergenic_chr</th>\n",
       "      <th>intergenic_start</th>\n",
       "      <th>intergenic_end</th>\n",
       "      <th>overlapping_with_intergenic</th>\n",
       "      <th>permitted_off_target</th>\n",
       "    </tr>\n",
       "  </thead>\n",
       "  <tbody>\n",
       "    <tr>\n",
       "      <th>0</th>\n",
       "      <td>Intergenic-Y1-P1</td>\n",
       "      <td>T57-Or5-Y1-Or5-P1-Chr2:3735173-3736483</td>\n",
       "      <td>T57-Or5-Y1-Or5-P1-Chr2:3735173-3736483</td>\n",
       "      <td>100.0</td>\n",
       "      <td>1310</td>\n",
       "      <td>0</td>\n",
       "      <td>0</td>\n",
       "      <td>2</td>\n",
       "      <td>1311</td>\n",
       "      <td>1</td>\n",
       "      <td>1310</td>\n",
       "      <td>0.0</td>\n",
       "      <td>2619.0</td>\n",
       "      <td>intergenics</td>\n",
       "      <td>Chr2:3735173-3736483</td>\n",
       "      <td>Chr2</td>\n",
       "      <td>3735173</td>\n",
       "      <td>3736483</td>\n",
       "      <td>True</td>\n",
       "      <td>False</td>\n",
       "    </tr>\n",
       "  </tbody>\n",
       "</table>\n",
       "</div>"
      ],
      "text/plain": [
       "           query_id                              subject_id  \\\n",
       "0  Intergenic-Y1-P1  T57-Or5-Y1-Or5-P1-Chr2:3735173-3736483   \n",
       "\n",
       "                              subject_acc  percent_identity  length  \\\n",
       "0  T57-Or5-Y1-Or5-P1-Chr2:3735173-3736483             100.0    1310   \n",
       "\n",
       "   mismatches  gap_opens  q_start  q_end  s_start  s_end  evalue  bitscore  \\\n",
       "0           0          0        2   1311        1   1310     0.0    2619.0   \n",
       "\n",
       "        source   intergenic_location intergenic_chr  intergenic_start  \\\n",
       "0  intergenics  Chr2:3735173-3736483           Chr2           3735173   \n",
       "\n",
       "   intergenic_end  overlapping_with_intergenic  permitted_off_target  \n",
       "0         3736483                         True                 False  "
      ]
     },
     "execution_count": 101,
     "metadata": {},
     "output_type": "execute_result"
    }
   ],
   "source": [
    "blast_results"
   ]
  },
  {
   "cell_type": "code",
   "execution_count": 102,
   "metadata": {},
   "outputs": [
    {
     "data": {
      "text/plain": [
       "'TAATTGTTCATACTAATTTCTGAATCCTGACAACTTTGAAAATGAAGGAATTCGTTATCTTATGTAGAAAGATAGAACTTACCTCTCGTACGTTCATTTCGAACAGATGATATCTATGCGTAATAGTATCGAAATAATATCAAAATATTACACGATATAAACCGCAATACAACTGATACGTGCATTACGTACATTATGTGAGTAAAACACATGTGAGTAAAGTTCTCTCTATGTTCAGATGCAACAAAAAGAGACAATTGTTTGACGAGTGACTACTTGTAAATCGTGATCATATAAATTCTAATACATTACTAAATTGCGTAAAGCGTAGTTTGATGCACCTAGCGATAATGCGTTAAGAGCACGCCGATAAGTGAGTATCCGTACAAAACTTACCTTTTCAAAAATAGGTATAAAAAGACGCCACACTATTACAGTTGAATAACTTTTGGCAAGAATAACAAACAAACCAAATGTTCTTTATTTGAAACCGTATAAGCAATAAACAAAAAAAGATTACACTCATTACGTGTTAATACTTGTTTTAATTTTTTTTAATTTAATTATTTTTAAGATATTGAACTTGTTGAATCCTTGAAGATTTGTGATTCATTACTGTGATACGTCACAGTAAAGAGTATAGTGTTATAATATTCGTTATGTTATTTTATTGCTATTTCTTTCTATATCCGTACGCGGCAATAATTTCAGACATGAAAGCAAGATCTTTCATTTCACCATTTATACAGTTTGAATTAATTCTAATATTCTATGGATATATCCAACGACATATAAGCGGTAAGAGATAAGAAGCGTAATATTATACAATAAATTTCAGACAAAAATAATCTTTTACCATATAAAAATACTTACTTGCATATTCGCGTCTACAAGTTTTCTAATAATCTTTAAAGCACTAACTTGCTTATCTAGCATACATTTCCAACTTTGGACAGAAATAATCTACACCGTTCAATTGTTATACCTACGTCCAAACGTTAAACCGAAGGGCTTACCAAGAACTGAAACGTACCATAAGTGACTCTTGTATACTGAGTAAAACACGAAGTTTTCTCTAGCAATTTGCGTATATCAACAATTGTCCGCTGAATGATGAAACCTATAGTCATGTAAATTCTTATAGACTCACAATTTGCGTCAGGCGTATAGTTTAATGCACTTAGCAATAATGCGATAAGAACCTAAAGGTAGACTGATAACTGGGTATACATCCCAAAATATAAAAAATAATCCCGAATACCTGAGTAATATTGGAATACTAACATATCATCGGTTATTGACATACAGTTAC'"
      ]
     },
     "execution_count": 102,
     "metadata": {},
     "output_type": "execute_result"
    }
   ],
   "source": [
    "sequence"
   ]
  },
  {
   "cell_type": "code",
   "execution_count": 103,
   "metadata": {},
   "outputs": [
    {
     "data": {
      "text/html": [
       "<div>\n",
       "<style scoped>\n",
       "    .dataframe tbody tr th:only-of-type {\n",
       "        vertical-align: middle;\n",
       "    }\n",
       "\n",
       "    .dataframe tbody tr th {\n",
       "        vertical-align: top;\n",
       "    }\n",
       "\n",
       "    .dataframe thead th {\n",
       "        text-align: right;\n",
       "    }\n",
       "</style>\n",
       "<table border=\"1\" class=\"dataframe\">\n",
       "  <thead>\n",
       "    <tr style=\"text-align: right;\">\n",
       "      <th></th>\n",
       "      <th>query_id</th>\n",
       "      <th>subject_id</th>\n",
       "      <th>subject_acc</th>\n",
       "      <th>percent_identity</th>\n",
       "      <th>length</th>\n",
       "      <th>mismatches</th>\n",
       "      <th>gap_opens</th>\n",
       "      <th>q_start</th>\n",
       "      <th>q_end</th>\n",
       "      <th>s_start</th>\n",
       "      <th>s_end</th>\n",
       "      <th>evalue</th>\n",
       "      <th>bitscore</th>\n",
       "      <th>source</th>\n",
       "      <th>intergenic_location</th>\n",
       "      <th>intergenic_chr</th>\n",
       "      <th>intergenic_start</th>\n",
       "      <th>intergenic_end</th>\n",
       "      <th>overlapping_with_intergenic</th>\n",
       "      <th>permitted_off_target</th>\n",
       "    </tr>\n",
       "  </thead>\n",
       "  <tbody>\n",
       "  </tbody>\n",
       "</table>\n",
       "</div>"
      ],
      "text/plain": [
       "Empty DataFrame\n",
       "Columns: [query_id, subject_id, subject_acc, percent_identity, length, mismatches, gap_opens, q_start, q_end, s_start, s_end, evalue, bitscore, source, intergenic_location, intergenic_chr, intergenic_start, intergenic_end, overlapping_with_intergenic, permitted_off_target]\n",
       "Index: []"
      ]
     },
     "execution_count": 103,
     "metadata": {},
     "output_type": "execute_result"
    }
   ],
   "source": [
    "off_targets"
   ]
  },
  {
   "cell_type": "code",
   "execution_count": 104,
   "metadata": {},
   "outputs": [
    {
     "name": "stdout",
     "output_type": "stream",
     "text": [
      "There is enough space for 18 probes on Intergenic-Y1-P1\n"
     ]
    }
   ],
   "source": [
    "# Determine how many probes fit on each gene \n",
    "sequence = intergenic.unique_sequence \n",
    "probes, regions, positions = design_hcr_probes(sequence, \"B1\")\n",
    "\n",
    "print(f\"There is enough space for {len(probes)} probes on {intergenic.name}\")"
   ]
  },
  {
   "cell_type": "code",
   "execution_count": 21,
   "metadata": {},
   "outputs": [],
   "source": [
    "# Specify amplifier \n",
    "amplifier = \"B2\""
   ]
  },
  {
   "cell_type": "code",
   "execution_count": 22,
   "metadata": {},
   "outputs": [],
   "source": [
    "# Specify how many probes \n",
    "n_probes = 30"
   ]
  },
  {
   "cell_type": "code",
   "execution_count": 23,
   "metadata": {},
   "outputs": [
    {
     "name": "stdout",
     "output_type": "stream",
     "text": [
      "56 probes have been exported to ../raw-data/single_intergenic_probe_design/IDT_sheets/Intergenic-9E213-9E214-B2-2025-05-24.xlsx\n"
     ]
    }
   ],
   "source": [
    "# Export excel sheet with probes and excel sheet with probe binding regions \n",
    "\n",
    "# Design probes\n",
    "sequence = intergenic.unique_sequence \n",
    "probes, regions, positions = design_hcr_probes(sequence, amplifier)\n",
    "\n",
    "# Randomly select n_probes_per_gene probes \n",
    "np.random.seed(1)\n",
    "if len(probes) < n_probes:\n",
    "    indices = range(len(probes))\n",
    "else: \n",
    "    indices = np.random.choice(range(len(probes)), n_probes, replace=False)\n",
    "probes = [probes[i] for i in indices]\n",
    "regions = [regions[i] for i in indices]\n",
    "\n",
    "# Save probes and regions to gene object\n",
    "intergenic.probes = probes\n",
    "intergenic.regions = regions\n",
    "\n",
    "# Collapse probes \n",
    "probes_collapsed = [probe for sublist in probes for probe in sublist]\n",
    "\n",
    "# Get date \n",
    "today = pd.Timestamp.now().strftime('%Y-%m-%d')\n",
    "\n",
    "# Export probes \n",
    "output_dir = os.path.join(main_directory, 'IDT_sheets')\n",
    "# Create output directory if it does not exist\n",
    "if not os.path.exists(output_dir):\n",
    "    os.makedirs(output_dir)\n",
    "# Create output path\n",
    "output_path = f\"{output_dir}/{intergenic.name}-{amplifier}-{today}.xlsx\"\n",
    "# Create dataframe\n",
    "df = pd.DataFrame({'Sequence': probes_collapsed})\n",
    "# Add pool name column \n",
    "df['Pool name'] = f'{intergenic.name}-{amplifier}'\n",
    "df = df[['Pool name', 'Sequence']]\n",
    "df.to_excel(output_path, index=False)\n",
    "print(f\"{len(probes_collapsed)} probes have been exported to {output_path}\")\n",
    "\n",
    "\n",
    "# Export probe binding regions\n",
    "output_dir = os.path.join(main_directory, 'probe_binding_regions_sheets') \n",
    "# Create output directory if it does not exist\n",
    "if not os.path.exists(output_dir):\n",
    "    os.makedirs(output_dir)\n",
    "# Create output path\n",
    "output_path = f\"{output_dir}/{intergenic.name}-{amplifier}-regions-{today}.xlsx\"\n",
    "# Make a vector of the gene names for each probe \n",
    "df = pd.DataFrame({'Gene': [intergenic.name for _ in range(len(probes))], \n",
    "                   'Region': regions, \n",
    "                   'Probe 1': [probe[0] for probe in intergenic.probes], \n",
    "                   'Probe 2': [probe[1] for probe in intergenic.probes]})\n",
    "df.to_excel(output_path, index=False)"
   ]
  },
  {
   "cell_type": "code",
   "execution_count": 24,
   "metadata": {},
   "outputs": [],
   "source": [
    "# Export all_regions to individual fasta files \n",
    "\n",
    "output_dir = os.path.join(main_directory, 'probe_region_blast_input')\n",
    "# Create output directory if it does not exist\n",
    "if not os.path.exists(output_dir):\n",
    "    os.makedirs(output_dir)\n",
    "\n",
    "# Clear contents of the output directory\n",
    "for file in os.listdir(output_dir):\n",
    "    os.remove(f\"{output_dir}/{file}\")\n",
    "\n",
    "# Export all_regions to individual fasta files in output_dir \n",
    "for i, region in enumerate(regions): \n",
    "    with open(f\"{output_dir}/region-{i}.fasta\", 'w') as f: \n",
    "        f.write(f\">region-{i}\\n{region}\")"
   ]
  },
  {
   "cell_type": "code",
   "execution_count": 25,
   "metadata": {},
   "outputs": [
    {
     "name": "stdout",
     "output_type": "stream",
     "text": [
      "All regions have been blasted against the transcriptome\n"
     ]
    }
   ],
   "source": [
    "# Blast all regions against the transcriptome\n",
    "\n",
    "input_dir = os.path.join(main_directory, 'probe_region_blast_input')\n",
    "output_dir = os.path.join(main_directory, 'probe_region_blast_output') \n",
    "\n",
    "# Create output directory if it does not exist\n",
    "if not os.path.exists(output_dir):\n",
    "    os.makedirs(output_dir)\n",
    "\n",
    "# Clear contents of the output directory\n",
    "for file in os.listdir(output_dir):\n",
    "    os.remove(f\"{output_dir}/{file}\")\n",
    "\n",
    "# Blast each region against the transcriptome\n",
    "for i, region in enumerate(regions): \n",
    "    input_path = f\"{input_dir}/region-{i}.fasta\"\n",
    "\n",
    "    # Blast against transcriptome without introns\n",
    "    output_path = f\"{output_dir}/region-{i}-blasted_no_introns.csv\"\n",
    "    command = f\"blastn -task blastn -query {input_path} -db {new_transcriptome_db_no_introns} -ungapped -word_size 15 -reward 1 -penalty -1 -dust no -soft_masking false -max_target_seqs 10000 -out {output_path} -outfmt '10 qseqid sseqid sacc pident length mismatch gapopen qstart qend sstart send evalue bitscore' -num_threads 4\"\n",
    "    subprocess.run(command, shell=True, check=True)\n",
    "\n",
    "    # Blast against transcriptome with introns\n",
    "    output_path = f\"{output_dir}/region-{i}-blasted_yes_introns.csv\"\n",
    "    command = f\"blastn -task blastn -query {input_path} -db {new_transcriptome_db_yes_introns} -ungapped -word_size 15 -reward 1 -penalty -1 -dust no -soft_masking false -max_target_seqs 10000 -out {output_path} -outfmt '10 qseqid sseqid sacc pident length mismatch gapopen qstart qend sstart send evalue bitscore' -num_threads 4\"\n",
    "    subprocess.run(command, shell=True, check=True)\n",
    "\n",
    "    # Blast against intergenics \n",
    "    output_path = f\"{output_dir}/region-{i}-blasted_intergenics.csv\"\n",
    "    command = f\"blastn -task blastn -query {input_path} -db {all_intergenic_regions_db} -ungapped -word_size 15 -reward 1 -penalty -1 -dust no -soft_masking false -max_target_seqs 10000 -out {output_path} -outfmt '10 qseqid sseqid sacc pident length mismatch gapopen qstart qend sstart send evalue bitscore' -num_threads 4\"\n",
    "    subprocess.run(command, shell=True, check=True)\n",
    "\n",
    "print(\"All regions have been blasted against the transcriptome\")"
   ]
  },
  {
   "cell_type": "code",
   "execution_count": 26,
   "metadata": {},
   "outputs": [],
   "source": [
    "# Load in blast results\n",
    "output_dir = os.path.join(main_directory, 'probe_region_blast_output') \n",
    "all_blast_results = []\n",
    "for i, region in enumerate(regions):\n",
    "    output_path = f\"{output_dir}/region-{i}-blasted_no_introns.csv\"\n",
    "    blast_results = pd.read_csv(output_path, header=None, names=['query_id', 'subject_id', 'subject_acc', 'percent_identity', 'length', 'mismatches', 'gap_opens', 'q_start', 'q_end', 's_start', 's_end', 'evalue', 'bitscore'])\n",
    "    blast_results['source']  = 'no_introns'\n",
    "    all_blast_results.append(blast_results)\n",
    "    output_path = f\"{output_dir}/region-{i}-blasted_yes_introns.csv\"\n",
    "    blast_results = pd.read_csv(output_path, header=None, names=['query_id', 'subject_id', 'subject_acc', 'percent_identity', 'length', 'mismatches', 'gap_opens', 'q_start', 'q_end', 's_start', 's_end', 'evalue', 'bitscore'])\n",
    "    blast_results['source']  = 'yes_introns'\n",
    "    all_blast_results.append(blast_results)\n",
    "    output_path = f\"{output_dir}/region-{i}-blasted_intergenics.csv\"\n",
    "    blast_results = pd.read_csv(output_path, header=None, names=['query_id', 'subject_id', 'subject_acc', 'percent_identity', 'length', 'mismatches', 'gap_opens', 'q_start', 'q_end', 's_start', 's_end', 'evalue', 'bitscore'])\n",
    "    blast_results['source']  = 'intergenics'\n",
    "    all_blast_results.append(blast_results)"
   ]
  },
  {
   "cell_type": "code",
   "execution_count": 27,
   "metadata": {},
   "outputs": [
    {
     "name": "stdout",
     "output_type": "stream",
     "text": [
      "Found 0 off-target hits with length >= 50bp, mismatches <= 5\n"
     ]
    }
   ],
   "source": [
    "# Check for non-unique regions\n",
    "\n",
    "num_hits_over_thresh = 0\n",
    "length_thresh = 50\n",
    "mismatch_thresh = 5 \n",
    "all_off_targets = pd.DataFrame()\n",
    "\n",
    "# Iterate through blast results \n",
    "for i, blast_results in enumerate(all_blast_results):\n",
    "    if len(blast_results) == 0: \n",
    "        continue\n",
    "\n",
    "\n",
    "    # GEt intergenic_location\n",
    "    blast_results['intergenic_location'] = blast_results['subject_id'].apply(\n",
    "        lambda x: \"Chr\"+x.split(\"Chr\")[1] # for intergenic regions\n",
    "        if 'Chr' in x\n",
    "        else \"\"\n",
    "    )\n",
    "\n",
    "    # Get location of intergenic hits \n",
    "    blast_results['intergenic_chr'] = blast_results['intergenic_location'].apply(\n",
    "        lambda x: \"Chr\" + x.split('Chr')[1].split(':')[0] # for intergenic regions\n",
    "        if 'Chr' in x\n",
    "        else \"\"\n",
    "    )\n",
    "\n",
    "    # Get location of intergenic start \n",
    "    blast_results['intergenic_start'] = blast_results['intergenic_location'].apply(\n",
    "        lambda x: int(x.split('Chr')[1].split(':')[1].split('-')[0]) # for intergenic regions\n",
    "        if 'Chr' in x\n",
    "        else \"\"\n",
    "    )\n",
    "\n",
    "    # Get location of intergenic end \n",
    "    blast_results['intergenic_end'] = blast_results['intergenic_location'].apply(\n",
    "        lambda x: int(x.split('Chr')[1].split(':')[1].split('-')[1]) # for intergenic regions\n",
    "        if 'Chr' in x\n",
    "        else \"\"\n",
    "    )\n",
    "\n",
    "    # Overlapping with intergenic region? \n",
    "    blast_results['overlapping_with_intergenic'] = blast_results.apply(\n",
    "        lambda x: overlapping(intergenic.chromosome, intergenic.start, intergenic.end, x['intergenic_chr'], x['intergenic_start'], x['intergenic_end']),\n",
    "        axis=1\n",
    "    )\n",
    "\n",
    "    # Get off-targets\n",
    "    off_targets = blast_results.loc[(blast_results['length'].values >= length_thresh) & # length threshold, no need for mismatch threshold here \n",
    "                                    (blast_results['mismatches'].values <= mismatch_thresh) & # mismatch threshold\n",
    "                                    (blast_results['overlapping_with_intergenic'] == False), :]  # ignore overlapping intergenics \n",
    "\n",
    "    # Add to the all_off_targets dataframe\n",
    "    all_off_targets = pd.concat([all_off_targets, off_targets])\n",
    "\n",
    "    # Update num_hits_over_thresh   \n",
    "    num_hits_over_thresh += len(off_targets)\n",
    "\n",
    "print(f\"Found {num_hits_over_thresh} off-target hits with length >= {length_thresh}bp, mismatches <= {mismatch_thresh}\")"
   ]
  },
  {
   "cell_type": "code",
   "execution_count": 28,
   "metadata": {},
   "outputs": [
    {
     "data": {
      "text/html": [
       "<div>\n",
       "<style scoped>\n",
       "    .dataframe tbody tr th:only-of-type {\n",
       "        vertical-align: middle;\n",
       "    }\n",
       "\n",
       "    .dataframe tbody tr th {\n",
       "        vertical-align: top;\n",
       "    }\n",
       "\n",
       "    .dataframe thead th {\n",
       "        text-align: right;\n",
       "    }\n",
       "</style>\n",
       "<table border=\"1\" class=\"dataframe\">\n",
       "  <thead>\n",
       "    <tr style=\"text-align: right;\">\n",
       "      <th></th>\n",
       "      <th>query_id</th>\n",
       "      <th>subject_id</th>\n",
       "      <th>subject_acc</th>\n",
       "      <th>percent_identity</th>\n",
       "      <th>length</th>\n",
       "      <th>mismatches</th>\n",
       "      <th>gap_opens</th>\n",
       "      <th>q_start</th>\n",
       "      <th>q_end</th>\n",
       "      <th>s_start</th>\n",
       "      <th>s_end</th>\n",
       "      <th>evalue</th>\n",
       "      <th>bitscore</th>\n",
       "      <th>source</th>\n",
       "      <th>intergenic_location</th>\n",
       "      <th>intergenic_chr</th>\n",
       "      <th>intergenic_start</th>\n",
       "      <th>intergenic_end</th>\n",
       "      <th>overlapping_with_intergenic</th>\n",
       "    </tr>\n",
       "  </thead>\n",
       "  <tbody>\n",
       "  </tbody>\n",
       "</table>\n",
       "</div>"
      ],
      "text/plain": [
       "Empty DataFrame\n",
       "Columns: [query_id, subject_id, subject_acc, percent_identity, length, mismatches, gap_opens, q_start, q_end, s_start, s_end, evalue, bitscore, source, intergenic_location, intergenic_chr, intergenic_start, intergenic_end, overlapping_with_intergenic]\n",
       "Index: []"
      ]
     },
     "execution_count": 28,
     "metadata": {},
     "output_type": "execute_result"
    }
   ],
   "source": [
    "all_off_targets"
   ]
  },
  {
   "cell_type": "code",
   "execution_count": null,
   "metadata": {},
   "outputs": [],
   "source": []
  },
  {
   "cell_type": "code",
   "execution_count": null,
   "metadata": {},
   "outputs": [],
   "source": []
  }
 ],
 "metadata": {
  "kernelspec": {
   "display_name": "antman",
   "language": "python",
   "name": "python3"
  },
  "language_info": {
   "codemirror_mode": {
    "name": "ipython",
    "version": 3
   },
   "file_extension": ".py",
   "mimetype": "text/x-python",
   "name": "python",
   "nbconvert_exporter": "python",
   "pygments_lexer": "ipython3",
   "version": "3.12.2"
  }
 },
 "nbformat": 4,
 "nbformat_minor": 2
}

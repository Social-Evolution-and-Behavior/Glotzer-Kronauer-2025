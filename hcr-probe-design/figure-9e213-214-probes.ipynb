{
 "cells": [
  {
   "cell_type": "code",
   "execution_count": 1,
   "metadata": {},
   "outputs": [
    {
     "name": "stdout",
     "output_type": "stream",
     "text": [
      "Initializing transcriptomics package\n",
      "Initializing HCR package\n",
      "Initializing plotting package\n"
     ]
    }
   ],
   "source": [
    "from pygenomeviz import GenomeViz\n",
    "import Bio.SeqIO as SeqIO\n",
    "import pandas as pd\n",
    "import matplotlib.pyplot as plt\n",
    "import numpy as np\n",
    "import re\n",
    "import os\n",
    "import subprocess\n",
    "import sys\n",
    "sys.path.append('/Users/giacomo.glotzer/Desktop/Rockefeller/Kronauer/analysis')\n",
    "from transcriptomics import * \n",
    "from hcr import *\n",
    "from plotting import * \n",
    "\n",
    "# Specify blast databases\n",
    "new_transcriptome_db_no_introns = \"../raw-data/OBir/mRNA_no_introns/mRNA_no_introns\"\n",
    "new_transcriptome_db_yes_introns = \"../raw-data/OBir/mRNA_yes_introns/mRNA_yes_introns\"\n",
    "all_intergenic_regions_db = '../raw-data/OBir/intergenics/all_intergenic_regions'\n",
    "all_lncRNAs_db = '../raw-data/OBir/lncRNAs/all_ORs_antisense'\n",
    "\n",
    "# Load genome\n",
    "genome_path = \"../raw-data/OBir/genome/Obir.assembly.v5.4.fasta\"\n",
    "genome_seq = SeqIO.to_dict(SeqIO.parse(genome_path, \"fasta\"))\n",
    "\n",
    "# Load transcriptome\n",
    "tr = load_transcriptome_object(\"../raw-data/OBir/transcriptome/biroi_transcriptome.pkl\")\n",
    "\n",
    "# Load or_db\n",
    "or_db = pd.read_excel('../raw-data/OBir/ORs/OR List.xlsx') "
   ]
  },
  {
   "cell_type": "code",
   "execution_count": 4,
   "metadata": {},
   "outputs": [],
   "source": [
    "path_9e213 = \"../raw-data/OBir/regions-9e213-9e214/Or5-9E213-B1-regions-2025-05-14.xlsx\"\n",
    "path_intergenic = \"../raw-data/OBir/regions-9e213-9e214/Intergenic-9E213-9E214-B2-regions-2025-05-14.xlsx\"\n",
    "path_9e214 = \"../raw-data/OBir/regions-9e213-9e214/Or5-9E214-B3-regions-2025-05-14.xlsx\""
   ]
  },
  {
   "cell_type": "code",
   "execution_count": 5,
   "metadata": {},
   "outputs": [],
   "source": [
    "regions_9e213 = pd.read_excel(path_9e213)\n",
    "regions_9e213 = regions_9e213[\"Region\"].values\n",
    "\n",
    "regions_intergenic = pd.read_excel(path_intergenic)\n",
    "regions_intergenic = regions_intergenic[\"Region\"].values\n",
    "\n",
    "regions_9e214 = pd.read_excel(path_9e214)\n",
    "regions_9e214 = regions_9e214[\"Region\"].values"
   ]
  },
  {
   "cell_type": "code",
   "execution_count": 6,
   "metadata": {},
   "outputs": [
    {
     "name": "stdout",
     "output_type": "stream",
     "text": [
      "Number of genes:  18\n"
     ]
    }
   ],
   "source": [
    "TA = 37 \n",
    "\n",
    "# Get genes \n",
    "genes = or_db[or_db['tandem_array'] == TA]['gene_name'].values\n",
    "\n",
    "# Get gene objects from tr \n",
    "gene_objects = [tr.get_gene(gene) for gene in genes]\n",
    "\n",
    "# Print the number of genes \n",
    "print(\"Number of genes: \", len(gene_objects))"
   ]
  },
  {
   "cell_type": "code",
   "execution_count": 26,
   "metadata": {},
   "outputs": [
    {
     "data": {
      "text/plain": [
       "10933623"
      ]
     },
     "execution_count": 26,
     "metadata": {},
     "output_type": "execute_result"
    }
   ],
   "source": [
    "max_end"
   ]
  },
  {
   "cell_type": "code",
   "execution_count": 41,
   "metadata": {},
   "outputs": [
    {
     "data": {
      "image/png": "[encoded data removed]",
      "text/plain": [
       "<Figure size 600x80 with 1 Axes>"
      ]
     },
     "metadata": {},
     "output_type": "display_data"
    }
   ],
   "source": [
    "# Create a new GenomeViz object\n",
    "plt.rcParams['font.family'] = 'sans-serif'\n",
    "plt.rcParams['font.sans-serif'] = ['Arial']\n",
    "\n",
    "gv = GenomeViz(track_align_type=\"center\", theme=\"light\", fig_width=3, fig_track_height=0.4)\n",
    "gv.set_scale_bar(ymargin=0.5, labelsize=6)\n",
    "\n",
    "# Get bounds \n",
    "probe_length = 50\n",
    "chromosome = gene_objects[0].chromosome\n",
    "bounds = [gene_object.get_transcript_longest_cds().get_bounds() for gene_object in gene_objects]\n",
    "min_start = int(np.min(bounds)) - 1000\n",
    "max_end = int(np.max(bounds)) + 1000\n",
    "\n",
    "min_start = 10_892_000\n",
    "max_end = 10_915_000\n",
    "\n",
    "track = gv.add_feature_track(chromosome, segments = (int(min_start), int(max_end)), labelsize=6)\n",
    "track.add_sublabel(size=6, ymargin=1)\n",
    "\n",
    "# Add gene models to plot \n",
    "for gene in gene_objects:\n",
    "    transcript = gene.get_transcript_longest_cds()\n",
    "    bounds = transcript.get_bounds()\n",
    "    strand = 1 if transcript.strand == '+' else -1\n",
    "    if bounds[0] < min_start or bounds[1] > max_end:\n",
    "        continue\n",
    "    track.add_feature(int(bounds[0]), \n",
    "                      int(bounds[1]), \n",
    "                      strand, \n",
    "                      plotstyle='arrow', \n",
    "                      fc=\"grey\", \n",
    "                      alpha=1, \n",
    "                      arrow_shaft_ratio = 0.5, \n",
    "                      label=re.sub(\"Or5-\", \"\", gene.name), \n",
    "                      ec=\"black\", \n",
    "                      lw=0, \n",
    "                      text_kws={'color': 'black', \n",
    "                                'rotation': 0, \n",
    "                                'vpos': 'top', \n",
    "                                'hpos': 'center', \n",
    "                                'size':6\n",
    "                                }\n",
    "                        )\n",
    "\n",
    "\n",
    "# Get the region of the genome \n",
    "forward_seq = str(genome_seq[chromosome].seq[min_start:max_end]).upper()\n",
    "reverse_seq = reverse_complement(forward_seq)\n",
    "\n",
    "## 9E213 \n",
    "# Annotate probe binding regions on forward strand \n",
    "for probe in regions_9e213:\n",
    "    positions = [m.start() for m in re.finditer(probe, forward_seq)]\n",
    "    for position in positions:\n",
    "        track.add_feature(min_start + position, min_start + position + probe_length, 1, plotstyle=\"box\", label = '', ec=\"none\", fc=\"powderblue\", alpha=1)\n",
    "    # Add reverse complement\n",
    "    positions = [m.start() for m in re.finditer(probe, reverse_seq)]\n",
    "    for position in positions:\n",
    "        track.add_feature(max_end - position - probe_length, max_end - position, -1, plotstyle=\"box\", label = '', ec=\"none\", fc=\"powderblue\", alpha=1)\n",
    "\n",
    "\n",
    "## Intergenic \n",
    "# Annotate probe binding regions on forward strand \n",
    "for probe in regions_intergenic:\n",
    "    positions = [m.start() for m in re.finditer(probe, forward_seq)]\n",
    "    for position in positions:\n",
    "        track.add_feature(min_start + position, min_start + position + probe_length, 1, plotstyle=\"box\", label = '', ec=\"none\", fc=\"orchid\", alpha=1)\n",
    "    # Add reverse complement\n",
    "    positions = [m.start() for m in re.finditer(probe, reverse_seq)]\n",
    "    for position in positions:\n",
    "        track.add_feature(max_end - position - probe_length, max_end - position, -1, plotstyle=\"box\", label = '', ec=\"none\", fc=\"orchid\", alpha=1)\n",
    "\n",
    "\n",
    "\n",
    "## 9E214 \n",
    "# Annotate probe binding regions on forward strand \n",
    "for probe in regions_9e214:\n",
    "    positions = [m.start() for m in re.finditer(probe, forward_seq)]\n",
    "    for position in positions:\n",
    "        track.add_feature(min_start + position, min_start + position + probe_length, 1, plotstyle=\"box\", label = '', ec=\"none\", fc=\"gold\", alpha=1)\n",
    "    # Add reverse complement\n",
    "    positions = [m.start() for m in re.finditer(probe, reverse_seq)]\n",
    "    for position in positions:\n",
    "        track.add_feature(max_end - position - probe_length, max_end - position, -1, plotstyle=\"box\", label = '', ec=\"none\", fc=\"gold\", alpha=1)\n",
    "\n",
    "\n",
    "\n",
    "fig = gv.plotfig(dpi=200)\n",
    "\n",
    "## Artificial legend \n",
    "plt.plot([], color='powderblue', label='9E213 Probes', lw=4)\n",
    "plt.plot([], color='orchid', label='Intergenic Probed Region', lw=4)\n",
    "plt.plot([], color='gold', label='9E214 Probes', lw=4)\n",
    "fig.legend(loc='lower center', fontsize=6, bbox_to_anchor=(0.5, -0.2), ncol=3, frameon=False)\n",
    "\n",
    "ax = fig.gca()\n",
    "#ax.set_title(\"Tandem Array 79\", fontsize=6, color='black', y=1.4)\n",
    "\n",
    "\n",
    "fig.savefig(f\"../figures/T37-Probes-9E213-9E214-Intergenic.pdf\", pad_inches=0, dpi=200)\n",
    "\n",
    "plt.show()\n",
    "\n"
   ]
  },
  {
   "cell_type": "code",
   "execution_count": null,
   "metadata": {},
   "outputs": [],
   "source": []
  }
 ],
 "metadata": {
  "kernelspec": {
   "display_name": "antman",
   "language": "python",
   "name": "python3"
  },
  "language_info": {
   "codemirror_mode": {
    "name": "ipython",
    "version": 3
   },
   "file_extension": ".py",
   "mimetype": "text/x-python",
   "name": "python",
   "nbconvert_exporter": "python",
   "pygments_lexer": "ipython3",
   "version": "3.12.2"
  }
 },
 "nbformat": 4,
 "nbformat_minor": 2
}

{
 "cells": [
  {
   "cell_type": "markdown",
   "metadata": {},
   "source": [
    "This script creates a file containing all the intergenic regions between ORs and then creates a blast database using those intergenic regions. "
   ]
  },
  {
   "cell_type": "code",
   "execution_count": 1,
   "metadata": {},
   "outputs": [
    {
     "name": "stdout",
     "output_type": "stream",
     "text": [
      "Initializing transcriptomics package\n",
      "Initializing HCR package\n"
     ]
    }
   ],
   "source": [
    "import Bio.SeqIO as SeqIO\n",
    "import pandas as pd\n",
    "import numpy as np\n",
    "import os\n",
    "import subprocess\n",
    "import sys\n",
    "sys.path.append('/Users/giacomo.glotzer/Desktop/Rockefeller/Kronauer/analysis')\n",
    "from transcriptomics import * \n",
    "from hcr import * \n",
    "\n",
    "# Load genome\n",
    "genome_fasta_path = '/Users/giacomo.glotzer/Desktop/Rockefeller/Kronauer/genome/Obir.assembly.v5.4.fasta'\n",
    "genome_seq = SeqIO.to_dict(SeqIO.parse(genome_fasta_path, \"fasta\"))\n",
    "\n",
    "# Load transcriptome \n",
    "tr = load_transcriptome_object('biroi_transcriptome') \n",
    "\n",
    "# Load or_db\n",
    "or_db = pd.read_excel('/Users/giacomo.glotzer/Desktop/Rockefeller/Kronauer/OR List.xlsx') "
   ]
  },
  {
   "cell_type": "code",
   "execution_count": 2,
   "metadata": {},
   "outputs": [
    {
     "name": "stdout",
     "output_type": "stream",
     "text": [
      "Exported antisense OR sequences to /Users/giacomo.glotzer/Desktop/Rockefeller/Kronauer/transcriptome/lncRNAs/\n"
     ]
    }
   ],
   "source": [
    "# Make a blast database of all intergenic regions in the transcriptome \n",
    "\n",
    "# Export gene sequence for each intergenic region for blasting against transcriptome \n",
    "output_dir = '/Users/giacomo.glotzer/Desktop/Rockefeller/Kronauer/transcriptome/lncRNAs/'\n",
    "\n",
    "# Make directory if it doesn't exist \n",
    "if not os.path.exists(output_dir):\n",
    "    os.makedirs(output_dir)\n",
    "\n",
    "# Clear contents of the output directory\n",
    "for file in os.listdir(output_dir):\n",
    "    os.remove(f\"{output_dir}/{file}\")\n",
    "\n",
    "gene_names = np.unique(or_db.gene_name.values)\n",
    "with open(f\"{output_dir}/all_ORs_antisense.fa\", 'w') as f:\n",
    "    for gene_name in gene_names: \n",
    "        # Get object \n",
    "        gene_obj = tr.get_gene(gene_name)\n",
    "        # Get transcript with the longest bounds \n",
    "        transcript = gene_obj.get_transcript_longest_bounds()\n",
    "        chromosome = transcript.chromosome \n",
    "        strand = transcript.strand \n",
    "        antisense_strand = '+' if strand == '-' else '-'\n",
    "        start, end = transcript.get_bounds()\n",
    "        # Get sequence\n",
    "        sequence = get_sequence(genome_seq, chromosome, start, end, antisense_strand)\n",
    "        # Make a name \n",
    "        name = f\"{gene_name}\"\n",
    "        f.write(f\">{name}-lnc\\n{sequence}\\n\")\n",
    "\n",
    "print(f\"Exported antisense OR sequences to {output_dir}\")\n",
    "    "
   ]
  },
  {
   "cell_type": "code",
   "execution_count": 3,
   "metadata": {},
   "outputs": [
    {
     "name": "stdout",
     "output_type": "stream",
     "text": [
      "\n",
      "\n",
      "Building a new DB, current time: 11/25/2024 09:46:02\n",
      "New DB name:   /Users/giacomo.glotzer/Desktop/Rockefeller/Kronauer/transcriptome/lncRNAs/all_ORs_antisense\n",
      "New DB title:  /Users/giacomo.glotzer/Desktop/Rockefeller/Kronauer/transcriptome/lncRNAs/all_ORs_antisense.fa\n",
      "Sequence type: Nucleotide\n",
      "Keep MBits: T\n",
      "Maximum file size: 3000000000B\n",
      "Adding sequences from FASTA; added 502 sequences in 0.0212119 seconds.\n",
      "\n",
      "\n"
     ]
    },
    {
     "data": {
      "text/plain": [
       "CompletedProcess(args='makeblastdb -in /Users/giacomo.glotzer/Desktop/Rockefeller/Kronauer/transcriptome/lncRNAs/all_ORs_antisense.fa -dbtype nucl -parse_seqids -out /Users/giacomo.glotzer/Desktop/Rockefeller/Kronauer/transcriptome/lncRNAs/all_ORs_antisense', returncode=0)"
      ]
     },
     "execution_count": 3,
     "metadata": {},
     "output_type": "execute_result"
    }
   ],
   "source": [
    "# Blast probe regions against these intergenic regions\n",
    "input_path = '/Users/giacomo.glotzer/Desktop/Rockefeller/Kronauer/transcriptome/lncRNAs/all_ORs_antisense.fa'\n",
    "output_path = '/Users/giacomo.glotzer/Desktop/Rockefeller/Kronauer/transcriptome/lncRNAs/all_ORs_antisense'\n",
    "command = f\"makeblastdb -in {input_path} -dbtype nucl -parse_seqids -out {output_path}\"\n",
    "subprocess.run(command, shell=True, check=True)"
   ]
  },
  {
   "cell_type": "markdown",
   "metadata": {},
   "source": []
  },
  {
   "cell_type": "markdown",
   "metadata": {},
   "source": []
  }
 ],
 "metadata": {
  "kernelspec": {
   "display_name": "antman",
   "language": "python",
   "name": "python3"
  },
  "language_info": {
   "codemirror_mode": {
    "name": "ipython",
    "version": 3
   },
   "file_extension": ".py",
   "mimetype": "text/x-python",
   "name": "python",
   "nbconvert_exporter": "python",
   "pygments_lexer": "ipython3",
   "version": "3.12.2"
  }
 },
 "nbformat": 4,
 "nbformat_minor": 2
}

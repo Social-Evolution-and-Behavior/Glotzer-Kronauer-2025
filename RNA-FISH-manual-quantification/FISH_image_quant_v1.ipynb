{
 "cells": [
  {
   "cell_type": "code",
   "execution_count": 1,
   "metadata": {},
   "outputs": [
    {
     "name": "stdout",
     "output_type": "stream",
     "text": [
      "Initializing plotting package\n"
     ]
    }
   ],
   "source": [
    "import numpy as np\n",
    "import matplotlib.pyplot as plt\n",
    "import pandas as pd\n",
    "import seaborn as sns\n",
    "import os \n",
    "from collections import defaultdict\n",
    "import xml.etree.ElementTree as ET\n",
    "import scipy.stats as stats\n",
    "import sys \n",
    "sys.path.append('..')\n",
    "from plotting import * "
   ]
  },
  {
   "cell_type": "code",
   "execution_count": 2,
   "metadata": {},
   "outputs": [],
   "source": [
    "def count_markers_in_xml(file_path):\n",
    "    # Parse the XML file\n",
    "    tree = ET.parse(file_path)\n",
    "    root = tree.getroot()\n",
    "\n",
    "    # Dictionary to store the count of markers for each marker type\n",
    "    marker_counts = defaultdict(int)\n",
    "\n",
    "    # Locate Marker_Type elements\n",
    "    marker_data = root.find(\"Marker_Data\")\n",
    "    if marker_data is not None:\n",
    "        for marker_type in marker_data.findall(\"Marker_Type\"):\n",
    "            # Extract the name of the marker type\n",
    "            type_name = marker_type.find(\"Name\").text\n",
    "            # Check that the marker name doesn't contain the keyword \"Type\" \n",
    "            if \"Type\" in type_name: \n",
    "                continue\n",
    "            # Count the number of Marker elements within the Marker_Type\n",
    "            markers = marker_type.findall(\"Marker\")\n",
    "            marker_counts[type_name] += len(markers)\n",
    "\n",
    "    return dict(marker_counts)"
   ]
  },
  {
   "cell_type": "markdown",
   "metadata": {},
   "source": [
    "## T79 Exonic/Intergenic"
   ]
  },
  {
   "cell_type": "code",
   "execution_count": 3,
   "metadata": {},
   "outputs": [
    {
     "data": {
      "text/html": [
       "<div>\n",
       "<style scoped>\n",
       "    .dataframe tbody tr th:only-of-type {\n",
       "        vertical-align: middle;\n",
       "    }\n",
       "\n",
       "    .dataframe tbody tr th {\n",
       "        vertical-align: top;\n",
       "    }\n",
       "\n",
       "    .dataframe thead th {\n",
       "        text-align: right;\n",
       "    }\n",
       "</style>\n",
       "<table border=\"1\" class=\"dataframe\">\n",
       "  <thead>\n",
       "    <tr style=\"text-align: right;\">\n",
       "      <th></th>\n",
       "      <th>647P-594P</th>\n",
       "      <th>647A-594P</th>\n",
       "    </tr>\n",
       "  </thead>\n",
       "  <tbody>\n",
       "    <tr>\n",
       "      <th>0</th>\n",
       "      <td>288</td>\n",
       "      <td>1</td>\n",
       "    </tr>\n",
       "    <tr>\n",
       "      <th>1</th>\n",
       "      <td>307</td>\n",
       "      <td>2</td>\n",
       "    </tr>\n",
       "    <tr>\n",
       "      <th>2</th>\n",
       "      <td>308</td>\n",
       "      <td>2</td>\n",
       "    </tr>\n",
       "    <tr>\n",
       "      <th>3</th>\n",
       "      <td>282</td>\n",
       "      <td>3</td>\n",
       "    </tr>\n",
       "    <tr>\n",
       "      <th>4</th>\n",
       "      <td>302</td>\n",
       "      <td>6</td>\n",
       "    </tr>\n",
       "  </tbody>\n",
       "</table>\n",
       "</div>"
      ],
      "text/plain": [
       "   647P-594P  647A-594P\n",
       "0        288          1\n",
       "1        307          2\n",
       "2        308          2\n",
       "3        282          3\n",
       "4        302          6"
      ]
     },
     "execution_count": 3,
     "metadata": {},
     "output_type": "execute_result"
    }
   ],
   "source": [
    "input_path = os.path.join('2024-11-08', 'G P14 Antennae T79-intergenic-b2-647 T79-exonic-b2-594 DAPI') \n",
    "\n",
    "# Load XML cell counting files \n",
    "xml_files = [f for f in os.listdir(input_path) if f.endswith('.xml')]\n",
    "\n",
    "# load data \n",
    "data = []\n",
    "for file in xml_files:\n",
    "    file_path = os.path.join(input_path, file)\n",
    "    marker_counts = count_markers_in_xml(file_path)\n",
    "    data.append(marker_counts)\n",
    "\n",
    "# Create a DataFrame from the data\n",
    "data = pd.DataFrame(data)\n",
    "\n",
    "data"
   ]
  },
  {
   "cell_type": "code",
   "execution_count": 5,
   "metadata": {},
   "outputs": [
    {
     "data": {
      "image/png": "[encoded data removed]",
      "text/plain": [
       "<Figure size 300x350 with 1 Axes>"
      ]
     },
     "metadata": {},
     "output_type": "display_data"
    }
   ],
   "source": [
    "# Plot bar plot and do paired t-test\n",
    "plt.rcParams['font.family'] = 'sans-serif'\n",
    "plt.rcParams['font.sans-serif'] = ['Arial']\n",
    "f, ax = plt.subplots(1, 1, figsize=(1.5, 1.75), dpi=200)\n",
    "sns.barplot(data=data, palette=['lightgrey', 'darkgrey'], alpha=1, saturation=1, capsize=0.2, err_kws={'color': 'black', 'linewidth': 1}, linewidth=1, edgecolor='black')\n",
    "sns.swarmplot(data=data, color='black', alpha=0.5, s=3)\n",
    "plt.ylabel(\"Number of cells\", fontsize=6)\n",
    "plt.yticks(fontsize=6)\n",
    "plt.xticks([0, 1], [\"Exons \\n& \\nIntergenics\", \"Only Exons\"], fontsize=6)\n",
    "#plt.title(f\"T79 Cell Counts \\nP14 Antenna (n={data.shape[0]})\", fontsize=6)\n",
    "plt.ylim(0, 400)\n",
    "t, p = stats.ttest_rel(data.iloc[:,0], data.iloc[:,1])\n",
    "p_value_str = f\"p={p:.3f}\" if p >= 0.001 else \"p<0.001\"\n",
    "plt.text(0.5, 0.9, p_value_str, ha='center', va='center', transform=ax.transAxes, fontsize=6)\n",
    "ax.spines['right'].set_visible(False)\n",
    "ax.spines['top'].set_visible(False)\n",
    "plt.tight_layout()\n",
    "plt.savefig(f\"../figures/t79-cell-counts.pdf\", format=\"pdf\", pad_inches=0, bbox_inches=0, transparent=False)\n",
    "plt.show()"
   ]
  },
  {
   "cell_type": "code",
   "execution_count": 5,
   "metadata": {},
   "outputs": [
    {
     "data": {
      "text/plain": [
       "0    289\n",
       "1    309\n",
       "2    310\n",
       "3    285\n",
       "4    308\n",
       "dtype: int64"
      ]
     },
     "execution_count": 5,
     "metadata": {},
     "output_type": "execute_result"
    }
   ],
   "source": [
    "# mean of the sum of both columns \n",
    "data.sum(axis=1)"
   ]
  },
  {
   "cell_type": "code",
   "execution_count": 6,
   "metadata": {},
   "outputs": [
    {
     "data": {
      "text/plain": [
       "10.49952379872535"
      ]
     },
     "execution_count": 6,
     "metadata": {},
     "output_type": "execute_result"
    }
   ],
   "source": [
    "np.std(data.iloc[:,0])"
   ]
  },
  {
   "cell_type": "code",
   "execution_count": 7,
   "metadata": {},
   "outputs": [
    {
     "name": "stdout",
     "output_type": "stream",
     "text": [
      "range: 282 - 308\n"
     ]
    }
   ],
   "source": [
    "print(f\"range: {np.min(data.iloc[:,0])} - {np.max(data.iloc[:,0])}\")"
   ]
  },
  {
   "cell_type": "code",
   "execution_count": 8,
   "metadata": {},
   "outputs": [
    {
     "data": {
      "text/plain": [
       "0.9907217704609879"
      ]
     },
     "execution_count": 8,
     "metadata": {},
     "output_type": "execute_result"
    }
   ],
   "source": [
    "data['proportion'] = data.iloc[:,0] / data.sum(axis=1)\n",
    "data['proportion'].mean()"
   ]
  },
  {
   "cell_type": "code",
   "execution_count": 9,
   "metadata": {},
   "outputs": [
    {
     "data": {
      "text/plain": [
       "array([[288,   1],\n",
       "       [307,   2],\n",
       "       [308,   2],\n",
       "       [282,   3],\n",
       "       [302,   6]])"
      ]
     },
     "execution_count": 9,
     "metadata": {},
     "output_type": "execute_result"
    }
   ],
   "source": [
    "data.iloc[:,:2].values"
   ]
  },
  {
   "cell_type": "code",
   "execution_count": 25,
   "metadata": {},
   "outputs": [
    {
     "data": {
      "text/plain": [
       "0.9906728847435043"
      ]
     },
     "execution_count": 25,
     "metadata": {},
     "output_type": "execute_result"
    }
   ],
   "source": [
    "np.sum(data.iloc[:,0]) / np.sum(data.iloc[:,:2].values)"
   ]
  },
  {
   "cell_type": "code",
   "execution_count": 26,
   "metadata": {},
   "outputs": [
    {
     "data": {
      "text/plain": [
       "0    0.385133\n",
       "1    0.411691\n",
       "2    0.413019\n",
       "3    0.379812\n",
       "4    0.410345\n",
       "dtype: float64"
      ]
     },
     "execution_count": 26,
     "metadata": {},
     "output_type": "execute_result"
    }
   ],
   "source": [
    "data.sum(axis=1) / (data.sum(axis=1).sum() / 2)"
   ]
  },
  {
   "cell_type": "code",
   "execution_count": null,
   "metadata": {},
   "outputs": [],
   "source": []
  },
  {
   "cell_type": "code",
   "execution_count": null,
   "metadata": {},
   "outputs": [],
   "source": []
  },
  {
   "cell_type": "code",
   "execution_count": null,
   "metadata": {},
   "outputs": [],
   "source": []
  }
 ],
 "metadata": {
  "kernelspec": {
   "display_name": "antman",
   "language": "python",
   "name": "python3"
  },
  "language_info": {
   "codemirror_mode": {
    "name": "ipython",
    "version": 3
   },
   "file_extension": ".py",
   "mimetype": "text/x-python",
   "name": "python",
   "nbconvert_exporter": "python",
   "pygments_lexer": "ipython3",
   "version": "3.12.2"
  }
 },
 "nbformat": 4,
 "nbformat_minor": 2
}

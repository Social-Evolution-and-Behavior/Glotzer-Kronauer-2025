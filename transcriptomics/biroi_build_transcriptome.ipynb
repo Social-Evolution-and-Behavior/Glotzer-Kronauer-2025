{
 "cells": [
  {
   "cell_type": "markdown",
   "metadata": {},
   "source": [
    "# Build Transcriptome Object and Prepare BLAST Databases"
   ]
  },
  {
   "cell_type": "markdown",
   "metadata": {},
   "source": [
    "antman environment"
   ]
  },
  {
   "cell_type": "code",
   "execution_count": 2,
   "metadata": {},
   "outputs": [
    {
     "name": "stdout",
     "output_type": "stream",
     "text": [
      "Initializing transcriptomics package\n"
     ]
    }
   ],
   "source": [
    "import os \n",
    "import subprocess\n",
    "import sys \n",
    "sys.path.append('../')\n",
    "from transcriptomics import * "
   ]
  },
  {
   "cell_type": "markdown",
   "metadata": {},
   "source": [
    "# O biroi"
   ]
  },
  {
   "cell_type": "markdown",
   "metadata": {},
   "source": [
    "Build transcriptome object "
   ]
  },
  {
   "cell_type": "code",
   "execution_count": 5,
   "metadata": {},
   "outputs": [
    {
     "name": "stdout",
     "output_type": "stream",
     "text": [
      "Obir.assembly.v5.4.fasta     Obir.assembly.v5.4.fasta.fai\n"
     ]
    }
   ],
   "source": [
    "!ls ../raw-data/OBir/genome"
   ]
  },
  {
   "cell_type": "code",
   "execution_count": 6,
   "metadata": {},
   "outputs": [
    {
     "name": "stdout",
     "output_type": "stream",
     "text": [
      "Found 14255 unique genes.\n"
     ]
    },
    {
     "name": "stderr",
     "output_type": "stream",
     "text": [
      "100%|██████████| 14255/14255 [00:22<00:00, 625.96it/s] \n"
     ]
    },
    {
     "name": "stdout",
     "output_type": "stream",
     "text": [
      "Transcriptome(genes=14153)\n",
      "Transcriptome object has been updated and saved to ../raw-data/OBir/transcriptome/biroi_transcriptome.pkl\n"
     ]
    }
   ],
   "source": [
    "genome_path = \"../raw-data/OBir/genome/Obir.assembly.v5.4.fasta\"\n",
    "transcriptome_path = \"../raw-data/OBir/transcriptome/RefSeq_With_GenBank_MT_And_ORs.gtf\"\n",
    "object_name = \"../raw-data/OBir/transcriptome/biroi_transcriptome\"\n",
    "update_transcriptome_object(genome_path, transcriptome_path, object_name, other_fields=['gene_biotype', 'transcript_biotype']) \n"
   ]
  },
  {
   "cell_type": "code",
   "execution_count": 7,
   "metadata": {},
   "outputs": [],
   "source": [
    "object_name = \"../raw-data/OBir/transcriptome/biroi_transcriptome\"\n",
    "tr = load_transcriptome_object(object_name)"
   ]
  },
  {
   "cell_type": "code",
   "execution_count": 8,
   "metadata": {},
   "outputs": [],
   "source": [
    "check_exons_contain_all_features(tr)"
   ]
  },
  {
   "cell_type": "code",
   "execution_count": 9,
   "metadata": {},
   "outputs": [
    {
     "data": {
      "text/plain": [
       "343"
      ]
     },
     "execution_count": 9,
     "metadata": {},
     "output_type": "execute_result"
    }
   ],
   "source": [
    "# Look for genes with zero transcripts - these are all pseudogenes\n",
    "genes_no_transcripts = []\n",
    "for gene_name in tr.genes.keys():\n",
    "    if len(tr.get_gene(gene_name).transcripts) == 0:\n",
    "        genes_no_transcripts.append(gene_name)\n",
    "len(genes_no_transcripts)"
   ]
  },
  {
   "cell_type": "code",
   "execution_count": 10,
   "metadata": {},
   "outputs": [
    {
     "data": {
      "text/plain": [
       "1424"
      ]
     },
     "execution_count": 10,
     "metadata": {},
     "output_type": "execute_result"
    }
   ],
   "source": [
    "lncRNAs = [gene for gene in list(tr.genes.keys()) if tr.get_gene(gene).transcript_biotype == 'lnc_RNA']\n",
    "len(lncRNAs)"
   ]
  },
  {
   "cell_type": "markdown",
   "metadata": {},
   "source": [
    "# BLAST DATABASES"
   ]
  },
  {
   "cell_type": "markdown",
   "metadata": {},
   "source": [
    "Export mRNA to Fasta file"
   ]
  },
  {
   "cell_type": "code",
   "execution_count": 11,
   "metadata": {},
   "outputs": [],
   "source": [
    "output_dir = \"../raw-data/OBir/mRNA_no_introns\"\n",
    "if not os.path.exists(output_dir):\n",
    "    os.makedirs(output_dir)\n",
    "\n",
    "output_path = os.path.join(output_dir, \"mRNA_no_introns.fasta\")\n",
    "\n",
    "with open(output_path, \"w\") as output_file:\n",
    "    for gene_name in tr.genes.keys():\n",
    "        gene = tr.genes[gene_name]\n",
    "        for transcript in gene.transcripts:\n",
    "            output_file.write(f\">{transcript.name} gene={gene.name} location={transcript.chromosome}:{transcript.position[0]}-{transcript.position[1]} strand={transcript.strand} \\n{transcript.mrna_sequence} \\n\")\n"
   ]
  },
  {
   "cell_type": "markdown",
   "metadata": {},
   "source": [
    "Export mRNA (introns included) to Fasta file"
   ]
  },
  {
   "cell_type": "code",
   "execution_count": 12,
   "metadata": {},
   "outputs": [],
   "source": [
    "output_dir = \"../raw-data/OBir/mRNA_yes_introns\"\n",
    "if not os.path.exists(output_dir):\n",
    "    os.makedirs(output_dir)\n",
    "\n",
    "output_path = os.path.join(output_dir, \"mRNA_yes_introns.fasta\")\n",
    "\n",
    "with open(output_path, \"w\") as output_file:\n",
    "    for gene_name in tr.genes.keys():\n",
    "        gene = tr.genes[gene_name]\n",
    "        for transcript in gene.transcripts:\n",
    "            output_file.write(f\">{transcript.name} gene={gene.name} location={transcript.chromosome}:{transcript.position[0]}-{transcript.position[1]} strand={transcript.strand} \\n{transcript.dna_sequence} \\n\")\n"
   ]
  },
  {
   "cell_type": "markdown",
   "metadata": {},
   "source": [
    "Create Blast Databases"
   ]
  },
  {
   "cell_type": "code",
   "execution_count": 13,
   "metadata": {},
   "outputs": [
    {
     "name": "stdout",
     "output_type": "stream",
     "text": [
      "makeblastdb: 2.15.0+\n",
      " Package: blast 2.15.0, build Oct 19 2023 15:16:13\n"
     ]
    }
   ],
   "source": [
    "# Check that makeblastdb is installed\n",
    "!makeblastdb -version"
   ]
  },
  {
   "cell_type": "code",
   "execution_count": 15,
   "metadata": {},
   "outputs": [
    {
     "name": "stdout",
     "output_type": "stream",
     "text": [
      "\n",
      "\n",
      "Building a new DB, current time: 04/22/2025 18:56:44\n",
      "New DB name:   /Users/giacomo.glotzer/Desktop/Rockefeller/Kronauer/lncRNA Paper/code/raw-data/OBir/mRNA_no_introns/mRNA_no_introns\n",
      "New DB title:  ../raw-data/OBir/mRNA_no_introns/mRNA_no_introns.fasta\n",
      "Sequence type: Nucleotide\n",
      "Deleted existing Nucleotide BLAST database named /Users/giacomo.glotzer/Desktop/Rockefeller/Kronauer/lncRNA Paper/code/raw-data/OBir/mRNA_no_introns/mRNA_no_introns\n",
      "Keep MBits: T\n",
      "Maximum file size: 3000000000B\n",
      "Adding sequences from FASTA; added 26777 sequences in 0.847079 seconds.\n",
      "\n",
      "\n"
     ]
    },
    {
     "name": "stderr",
     "output_type": "stream",
     "text": [
      "BLAST Database error: No alias or index file found for nucleotide database [/Users/giacomo.glotzer/Desktop/Rockefeller/Kronauer/lncRNA] in search path [/Users/giacomo.glotzer/Desktop/Rockefeller/Kronauer/lncRNA Paper/code/transcriptomics::]\n"
     ]
    },
    {
     "data": {
      "text/plain": [
       "CompletedProcess(args='makeblastdb -in ../raw-data/OBir/mRNA_no_introns/mRNA_no_introns.fasta -dbtype nucl -parse_seqids -out ../raw-data/OBir/mRNA_no_introns/mRNA_no_introns', returncode=2)"
      ]
     },
     "execution_count": 15,
     "metadata": {},
     "output_type": "execute_result"
    }
   ],
   "source": [
    "# Create a BLAST database from the mRNA sequences without introns\n",
    "input_path = \"../raw-data/OBir/mRNA_no_introns/mRNA_no_introns.fasta\"\n",
    "output_path = \"../raw-data/OBir/mRNA_no_introns/mRNA_no_introns\"\n",
    "command = f\"makeblastdb -in {input_path} -dbtype nucl -parse_seqids -out {output_path}\"\n",
    "subprocess.run(command, shell=True)"
   ]
  },
  {
   "cell_type": "code",
   "execution_count": 17,
   "metadata": {},
   "outputs": [
    {
     "name": "stdout",
     "output_type": "stream",
     "text": [
      "\n",
      "\n",
      "Building a new DB, current time: 04/22/2025 18:57:10\n",
      "New DB name:   /Users/giacomo.glotzer/Desktop/Rockefeller/Kronauer/lncRNA Paper/code/raw-data/OBir/mRNA_yes_introns/mRNA_yes_introns\n",
      "New DB title:  ../raw-data/OBir/mRNA_yes_introns/mRNA_yes_introns.fasta\n",
      "Sequence type: Nucleotide\n",
      "Keep MBits: T\n",
      "Maximum file size: 3000000000B\n",
      "Adding sequences from FASTA; added 26777 sequences in 2.3002 seconds.\n",
      "\n",
      "\n"
     ]
    },
    {
     "name": "stderr",
     "output_type": "stream",
     "text": [
      "BLAST Database error: No alias or index file found for nucleotide database [/Users/giacomo.glotzer/Desktop/Rockefeller/Kronauer/lncRNA] in search path [/Users/giacomo.glotzer/Desktop/Rockefeller/Kronauer/lncRNA Paper/code/transcriptomics::]\n"
     ]
    },
    {
     "data": {
      "text/plain": [
       "CompletedProcess(args='makeblastdb -in ../raw-data/OBir/mRNA_yes_introns/mRNA_yes_introns.fasta -dbtype nucl -parse_seqids -out ../raw-data/OBir/mRNA_yes_introns/mRNA_yes_introns', returncode=2)"
      ]
     },
     "execution_count": 17,
     "metadata": {},
     "output_type": "execute_result"
    }
   ],
   "source": [
    "# Create a BLAST database from the mRNA sequences with introns \n",
    "input_path = \"../raw-data/OBir/mRNA_yes_introns/mRNA_yes_introns.fasta\"\n",
    "output_path = \"../raw-data/OBir/mRNA_yes_introns/mRNA_yes_introns\"\n",
    "command = f\"makeblastdb -in {input_path} -dbtype nucl -parse_seqids -out {output_path}\"\n",
    "subprocess.run(command, shell=True)"
   ]
  },
  {
   "cell_type": "code",
   "execution_count": null,
   "metadata": {},
   "outputs": [],
   "source": []
  }
 ],
 "metadata": {
  "kernelspec": {
   "display_name": "antman",
   "language": "python",
   "name": "python3"
  },
  "language_info": {
   "codemirror_mode": {
    "name": "ipython",
    "version": 3
   },
   "file_extension": ".py",
   "mimetype": "text/x-python",
   "name": "python",
   "nbconvert_exporter": "python",
   "pygments_lexer": "ipython3",
   "version": "3.12.2"
  }
 },
 "nbformat": 4,
 "nbformat_minor": 2
}

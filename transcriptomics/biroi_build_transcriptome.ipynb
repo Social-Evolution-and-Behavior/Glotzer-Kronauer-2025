{
 "cells": [
  {
   "cell_type": "code",
   "execution_count": 1,
   "metadata": {},
   "outputs": [
    {
     "name": "stdout",
     "output_type": "stream",
     "text": [
      "Initializing transcriptomics package\n"
     ]
    }
   ],
   "source": [
    "import os \n",
    "import subprocess\n",
    "from transcriptomics import * "
   ]
  },
  {
   "cell_type": "markdown",
   "metadata": {},
   "source": [
    "# O biroi"
   ]
  },
  {
   "cell_type": "markdown",
   "metadata": {},
   "source": [
    "Build transcriptome object "
   ]
  },
  {
   "cell_type": "code",
   "execution_count": 2,
   "metadata": {},
   "outputs": [
    {
     "name": "stdout",
     "output_type": "stream",
     "text": [
      "Found 14255 unique genes.\n"
     ]
    },
    {
     "name": "stderr",
     "output_type": "stream",
     "text": [
      "100%|██████████| 14255/14255 [00:22<00:00, 644.41it/s] \n"
     ]
    },
    {
     "name": "stdout",
     "output_type": "stream",
     "text": [
      "Transcriptome(genes=14153)\n",
      "Transcriptome object has been updated and saved to biroi_transcriptome.pkl\n"
     ]
    }
   ],
   "source": [
    "genome_path = \"/Users/giacomo.glotzer/Desktop/Rockefeller/Kronauer/genome/Obir.assembly.v5.4.fasta\"\n",
    "transcriptome_path = \"/Users/giacomo.glotzer/Desktop/Rockefeller/Kronauer/transcriptome/GTF/RefSeq_With_GenBank_MT_And_ORs.gtf\"\n",
    "object_name = \"biroi_transcriptome\"\n",
    "update_transcriptome_object(genome_path, transcriptome_path, object_name, other_fields=['gene_biotype', 'transcript_biotype']) \n"
   ]
  },
  {
   "cell_type": "code",
   "execution_count": 11,
   "metadata": {},
   "outputs": [],
   "source": [
    "object_name = \"biroi_transcriptome\"\n",
    "tr = load_transcriptome_object(object_name)"
   ]
  },
  {
   "cell_type": "code",
   "execution_count": 14,
   "metadata": {},
   "outputs": [
    {
     "data": {
      "text/plain": [
       "[CDS(transcript=gnl|WGS:QOIP|geneOr5-L16-RA, Chr12:8748132-8748919, strand=+),\n",
       " CDS(transcript=gnl|WGS:QOIP|geneOr5-L16-RA, Chr12:8749267-8749366, strand=+),\n",
       " CDS(transcript=gnl|WGS:QOIP|geneOr5-L16-RA, Chr12:8749626-8749736, strand=+),\n",
       " CDS(transcript=gnl|WGS:QOIP|geneOr5-L16-RA, Chr12:8749882-8750037, strand=+),\n",
       " CDS(transcript=gnl|WGS:QOIP|geneOr5-L16-RA, Chr12:8750266-8750319, strand=+)]"
      ]
     },
     "execution_count": 14,
     "metadata": {},
     "output_type": "execute_result"
    }
   ],
   "source": [
    "tr.get_gene(\"Or5-L16\").get_transcript_longest_cds().cds"
   ]
  },
  {
   "cell_type": "code",
   "execution_count": 4,
   "metadata": {},
   "outputs": [],
   "source": [
    "check_exons_contain_all_features(tr)"
   ]
  },
  {
   "cell_type": "code",
   "execution_count": 5,
   "metadata": {},
   "outputs": [
    {
     "data": {
      "text/plain": [
       "343"
      ]
     },
     "execution_count": 5,
     "metadata": {},
     "output_type": "execute_result"
    }
   ],
   "source": [
    "# Look for genes with zero transcripts - these are all pseudogenes\n",
    "genes_no_transcripts = []\n",
    "for gene_name in tr.genes.keys():\n",
    "    if len(tr.get_gene(gene_name).transcripts) == 0:\n",
    "        genes_no_transcripts.append(gene_name)\n",
    "len(genes_no_transcripts)"
   ]
  },
  {
   "cell_type": "code",
   "execution_count": 10,
   "metadata": {},
   "outputs": [
    {
     "data": {
      "text/plain": [
       "1424"
      ]
     },
     "execution_count": 10,
     "metadata": {},
     "output_type": "execute_result"
    }
   ],
   "source": [
    "lncRNAs = [gene for gene in list(tr.genes.keys()) if tr.get_gene(gene).transcript_biotype == 'lnc_RNA']\n",
    "len(lncRNAs)"
   ]
  },
  {
   "cell_type": "markdown",
   "metadata": {},
   "source": [
    "Export csv of all transcripts, genes, chromosomes, start and end "
   ]
  },
  {
   "cell_type": "code",
   "execution_count": 8,
   "metadata": {},
   "outputs": [
    {
     "data": {
      "text/html": [
       "<div>\n",
       "<style scoped>\n",
       "    .dataframe tbody tr th:only-of-type {\n",
       "        vertical-align: middle;\n",
       "    }\n",
       "\n",
       "    .dataframe tbody tr th {\n",
       "        vertical-align: top;\n",
       "    }\n",
       "\n",
       "    .dataframe thead th {\n",
       "        text-align: right;\n",
       "    }\n",
       "</style>\n",
       "<table border=\"1\" class=\"dataframe\">\n",
       "  <thead>\n",
       "    <tr style=\"text-align: right;\">\n",
       "      <th></th>\n",
       "      <th>gene_name</th>\n",
       "      <th>chromosome</th>\n",
       "      <th>strand</th>\n",
       "      <th>num_transcripts</th>\n",
       "      <th>start</th>\n",
       "      <th>end</th>\n",
       "    </tr>\n",
       "  </thead>\n",
       "  <tbody>\n",
       "    <tr>\n",
       "      <th>0</th>\n",
       "      <td>CSP10.2</td>\n",
       "      <td>Chr13</td>\n",
       "      <td>+</td>\n",
       "      <td>1</td>\n",
       "      <td>1251897</td>\n",
       "      <td>1257450</td>\n",
       "    </tr>\n",
       "    <tr>\n",
       "      <th>1</th>\n",
       "      <td>Csp1</td>\n",
       "      <td>Chr10</td>\n",
       "      <td>-</td>\n",
       "      <td>1</td>\n",
       "      <td>2992852</td>\n",
       "      <td>2994140</td>\n",
       "    </tr>\n",
       "    <tr>\n",
       "      <th>2</th>\n",
       "      <td>Csp10</td>\n",
       "      <td>Chr13</td>\n",
       "      <td>+</td>\n",
       "      <td>1</td>\n",
       "      <td>1227032</td>\n",
       "      <td>1231037</td>\n",
       "    </tr>\n",
       "    <tr>\n",
       "      <th>3</th>\n",
       "      <td>Csp11</td>\n",
       "      <td>Chr10</td>\n",
       "      <td>+</td>\n",
       "      <td>1</td>\n",
       "      <td>8970673</td>\n",
       "      <td>8972214</td>\n",
       "    </tr>\n",
       "    <tr>\n",
       "      <th>4</th>\n",
       "      <td>Csp12</td>\n",
       "      <td>Chr5</td>\n",
       "      <td>+</td>\n",
       "      <td>1</td>\n",
       "      <td>13419564</td>\n",
       "      <td>13420947</td>\n",
       "    </tr>\n",
       "    <tr>\n",
       "      <th>...</th>\n",
       "      <td>...</td>\n",
       "      <td>...</td>\n",
       "      <td>...</td>\n",
       "      <td>...</td>\n",
       "      <td>...</td>\n",
       "      <td>...</td>\n",
       "    </tr>\n",
       "    <tr>\n",
       "      <th>14148</th>\n",
       "      <td>Trnay-gua_3</td>\n",
       "      <td>Chr8</td>\n",
       "      <td>+</td>\n",
       "      <td>1</td>\n",
       "      <td>9477506</td>\n",
       "      <td>9477604</td>\n",
       "    </tr>\n",
       "    <tr>\n",
       "      <th>14149</th>\n",
       "      <td>Trnay-gua_4</td>\n",
       "      <td>Chr8</td>\n",
       "      <td>+</td>\n",
       "      <td>1</td>\n",
       "      <td>9477679</td>\n",
       "      <td>9477777</td>\n",
       "    </tr>\n",
       "    <tr>\n",
       "      <th>14150</th>\n",
       "      <td>Trnay-gua_5</td>\n",
       "      <td>Chr8</td>\n",
       "      <td>+</td>\n",
       "      <td>1</td>\n",
       "      <td>9477853</td>\n",
       "      <td>9477951</td>\n",
       "    </tr>\n",
       "    <tr>\n",
       "      <th>14151</th>\n",
       "      <td>Trnay-gua_6</td>\n",
       "      <td>Chr8</td>\n",
       "      <td>+</td>\n",
       "      <td>1</td>\n",
       "      <td>9478429</td>\n",
       "      <td>9478525</td>\n",
       "    </tr>\n",
       "    <tr>\n",
       "      <th>14152</th>\n",
       "      <td>Trnay-gua_7</td>\n",
       "      <td>Chr8</td>\n",
       "      <td>+</td>\n",
       "      <td>1</td>\n",
       "      <td>9478815</td>\n",
       "      <td>9478915</td>\n",
       "    </tr>\n",
       "  </tbody>\n",
       "</table>\n",
       "<p>13810 rows × 6 columns</p>\n",
       "</div>"
      ],
      "text/plain": [
       "         gene_name chromosome strand  num_transcripts     start       end\n",
       "0          CSP10.2      Chr13      +                1   1251897   1257450\n",
       "1             Csp1      Chr10      -                1   2992852   2994140\n",
       "2            Csp10      Chr13      +                1   1227032   1231037\n",
       "3            Csp11      Chr10      +                1   8970673   8972214\n",
       "4            Csp12       Chr5      +                1  13419564  13420947\n",
       "...            ...        ...    ...              ...       ...       ...\n",
       "14148  Trnay-gua_3       Chr8      +                1   9477506   9477604\n",
       "14149  Trnay-gua_4       Chr8      +                1   9477679   9477777\n",
       "14150  Trnay-gua_5       Chr8      +                1   9477853   9477951\n",
       "14151  Trnay-gua_6       Chr8      +                1   9478429   9478525\n",
       "14152  Trnay-gua_7       Chr8      +                1   9478815   9478915\n",
       "\n",
       "[13810 rows x 6 columns]"
      ]
     },
     "execution_count": 8,
     "metadata": {},
     "output_type": "execute_result"
    }
   ],
   "source": [
    "import pandas as pd\n",
    "all_genes = list(tr.genes.keys())\n",
    "df = pd.DataFrame(all_genes, columns=['gene_name'])\n",
    "df['chromosome'] = [tr.get_gene(gene).chromosome for gene in all_genes]\n",
    "df['strand'] = [tr.get_gene(gene).strand for gene in all_genes]\n",
    "df['num_transcripts'] = [len(tr.get_gene(gene).transcripts) for gene in all_genes]\n",
    "df = df[df['num_transcripts'] > 0]\n",
    "df['start'] = df['gene_name'].apply(lambda x: tr.get_gene(x).get_transcript_longest_bounds().get_bounds()[0])\n",
    "df['end'] = df['gene_name'].apply(lambda x: tr.get_gene(x).get_transcript_longest_bounds().get_bounds()[1])\n",
    "df"
   ]
  },
  {
   "cell_type": "code",
   "execution_count": 9,
   "metadata": {},
   "outputs": [],
   "source": [
    "df.to_csv(\"/Users/giacomo.glotzer/Desktop/Rockefeller/Kronauer/transcriptome/all-genes/OBir_gene_db.csv\", index=False)"
   ]
  },
  {
   "cell_type": "markdown",
   "metadata": {},
   "source": [
    "Export mRNA to Fasta file"
   ]
  },
  {
   "cell_type": "code",
   "execution_count": 13,
   "metadata": {},
   "outputs": [],
   "source": [
    "output_dir = \"/Users/giacomo.glotzer/Desktop/Rockefeller/Kronauer/transcriptome/mRNA_no_introns\"\n",
    "if not os.path.exists(output_dir):\n",
    "    os.makedirs(output_dir)\n",
    "\n",
    "output_path = os.path.join(output_dir, \"mRNA_no_introns.fasta\")\n",
    "\n",
    "with open(output_path, \"w\") as output_file:\n",
    "    for gene_name in tr.genes.keys():\n",
    "        gene = tr.genes[gene_name]\n",
    "        for transcript in gene.transcripts:\n",
    "            output_file.write(f\">{transcript.name} gene={gene.name} location={transcript.chromosome}:{transcript.position[0]}-{transcript.position[1]} strand={transcript.strand} \\n{transcript.mrna_sequence} \\n\")\n"
   ]
  },
  {
   "cell_type": "markdown",
   "metadata": {},
   "source": [
    "Export mRNA (introns included) to Fasta file"
   ]
  },
  {
   "cell_type": "code",
   "execution_count": 14,
   "metadata": {},
   "outputs": [],
   "source": [
    "output_dir = \"/Users/giacomo.glotzer/Desktop/Rockefeller/Kronauer/transcriptome/mRNA_yes_introns\"\n",
    "if not os.path.exists(output_dir):\n",
    "    os.makedirs(output_dir)\n",
    "\n",
    "output_path = os.path.join(output_dir, \"mRNA_yes_introns.fasta\")\n",
    "\n",
    "with open(output_path, \"w\") as output_file:\n",
    "    for gene_name in tr.genes.keys():\n",
    "        gene = tr.genes[gene_name]\n",
    "        for transcript in gene.transcripts:\n",
    "            output_file.write(f\">{transcript.name} gene={gene.name} location={transcript.chromosome}:{transcript.position[0]}-{transcript.position[1]} strand={transcript.strand} \\n{transcript.dna_sequence} \\n\")\n"
   ]
  },
  {
   "cell_type": "markdown",
   "metadata": {},
   "source": [
    "Create Blast Databases"
   ]
  },
  {
   "cell_type": "code",
   "execution_count": 15,
   "metadata": {},
   "outputs": [
    {
     "name": "stdout",
     "output_type": "stream",
     "text": [
      "makeblastdb: 2.15.0+\n",
      " Package: blast 2.15.0, build Oct 19 2023 15:16:13\n"
     ]
    }
   ],
   "source": [
    "# Check that makeblastdb is installed\n",
    "!makeblastdb -version"
   ]
  },
  {
   "cell_type": "code",
   "execution_count": 16,
   "metadata": {},
   "outputs": [
    {
     "name": "stdout",
     "output_type": "stream",
     "text": [
      "\n",
      "\n",
      "Building a new DB, current time: 11/09/2024 14:54:15\n",
      "New DB name:   /Users/giacomo.glotzer/Desktop/Rockefeller/Kronauer/transcriptome/mRNA_no_introns/mRNA_no_introns\n",
      "New DB title:  /Users/giacomo.glotzer/Desktop/Rockefeller/Kronauer/transcriptome/mRNA_no_introns/mRNA_no_introns.fasta\n",
      "Sequence type: Nucleotide\n",
      "Deleted existing Nucleotide BLAST database named /Users/giacomo.glotzer/Desktop/Rockefeller/Kronauer/transcriptome/mRNA_no_introns/mRNA_no_introns\n",
      "Keep MBits: T\n",
      "Maximum file size: 3000000000B\n",
      "Adding sequences from FASTA; added 26777 sequences in 0.814745 seconds.\n",
      "\n",
      "\n"
     ]
    },
    {
     "data": {
      "text/plain": [
       "CompletedProcess(args='makeblastdb -in /Users/giacomo.glotzer/Desktop/Rockefeller/Kronauer/transcriptome/mRNA_no_introns/mRNA_no_introns.fasta -dbtype nucl -parse_seqids -out /Users/giacomo.glotzer/Desktop/Rockefeller/Kronauer/transcriptome/mRNA_no_introns/mRNA_no_introns', returncode=0)"
      ]
     },
     "execution_count": 16,
     "metadata": {},
     "output_type": "execute_result"
    }
   ],
   "source": [
    "input_path = \"/Users/giacomo.glotzer/Desktop/Rockefeller/Kronauer/transcriptome/mRNA_no_introns/mRNA_no_introns.fasta\"\n",
    "output_path = \"/Users/giacomo.glotzer/Desktop/Rockefeller/Kronauer/transcriptome/mRNA_no_introns/mRNA_no_introns\"\n",
    "command = f\"makeblastdb -in {input_path} -dbtype nucl -parse_seqids -out {output_path}\"\n",
    "subprocess.run(command, shell=True)"
   ]
  },
  {
   "cell_type": "code",
   "execution_count": 17,
   "metadata": {},
   "outputs": [
    {
     "name": "stdout",
     "output_type": "stream",
     "text": [
      "\n",
      "\n",
      "Building a new DB, current time: 11/09/2024 14:54:16\n",
      "New DB name:   /Users/giacomo.glotzer/Desktop/Rockefeller/Kronauer/transcriptome/mRNA_yes_introns/mRNA_yes_introns\n",
      "New DB title:  /Users/giacomo.glotzer/Desktop/Rockefeller/Kronauer/transcriptome/mRNA_yes_introns/mRNA_yes_introns.fasta\n",
      "Sequence type: Nucleotide\n",
      "Deleted existing Nucleotide BLAST database named /Users/giacomo.glotzer/Desktop/Rockefeller/Kronauer/transcriptome/mRNA_yes_introns/mRNA_yes_introns\n",
      "Keep MBits: T\n",
      "Maximum file size: 3000000000B\n",
      "Adding sequences from FASTA; added 26777 sequences in 2.2277 seconds.\n",
      "\n",
      "\n"
     ]
    },
    {
     "data": {
      "text/plain": [
       "CompletedProcess(args='makeblastdb -in /Users/giacomo.glotzer/Desktop/Rockefeller/Kronauer/transcriptome/mRNA_yes_introns/mRNA_yes_introns.fasta -dbtype nucl -parse_seqids -out /Users/giacomo.glotzer/Desktop/Rockefeller/Kronauer/transcriptome/mRNA_yes_introns/mRNA_yes_introns', returncode=0)"
      ]
     },
     "execution_count": 17,
     "metadata": {},
     "output_type": "execute_result"
    }
   ],
   "source": [
    "input_path = \"/Users/giacomo.glotzer/Desktop/Rockefeller/Kronauer/transcriptome/mRNA_yes_introns/mRNA_yes_introns.fasta\"\n",
    "output_path = \"/Users/giacomo.glotzer/Desktop/Rockefeller/Kronauer/transcriptome/mRNA_yes_introns/mRNA_yes_introns\"\n",
    "command = f\"makeblastdb -in {input_path} -dbtype nucl -parse_seqids -out {output_path}\"\n",
    "subprocess.run(command, shell=True)"
   ]
  },
  {
   "cell_type": "code",
   "execution_count": null,
   "metadata": {},
   "outputs": [],
   "source": []
  }
 ],
 "metadata": {
  "kernelspec": {
   "display_name": "antman",
   "language": "python",
   "name": "python3"
  },
  "language_info": {
   "codemirror_mode": {
    "name": "ipython",
    "version": 3
   },
   "file_extension": ".py",
   "mimetype": "text/x-python",
   "name": "python",
   "nbconvert_exporter": "python",
   "pygments_lexer": "ipython3",
   "version": "3.12.2"
  }
 },
 "nbformat": 4,
 "nbformat_minor": 2
}
